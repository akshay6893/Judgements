{
 "cells": [
  {
   "cell_type": "code",
   "execution_count": null,
   "metadata": {
    "colab": {},
    "colab_type": "code",
    "id": "_wSGFEADkq3z"
   },
   "outputs": [],
   "source": [
    "from fastai.text import *\n",
    "from pathlib import Path        "
   ]
  },
  {
   "cell_type": "code",
   "execution_count": null,
   "metadata": {
    "colab": {
     "base_uri": "https://localhost:8080/",
     "height": 122
    },
    "colab_type": "code",
    "executionInfo": {
     "elapsed": 26143,
     "status": "ok",
     "timestamp": 1589642340029,
     "user": {
      "displayName": "Akshay Tiwari",
      "photoUrl": "https://lh3.googleusercontent.com/a-/AOh14Gh_TWpk4u1Wa_FKphLjiNy_0rzD7hieOf1oU5VWeQ=s64",
      "userId": "03055594998709423173"
     },
     "user_tz": -330
    },
    "id": "qluFUy1nn0pv",
    "outputId": "f26b74b7-4072-4290-ab8b-5e3fa9084f76"
   },
   "outputs": [],
   "source": [
    "            "
   ]
  },
  {
   "cell_type": "code",
   "execution_count": null,
   "metadata": {
    "colab": {
     "base_uri": "https://localhost:8080/",
     "height": 34
    },
    "colab_type": "code",
    "executionInfo": {
     "elapsed": 1678,
     "status": "ok",
     "timestamp": 1589642602747,
     "user": {
      "displayName": "Akshay Tiwari",
      "photoUrl": "https://lh3.googleusercontent.com/a-/AOh14Gh_TWpk4u1Wa_FKphLjiNy_0rzD7hieOf1oU5VWeQ=s64",
      "userId": "03055594998709423173"
     },
     "user_tz": -330
    },
    "id": "q6_3mGaB6CNB",
    "outputId": "61b657c5-02b4-4993-abdf-6da3f2dd9ef9"
   },
   "outputs": [
    {
     "data": {
      "text/plain": [
       "str"
      ]
     },
     "execution_count": 52,
     "metadata": {
      "tags": []
     },
     "output_type": "execute_result"
    }
   ],
   "source": [
    "import pandas as pd\n",
    "data_frame = pd.read_csv('/content/drive/My Drive/Colab Notebooks/Judgements/judgement.csv',header='infer')\n",
    "ui = (data_frame.iloc[91,0]) \n",
    "type(ui)  "
   ]
  },
  {
   "cell_type": "code",
   "execution_count": null,
   "metadata": {
    "colab": {},
    "colab_type": "code",
    "id": "FP88iUk8FWmx"
   },
   "outputs": [],
   "source": []
  },
  {
   "cell_type": "markdown",
   "metadata": {
    "colab_type": "text",
    "id": "fjbFWz8nFkim"
   },
   "source": [
    "breaking the tring in peices of 5k"
   ]
  },
  {
   "cell_type": "code",
   "execution_count": null,
   "metadata": {
    "colab": {
     "base_uri": "https://localhost:8080/",
     "height": 419
    },
    "colab_type": "code",
    "executionInfo": {
     "elapsed": 12384,
     "status": "ok",
     "timestamp": 1589559404928,
     "user": {
      "displayName": "Akshay Tiwari",
      "photoUrl": "https://lh3.googleusercontent.com/a-/AOh14Gh_TWpk4u1Wa_FKphLjiNy_0rzD7hieOf1oU5VWeQ=s64",
      "userId": "03055594998709423173"
     },
     "user_tz": -330
    },
    "id": "UG9BgZ5uqsSN",
    "outputId": "a86f0c4b-e2ab-4ccf-8804-d06efe5064e3"
   },
   "outputs": [
    {
     "data": {
      "text/html": [
       "<div>\n",
       "<style scoped>\n",
       "    .dataframe tbody tr th:only-of-type {\n",
       "        vertical-align: middle;\n",
       "    }\n",
       "\n",
       "    .dataframe tbody tr th {\n",
       "        vertical-align: top;\n",
       "    }\n",
       "\n",
       "    .dataframe thead th {\n",
       "        text-align: right;\n",
       "    }\n",
       "</style>\n",
       "<table border=\"1\" class=\"dataframe\">\n",
       "  <thead>\n",
       "    <tr style=\"text-align: right;\">\n",
       "      <th></th>\n",
       "      <th>judgement</th>\n",
       "      <th>class</th>\n",
       "    </tr>\n",
       "  </thead>\n",
       "  <tbody>\n",
       "    <tr>\n",
       "      <th>0</th>\n",
       "      <td>Uday U. Lalit, J.\\nLeave granted.\\nThis appeal...</td>\n",
       "      <td>CIVIL</td>\n",
       "    </tr>\n",
       "    <tr>\n",
       "      <th>1</th>\n",
       "      <td>A.K. SIKRI, J.\\nBy our judgment dated January ...</td>\n",
       "      <td>CIVIL</td>\n",
       "    </tr>\n",
       "    <tr>\n",
       "      <th>2</th>\n",
       "      <td>KURIAN, J.:\\nLeave granted.\\nAppellant is aggr...</td>\n",
       "      <td>CRIMINAL</td>\n",
       "    </tr>\n",
       "    <tr>\n",
       "      <th>3</th>\n",
       "      <td>V. GOPALA GOWDA, J.\\nLeave granted.\\nThis crim...</td>\n",
       "      <td>CRIMINAL</td>\n",
       "    </tr>\n",
       "    <tr>\n",
       "      <th>4</th>\n",
       "      <td>J U D G M E N T KURIAN, J.:\\nThe facts unfold ...</td>\n",
       "      <td>CIVIL</td>\n",
       "    </tr>\n",
       "    <tr>\n",
       "      <th>...</th>\n",
       "      <td>...</td>\n",
       "      <td>...</td>\n",
       "    </tr>\n",
       "    <tr>\n",
       "      <th>4769</th>\n",
       "      <td>The appeal is allowed.\\n...................J.\\...</td>\n",
       "      <td>CIVIL</td>\n",
       "    </tr>\n",
       "    <tr>\n",
       "      <th>4770</th>\n",
       "      <td>M.R. SHAH, J.\\n\\n1. The issue arises for consi...</td>\n",
       "      <td>CIVIL</td>\n",
       "    </tr>\n",
       "    <tr>\n",
       "      <th>4771</th>\n",
       "      <td>of the category who, if the admission would ha...</td>\n",
       "      <td>CIVIL</td>\n",
       "    </tr>\n",
       "    <tr>\n",
       "      <th>4772</th>\n",
       "      <td>A.S. Bopanna,J.\\nLeave granted.\\n2. These appe...</td>\n",
       "      <td>CIVIL</td>\n",
       "    </tr>\n",
       "    <tr>\n",
       "      <th>4773</th>\n",
       "      <td>is also not acceptable if the entire sequence ...</td>\n",
       "      <td>CIVIL</td>\n",
       "    </tr>\n",
       "  </tbody>\n",
       "</table>\n",
       "<p>4774 rows × 2 columns</p>\n",
       "</div>"
      ],
      "text/plain": [
       "                                              judgement     class\n",
       "0     Uday U. Lalit, J.\\nLeave granted.\\nThis appeal...     CIVIL\n",
       "1     A.K. SIKRI, J.\\nBy our judgment dated January ...     CIVIL\n",
       "2     KURIAN, J.:\\nLeave granted.\\nAppellant is aggr...  CRIMINAL\n",
       "3     V. GOPALA GOWDA, J.\\nLeave granted.\\nThis crim...  CRIMINAL\n",
       "4     J U D G M E N T KURIAN, J.:\\nThe facts unfold ...     CIVIL\n",
       "...                                                 ...       ...\n",
       "4769  The appeal is allowed.\\n...................J.\\...     CIVIL\n",
       "4770  M.R. SHAH, J.\\n\\n1. The issue arises for consi...     CIVIL\n",
       "4771  of the category who, if the admission would ha...     CIVIL\n",
       "4772  A.S. Bopanna,J.\\nLeave granted.\\n2. These appe...     CIVIL\n",
       "4773  is also not acceptable if the entire sequence ...     CIVIL\n",
       "\n",
       "[4774 rows x 2 columns]"
      ]
     },
     "execution_count": 54,
     "metadata": {
      "tags": []
     },
     "output_type": "execute_result"
    }
   ],
   "source": [
    "no_of_tokens = []\n",
    "j_no = []\n",
    "for u in range(len(data_frame)):\n",
    "  c = len(data_frame['judgement'][u].split(' '))\n",
    "  if c>=5000:\n",
    "    no_of_tokens.append(c)\n",
    "    j_no.append(u)\n",
    "\n",
    "dictnry = {}\n",
    "for q in j_no:\n",
    "  tag = data_frame['class'][q]\n",
    "  i = (data_frame['judgement'][q].split(' '))\n",
    "  table = []\n",
    "  for v in range(1,268108):\n",
    "    table_element = 5000*v\n",
    "    table.append(table_element)\n",
    "    if (len(i)-table_element)<=5000:\n",
    "      table.append(len(i))\n",
    "      break\n",
    "  table\n",
    "  listy = (table[:len(table)-1])\n",
    "  listy.insert(0,0) \n",
    "  for x,y in zip(listy,table[:]):\n",
    "    string = ' '.join(i[x:y])\n",
    "    # strings.append(string)\n",
    "    # tags.append(tag)\n",
    "    dictnry['judgement'] = string\n",
    "    dictnry['class'] = tag\n",
    "    data_frame = data_frame.append(dictnry,ignore_index=True)\n",
    "for z in j_no:\n",
    "  data_frame = data_frame.drop(z)\n",
    "# for t in [1663,1808,1824,1825]:\n",
    "#   data_frame = data_frame.drop(t)\n",
    "\n",
    "data_frame = data_frame.reset_index(drop=True)\n",
    "data_frame"
   ]
  },
  {
   "cell_type": "code",
   "execution_count": null,
   "metadata": {
    "colab": {},
    "colab_type": "code",
    "id": "zclg2cm-mEM1"
   },
   "outputs": [],
   "source": [
    "data_frame.to_csv('/content/drive/My Drive/Colab Notebooks/Judgements/judgement5k.csv',index=False)   "
   ]
  },
  {
   "cell_type": "markdown",
   "metadata": {
    "colab_type": "text",
    "id": "IQ-KV4uUF3jk"
   },
   "source": [
    "These 2 code cells are for finding the big text and removing it."
   ]
  },
  {
   "cell_type": "code",
   "execution_count": null,
   "metadata": {
    "colab": {
     "base_uri": "https://localhost:8080/",
     "height": 419
    },
    "colab_type": "code",
    "executionInfo": {
     "elapsed": 1546,
     "status": "ok",
     "timestamp": 1589600360450,
     "user": {
      "displayName": "Akshay Tiwari",
      "photoUrl": "https://lh3.googleusercontent.com/a-/AOh14Gh_TWpk4u1Wa_FKphLjiNy_0rzD7hieOf1oU5VWeQ=s64",
      "userId": "03055594998709423173"
     },
     "user_tz": -330
    },
    "id": "FgtjNXoUMoYl",
    "outputId": "6558c7d8-4b38-4099-a412-153de9bc2eac"
   },
   "outputs": [
    {
     "data": {
      "text/html": [
       "<div>\n",
       "<style scoped>\n",
       "    .dataframe tbody tr th:only-of-type {\n",
       "        vertical-align: middle;\n",
       "    }\n",
       "\n",
       "    .dataframe tbody tr th {\n",
       "        vertical-align: top;\n",
       "    }\n",
       "\n",
       "    .dataframe thead th {\n",
       "        text-align: right;\n",
       "    }\n",
       "</style>\n",
       "<table border=\"1\" class=\"dataframe\">\n",
       "  <thead>\n",
       "    <tr style=\"text-align: right;\">\n",
       "      <th></th>\n",
       "      <th>judgement</th>\n",
       "      <th>class</th>\n",
       "    </tr>\n",
       "  </thead>\n",
       "  <tbody>\n",
       "    <tr>\n",
       "      <th>2860</th>\n",
       "      <td>303.\\n(b) As regards the State Legislatures, a...</td>\n",
       "      <td>CIVIL</td>\n",
       "    </tr>\n",
       "    <tr>\n",
       "      <th>2861</th>\n",
       "      <td>one State over another, or making or authorizi...</td>\n",
       "      <td>CIVIL</td>\n",
       "    </tr>\n",
       "    <tr>\n",
       "      <th>2862</th>\n",
       "      <td>or in respect of the property which is made th...</td>\n",
       "      <td>CIVIL</td>\n",
       "    </tr>\n",
       "    <tr>\n",
       "      <th>2863</th>\n",
       "      <td>majority, Justice Gajendragadkar held as under...</td>\n",
       "      <td>CIVIL</td>\n",
       "    </tr>\n",
       "    <tr>\n",
       "      <th>2864</th>\n",
       "      <td>ordinarily be grounded in protectionism and wi...</td>\n",
       "      <td>CIVIL</td>\n",
       "    </tr>\n",
       "    <tr>\n",
       "      <th>...</th>\n",
       "      <td>...</td>\n",
       "      <td>...</td>\n",
       "    </tr>\n",
       "    <tr>\n",
       "      <th>4762</th>\n",
       "      <td>The appeal is allowed.\\n...................J.\\...</td>\n",
       "      <td>CIVIL</td>\n",
       "    </tr>\n",
       "    <tr>\n",
       "      <th>4763</th>\n",
       "      <td>M.R. SHAH, J.\\n\\n1. The issue arises for consi...</td>\n",
       "      <td>CIVIL</td>\n",
       "    </tr>\n",
       "    <tr>\n",
       "      <th>4764</th>\n",
       "      <td>of the category who, if the admission would ha...</td>\n",
       "      <td>CIVIL</td>\n",
       "    </tr>\n",
       "    <tr>\n",
       "      <th>4765</th>\n",
       "      <td>A.S. Bopanna,J.\\nLeave granted.\\n2. These appe...</td>\n",
       "      <td>CIVIL</td>\n",
       "    </tr>\n",
       "    <tr>\n",
       "      <th>4766</th>\n",
       "      <td>is also not acceptable if the entire sequence ...</td>\n",
       "      <td>CIVIL</td>\n",
       "    </tr>\n",
       "  </tbody>\n",
       "</table>\n",
       "<p>1907 rows × 2 columns</p>\n",
       "</div>"
      ],
      "text/plain": [
       "                                              judgement  class\n",
       "2860  303.\\n(b) As regards the State Legislatures, a...  CIVIL\n",
       "2861  one State over another, or making or authorizi...  CIVIL\n",
       "2862  or in respect of the property which is made th...  CIVIL\n",
       "2863  majority, Justice Gajendragadkar held as under...  CIVIL\n",
       "2864  ordinarily be grounded in protectionism and wi...  CIVIL\n",
       "...                                                 ...    ...\n",
       "4762  The appeal is allowed.\\n...................J.\\...  CIVIL\n",
       "4763  M.R. SHAH, J.\\n\\n1. The issue arises for consi...  CIVIL\n",
       "4764  of the category who, if the admission would ha...  CIVIL\n",
       "4765  A.S. Bopanna,J.\\nLeave granted.\\n2. These appe...  CIVIL\n",
       "4766  is also not acceptable if the entire sequence ...  CIVIL\n",
       "\n",
       "[1907 rows x 2 columns]"
      ]
     },
     "execution_count": 42,
     "metadata": {
      "tags": []
     },
     "output_type": "execute_result"
    }
   ],
   "source": [
    "# data_frame.iloc[2860:]     \n",
    "# data_frame = data_frame.drop(2861) \n",
    "# data_frame = data_frame.reset_index(drop=True)\n",
    "# data_frame[2861:]         "
   ]
  },
  {
   "cell_type": "code",
   "execution_count": null,
   "metadata": {
    "colab": {
     "base_uri": "https://localhost:8080/",
     "height": 34
    },
    "colab_type": "code",
    "executionInfo": {
     "elapsed": 3750,
     "status": "ok",
     "timestamp": 1589642419739,
     "user": {
      "displayName": "Akshay Tiwari",
      "photoUrl": "https://lh3.googleusercontent.com/a-/AOh14Gh_TWpk4u1Wa_FKphLjiNy_0rzD7hieOf1oU5VWeQ=s64",
      "userId": "03055594998709423173"
     },
     "user_tz": -330
    },
    "id": "XI9eeCBB086Y",
    "outputId": "a4570cd1-685d-4961-e70f-3df032f2a57a"
   },
   "outputs": [
    {
     "data": {
      "text/plain": [
       "[91]"
      ]
     },
     "execution_count": 43,
     "metadata": {
      "tags": []
     },
     "output_type": "execute_result"
    }
   ],
   "source": [
    "import pandas as pd\n",
    "data_frame = pd.read_csv('/content/drive/My Drive/Colab Notebooks/Judgements/judgement.csv')\n",
    "u1 = []\n",
    "for u in range(len(data_frame)):\n",
    "  c = (data_frame['judgement'][u].split(' '))\n",
    "  for q in c:\n",
    "    if q == 'JINDAL':\n",
    "      u1.append(u)\n",
    "#   try:\n",
    "#     c[0]\n",
    "#   except Exception:\n",
    "#     continue\n",
    "#   if c[0]=='jindal':   \n",
    "#     u1.append(u)\n",
    "u1"
   ]
  },
  {
   "cell_type": "code",
   "execution_count": null,
   "metadata": {
    "colab": {},
    "colab_type": "code",
    "id": "QTKwSOMXkq4d"
   },
   "outputs": [],
   "source": [
    "path  = Path(\"/content/drive/My Drive/Colab Notebooks/Judgements/\")   \n",
    "data_bunch = TextLMDataBunch.from_csv(path,\"judgement.csv\",valid_pct=0.2,\n",
    "                 text_cols=0,label_cols=1,\n",
    "                 chunksize = 10000, max_vocab=60000, min_freq=2, \n",
    "                 include_bos=True, include_eos=True,bs=128,bptt=30)                                  "
   ]
  },
  {
   "cell_type": "code",
   "execution_count": null,
   "metadata": {
    "colab": {
     "base_uri": "https://localhost:8080/",
     "height": 54
    },
    "colab_type": "code",
    "executionInfo": {
     "elapsed": 1925,
     "status": "ok",
     "timestamp": 1589431206241,
     "user": {
      "displayName": "Akshay Tiwari",
      "photoUrl": "https://lh3.googleusercontent.com/a-/AOh14Gh_TWpk4u1Wa_FKphLjiNy_0rzD7hieOf1oU5VWeQ=s64",
      "userId": "03055594998709423173"
     },
     "user_tz": -330
    },
    "id": "Fv4xO-TYkq4v",
    "outputId": "08e88350-c298-43c9-90ad-323145994845"
   },
   "outputs": [
    {
     "name": "stdout",
     "output_type": "stream",
     "text": [
      ") 3 xxup scc 199 : 2004 xxup scc ( xxmaj cri ) 699 ] , xxup scc p. 210 , para 18 ) “ 18 . … xxmaj it would be appropriate to construe the expression ‘ husband ’ to cover a person who enters into marital relationship and under the colour of such proclaimed or feigned status of husband subjects the woman concerned to cruelty or coerces her\n"
     ]
    }
   ],
   "source": [
    "for x,y in iter(data_bunch.train_dl):\n",
    "  print(x.size())\n",
    "print((\" \").join(data_bunch.vocab.itos[o] for o in x[0]))\n",
    "torch.cuda.device_count() ## counting the number of gpu's "
   ]
  },
  {
   "cell_type": "code",
   "execution_count": null,
   "metadata": {
    "colab": {},
    "colab_type": "code",
    "id": "_VUvUddJlhPb"
   },
   "outputs": [],
   "source": []
  },
  {
   "cell_type": "code",
   "execution_count": null,
   "metadata": {
    "colab": {},
    "colab_type": "code",
    "id": "fzT3U9Y6kq48"
   },
   "outputs": [],
   "source": []
  },
  {
   "cell_type": "code",
   "execution_count": null,
   "metadata": {
    "colab": {},
    "colab_type": "code",
    "id": "wj1tDz9Qkq5H"
   },
   "outputs": [],
   "source": [
    "learner = language_model_learner(data_bunch,AWD_LSTM, pretrained=URLs.WT103_BWD, drop_mult=0.5)        "
   ]
  },
  {
   "cell_type": "code",
   "execution_count": null,
   "metadata": {
    "colab": {
     "base_uri": "https://localhost:8080/",
     "height": 373
    },
    "colab_type": "code",
    "executionInfo": {
     "elapsed": 31514,
     "status": "ok",
     "timestamp": 1589439582198,
     "user": {
      "displayName": "Akshay Tiwari",
      "photoUrl": "https://lh3.googleusercontent.com/a-/AOh14Gh_TWpk4u1Wa_FKphLjiNy_0rzD7hieOf1oU5VWeQ=s64",
      "userId": "03055594998709423173"
     },
     "user_tz": -330
    },
    "id": "2vUoAEf9kq5P",
    "outputId": "dc105f52-49cb-44ab-cb3c-fcc3b5184646"
   },
   "outputs": [
    {
     "data": {
      "text/html": [
       "\n",
       "    <div>\n",
       "        <style>\n",
       "            /* Turns off some styling */\n",
       "            progress {\n",
       "                /* gets rid of default border in Firefox and Opera. */\n",
       "                border: none;\n",
       "                /* Needs to be in here for Safari polyfill so background images work as expected. */\n",
       "                background-size: auto;\n",
       "            }\n",
       "            .progress-bar-interrupted, .progress-bar-interrupted::-webkit-progress-bar {\n",
       "                background: #F44336;\n",
       "            }\n",
       "        </style>\n",
       "      <progress value='0' class='' max='1' style='width:300px; height:20px; vertical-align: middle;'></progress>\n",
       "      0.00% [0/1 00:00<00:00]\n",
       "    </div>\n",
       "    \n",
       "<table border=\"1\" class=\"dataframe\">\n",
       "  <thead>\n",
       "    <tr style=\"text-align: left;\">\n",
       "      <th>epoch</th>\n",
       "      <th>train_loss</th>\n",
       "      <th>valid_loss</th>\n",
       "      <th>accuracy</th>\n",
       "      <th>time</th>\n",
       "    </tr>\n",
       "  </thead>\n",
       "  <tbody>\n",
       "  </tbody>\n",
       "</table><p>\n",
       "\n",
       "    <div>\n",
       "        <style>\n",
       "            /* Turns off some styling */\n",
       "            progress {\n",
       "                /* gets rid of default border in Firefox and Opera. */\n",
       "                border: none;\n",
       "                /* Needs to be in here for Safari polyfill so background images work as expected. */\n",
       "                background-size: auto;\n",
       "            }\n",
       "            .progress-bar-interrupted, .progress-bar-interrupted::-webkit-progress-bar {\n",
       "                background: #F44336;\n",
       "            }\n",
       "        </style>\n",
       "      <progress value='99' class='' max='3771' style='width:300px; height:20px; vertical-align: middle;'></progress>\n",
       "      2.63% [99/3771 00:28<17:36 10.5728]\n",
       "    </div>\n",
       "    "
      ],
      "text/plain": [
       "<IPython.core.display.HTML object>"
      ]
     },
     "metadata": {
      "tags": []
     },
     "output_type": "display_data"
    },
    {
     "name": "stdout",
     "output_type": "stream",
     "text": [
      "LR Finder is complete, type {learner_name}.recorder.plot() to see the graph.\n"
     ]
    },
    {
     "data": {
      "image/png": "[encoded data removed]",
      "text/plain": [
       "<Figure size 432x288 with 1 Axes>"
      ]
     },
     "metadata": {
      "needs_background": "light",
      "tags": []
     },
     "output_type": "display_data"
    }
   ],
   "source": [
    "learner.lr_find()\n",
    "learner.recorder.plot()                "
   ]
  },
  {
   "cell_type": "code",
   "execution_count": null,
   "metadata": {
    "colab": {
     "base_uri": "https://localhost:8080/",
     "height": 111
    },
    "colab_type": "code",
    "executionInfo": {
     "elapsed": 2726646,
     "status": "ok",
     "timestamp": 1589442319758,
     "user": {
      "displayName": "Akshay Tiwari",
      "photoUrl": "https://lh3.googleusercontent.com/a-/AOh14Gh_TWpk4u1Wa_FKphLjiNy_0rzD7hieOf1oU5VWeQ=s64",
      "userId": "03055594998709423173"
     },
     "user_tz": -330
    },
    "id": "0tFf-0-fkq5W",
    "outputId": "bb9406d2-c73e-4bcf-8522-351950937f19"
   },
   "outputs": [
    {
     "data": {
      "text/html": [
       "<table border=\"1\" class=\"dataframe\">\n",
       "  <thead>\n",
       "    <tr style=\"text-align: left;\">\n",
       "      <th>epoch</th>\n",
       "      <th>train_loss</th>\n",
       "      <th>valid_loss</th>\n",
       "      <th>accuracy</th>\n",
       "      <th>time</th>\n",
       "    </tr>\n",
       "  </thead>\n",
       "  <tbody>\n",
       "    <tr>\n",
       "      <td>0</td>\n",
       "      <td>3.371925</td>\n",
       "      <td>3.498457</td>\n",
       "      <td>0.379976</td>\n",
       "      <td>22:37</td>\n",
       "    </tr>\n",
       "    <tr>\n",
       "      <td>1</td>\n",
       "      <td>3.342159</td>\n",
       "      <td>3.307318</td>\n",
       "      <td>0.398771</td>\n",
       "      <td>22:46</td>\n",
       "    </tr>\n",
       "  </tbody>\n",
       "</table>"
      ],
      "text/plain": [
       "<IPython.core.display.HTML object>"
      ]
     },
     "metadata": {
      "tags": []
     },
     "output_type": "display_data"
    }
   ],
   "source": [
    "learner.fit_one_cycle(2,1e-02)                         "
   ]
  },
  {
   "cell_type": "code",
   "execution_count": null,
   "metadata": {
    "colab": {
     "base_uri": "https://localhost:8080/",
     "height": 34
    },
    "colab_type": "code",
    "executionInfo": {
     "elapsed": 2227,
     "status": "ok",
     "timestamp": 1589442540319,
     "user": {
      "displayName": "Akshay Tiwari",
      "photoUrl": "https://lh3.googleusercontent.com/a-/AOh14Gh_TWpk4u1Wa_FKphLjiNy_0rzD7hieOf1oU5VWeQ=s64",
      "userId": "03055594998709423173"
     },
     "user_tz": -330
    },
    "id": "nbzvzNuTnMzu",
    "outputId": "b789ce70-9271-4a56-d6b9-7a7bb683911d"
   },
   "outputs": [
    {
     "data": {
      "text/plain": [
       "'has been xxbos Dipak Misra , CJI . this'"
      ]
     },
     "execution_count": 9,
     "metadata": {
      "tags": []
     },
     "output_type": "execute_result"
    }
   ],
   "source": [
    "learner.predict(\"has been\",n_words=10)                                                                                  "
   ]
  },
  {
   "cell_type": "code",
   "execution_count": null,
   "metadata": {
    "colab": {},
    "colab_type": "code",
    "id": "DVO7apEBKmoz"
   },
   "outputs": [],
   "source": [
    "learner.save_encoder('fine_enc')                 "
   ]
  },
  {
   "cell_type": "code",
   "execution_count": null,
   "metadata": {
    "colab": {
     "base_uri": "https://localhost:8080/",
     "height": 17
    },
    "colab_type": "code",
    "executionInfo": {
     "elapsed": 108702,
     "status": "ok",
     "timestamp": 1589643528202,
     "user": {
      "displayName": "Akshay Tiwari",
      "photoUrl": "https://lh3.googleusercontent.com/a-/AOh14Gh_TWpk4u1Wa_FKphLjiNy_0rzD7hieOf1oU5VWeQ=s64",
      "userId": "03055594998709423173"
     },
     "user_tz": -330
    },
    "id": "h05cWl9hopee",
    "outputId": "90fc9da8-e3c8-4b45-9f4a-f1d1e379d80f"
   },
   "outputs": [
    {
     "data": {
      "text/html": [],
      "text/plain": [
       "<IPython.core.display.HTML object>"
      ]
     },
     "metadata": {
      "tags": []
     },
     "output_type": "display_data"
    },
    {
     "data": {
      "text/html": [],
      "text/plain": [
       "<IPython.core.display.HTML object>"
      ]
     },
     "metadata": {
      "tags": []
     },
     "output_type": "display_data"
    }
   ],
   "source": [
    "path  = Path(\"/content/drive/My Drive/Colab Notebooks/Judgements/\")   \n",
    "data_clas = TextClasDataBunch.from_csv(path,\"judgement5k.csv\",valid_pct=0.2, \n",
    "                 text_cols=0, label_cols=1,\n",
    "                 chunksize = 5000, max_vocab=60000, min_freq=2, \n",
    "                 include_bos=True, include_eos=True,bs=16)                                                                                            "
   ]
  },
  {
   "cell_type": "code",
   "execution_count": null,
   "metadata": {
    "colab": {
     "base_uri": "https://localhost:8080/",
     "height": 1000
    },
    "colab_type": "code",
    "executionInfo": {
     "elapsed": 26153,
     "status": "ok",
     "timestamp": 1589643554358,
     "user": {
      "displayName": "Akshay Tiwari",
      "photoUrl": "https://lh3.googleusercontent.com/a-/AOh14Gh_TWpk4u1Wa_FKphLjiNy_0rzD7hieOf1oU5VWeQ=s64",
      "userId": "03055594998709423173"
     },
     "user_tz": -330
    },
    "id": "VWkKrpm2p_T0",
    "outputId": "7dace1b8-1896-48a5-d4e7-da916bd0f143"
   },
   "outputs": [
    {
     "name": "stdout",
     "output_type": "stream",
     "text": [
      "Downloading https://s3.amazonaws.com/fast-ai-modelzoo/wt103-fwd.tgz\n"
     ]
    },
    {
     "data": {
      "text/html": [],
      "text/plain": [
       "<IPython.core.display.HTML object>"
      ]
     },
     "metadata": {
      "tags": []
     },
     "output_type": "display_data"
    },
    {
     "data": {
      "text/plain": [
       "RNNLearner(data=TextClasDataBunch;\n",
       "\n",
       "Train: LabelList (3813 items)\n",
       "x: TextList\n",
       "xxbos xxmaj prafulla xxup c. xxmaj pant , xxup j. \n",
       "  xxmaj this appeal is directed against judgment and order dated 02.04.2014 , passed by the xxmaj high xxmaj court of xxmaj punjab and xxmaj haryana in xxmaj criminal xxmaj appeal xxmaj no . xxup xxunk xxup db of 2002 whereby said xxmaj court has dismissed the appeal affirming the conviction and sentence under xxmaj section 302 / 34 xxup ipc , against accused / appellants xxmaj pawan @ xxmaj rajinder xxmaj singh and xxmaj ajit @ xxmaj dara xxmaj singh , recorded by the xxmaj additional xxmaj sessions xxmaj judge , xxmaj fast xxmaj track xxmaj court xxmaj no . 1 , xxmaj faridabad . xxmaj the xxmaj high xxmaj court has further affirmed the conviction and sentence recorded against accused / appellant xxmaj ajit @ xxmaj dara xxmaj singh under xxmaj section 25 of the xxmaj arms xxmaj act , 1959 . \n",
       "  xxmaj heard learned counsel for the parties and perused the record of the case . \n",
       "  xxmaj prosecution story , in brief , is that xxmaj deepak ( deceased ) was elder brother of xxup pw-6 xxmaj amit xxmaj kumar ( complainant ) . xxmaj amit xxmaj kumar had a business of selling flowers , and his elder brother used to do the delivery work . xxmaj their neighbour xxmaj gola ( not examined ) had taken a loan of ? 10,000 / - on interest from accused xxmaj pawan , and he ( the debtor ) had returned the same except ? 250 / - . xxmaj on 09.11.2000 at about 8.30 p.m. accused xxmaj pawan @ xxmaj rajinder xxmaj singh and his cousin accused xxmaj ajit @ xxmaj dara xxmaj singh demanded remaining ? 250 / - from xxmaj gola to which the deceased requested them to waive the said amount due to which some altercation took place between the deceased and the two accused . xxmaj about half an hour thereafter both the accused came back on a scooter , and xxmaj deepak ( deceased ) also left with them but on his separate scooter bearing registration xxmaj no . xxup hr 51 xxup xxunk . xxmaj deepak did not return till late night . xxmaj on this , xxup pw-6 xxmaj amit xxmaj kumar and his father xxmaj ram xxmaj nath started search for him . xxmaj in the next morning they came to know that dead body of a person is lying near xxmaj air xxmaj force ground . xxmaj both , father and son went there and saw that it was the dead body of xxmaj deepak . xxmaj suspecting that appellants xxmaj pawan @ xxmaj rajinder xxmaj singh and xxmaj ajit @ xxmaj dara xxmaj singh had committed the murder , a report ( xxmaj ex xxup xxunk ) was given to the police in the early hours of 10.11.2000 mentioning their names . xxmaj on the basis of said report , xxmaj first xxmaj information xxmaj report xxmaj no . 803 dated 10.11.2000 ( xxmaj ex . xxup pk ) was registered at xxmaj police xxmaj station , xxup n.i.t. , xxmaj faridabad . \n",
       "  xxmaj investigation was initiated by xxup pw-9 xxup asi xxmaj jai xxmaj singh , and later xxup pw-12 xxmaj inspector xxmaj raj xxmaj pal xxmaj singh took over the same . xxup pw-9 xxup asi xxmaj jai xxmaj singh , after taking the dead body in his possession , got the inquest report ( xxmaj ex . xxup xxunk ) and site plan ( xxmaj ex . xxup pm ) prepared . xxmaj an empty cartridge was also recovered from the place of incident . xxup pw-12 xxmaj inspector xxmaj raj xxmaj pal xxmaj singh , xxmaj investigating xxmaj officer got sent the empty cartridge to xxmaj forensic xxmaj science xxmaj laboratory for examination . xxmaj he also took the blood stained earth from the spot . xxmaj he interrogated the witnesses . xxmaj meanwhile , xxup pw-1 xxmaj dr. xxup d.s. xxmaj rathi , along with xxmaj dr. xxmaj sunita xxmaj gupta and xxmaj dr. xxup p.s. xxmaj yadav , conducted the post mortem examination on 10.11.2000 at about 5.00 p.m. xxmaj in the autopsy report ( xxmaj ex . xxup pl ) following ante mortem injury is mentioned : - \n",
       "  “ a circular circumscribed wound 2.5 c.m . x 2.5 c.m . in diameter and 2 c.m . from middle of chest on left side at level of 10th rib . xxmaj on probing going downward posteriorly , blackening and xxunk present around the wound , margins inverted . xxmaj on examination few pellets found embedded , underneath the skin and soft tissues . xxmaj on dissection the pleural cavity contained blood . a few metallic pellets found inside in left chest and pleural cavity , removed . xxmaj on further dissection hole in stomach also present . xxmaj on further examination a foreign body of rounded shape 2 c.m . in size was found and removed . xxmaj the pellets and the foreign body sealed in a vial . ” xxmaj during investigation , the xxmaj investigating xxmaj officer arrested both the accused , and on their disclosure scooter bearing registration xxmaj no . xxup hr 51 c 1609 was recovered from their house . xxmaj the prosecution case is that a country made pistol was also recovered on the disclosure statement ( xxmaj ex . xxup pk ) made by accused xxmaj ajit @ xxmaj dara xxmaj singh . a broken butt of the pistol was said to have been found from the place of incident . xxmaj after completion of investigation charge sheet was filed by the xxmaj investigating xxmaj officer against both the accused . \n",
       "  xxmaj on committal , after framing charge , the trial court recorded evidence . xxmaj prosecution got examined xxup pw-1 xxmaj dr. xxup d.s. xxmaj rathi , xxup pw-2 xxup xxunk xxmaj hari xxmaj chand , xxup pw-3 xxmaj constable xxmaj manoj xxmaj kumar , xxup pw-4 xxmaj pappu , xxup pw-5 xxmaj surender xxmaj singh , xxup pw-6 xxmaj amit xxmaj kumar , xxup pw- 7 xxmaj ram xxmaj nath , xxup pw-8 xxmaj constable xxmaj ash xxmaj mohd . , xxup pw-9 xxup asi xxmaj jai xxmaj singh , xxup pw-10 xxup asi xxmaj ami xxmaj lal , xxup pw-11 xxmaj xxunk and xxup pw-12 xxmaj inspector xxmaj raj xxmaj pal xxmaj singh . xxmaj after putting the documentary and oral evidence under xxmaj section 313 xxmaj cr . xxup p.c. to the accused persons , the trial court found both the accused guilty of charge of offence punishable under xxmaj section 302 / 34 xxup ipc . xxmaj accused xxmaj ajit @ xxmaj dara xxmaj singh was further found guilty of charge of offence punishable under xxmaj section 25 of xxmaj arms xxmaj act , 1959 . xxmaj they were awarded sentence , as already mentioned above . \n",
       "  xxmaj on appeal by the convicts , xxmaj high xxmaj court agreed with the findings of the trial court and dismissed the appeal . xxmaj hence this appeal before us through special leave . \n",
       "  xxmaj at the outset , we would like to mention that in substance it is a case of circumstantial evidence but for the evidence of two chance witnesses , namely xxup pw-4 xxmaj pappu and xxup pw-5 xxmaj surender xxmaj singh . xxup pw-4 xxmaj pappu is a rikshaw puller who is resident of xxmaj sant xxmaj nagar xxmaj jhuggi in xxmaj faridabad . xxup pw-5 xxmaj surender xxmaj singh , a three wheeler driver , is resident of xxmaj railway xxmaj colony , xxmaj old xxmaj faridabad . xxmaj it is relevant to mention here that the incident is said to have occurred near xxmaj air xxmaj force ground . xxmaj it is further relevant to mention that the complainant xxmaj amit xxmaj kumar ( xxup pw-6 ) , his brother xxmaj deepak ( deceased ) and the two accused / appellants are residents of xxup n.i.t. , xxmaj faridabad . xxmaj it is not clear from the record as to how these chance witnesses ( xxup pw-4 xxmaj pappu and xxup pw-5 xxmaj surender xxmaj singh ) who have stated that they heard altercation between the deceased and the two accused after midnight and thereafter heard sound of fire , knew them . xxmaj in our opinion , the testimony of these witnesses can not be said to be reliable or trustworthy particularly when their statements are not corroborated from other evidence on record . \n",
       "  xxmaj now , we come to the report of the xxmaj forensic xxmaj science xxmaj laboratory . xxmaj the conclusions of the examination conducted in the xxmaj forensic xxmaj science xxmaj laboratory , xxmaj haryana , xxmaj madhuban , xxmaj karnal , are reproduced below from xxmaj ex . xxup pf : - \n",
       "  “ xxup result ( 1 ) xxmaj the countrymade pistol marked w / 1 ( xxunk for 12 bore cartridges ) is a firearm as defined in xxmaj arms xxmaj act 54 of 1959 . xxmaj its firing mechanism was not found in working order . \n",
       "  ( 2 ) xxmaj the countrymade pistol marked w / 1 had been fired through . xxmaj however , scientifically , the time of its last firing can not be given . \n",
       "  ( 3 ) xxmaj the percussion cap of cartridge case marked c / 1 on which firing pin marks appear due to firing was found missing . xxmaj moreover , the firing mechanism of pistol w / 1 was not found in working order . xxmaj therefore , no opinion could be formed regarding the linkage of c / 1 in respect of pistol w / 1 . \n",
       "  ( 4 ) xxmaj one wooden piece and two metallic strips contained in parcel xxmaj no . xxup iii could form part of countrymade pistol contained in parcel xxmaj no . xxup viii . \n",
       "  xxrep 14 … ” ( xxmaj emphasis supplied ) xxmaj in view of the conclusions given by xxmaj forensic xxmaj science xxmaj laboratory on points ( 1 ) , ( 2 ) and ( 3 ) , quoted above , we are of the view that the prosecution story , as narrated by xxup pw-4 xxmaj pappu and xxup pw-5 xxmaj surender xxmaj singh , is highly doubtful . \n",
       "  xxmaj apart from this , though the motive of crime is not necessarily required to be proved , but in the case like the present one where the appellants are named on suspicion by informant xxup pw-6 xxmaj amit xxmaj kumar in the xxmaj first xxmaj information xxmaj report ( which does not contain names of xxup pw-4 xxmaj pappu and xxup pw-5 xxmaj surender xxmaj singh as witnesses who had seen the occurrence ) , the motive appears to be relevant fact . xxup pw-6 xxmaj amit xxmaj kumar has simply mentioned that the deceased had asked the two accused to waive of the remaining amount of ? 250 / - from the loan of ? 10,000 / - taken by xxmaj gola but the same does not appear to be a convincing motive to commit the crime by the appellants . xxmaj prosecution has not examined xxmaj gola if he had taken loan of ? 10,000 / - and paid off the same minus the amount ? 250 / - . \n",
       "  xxmaj even otherwise , in the xxmaj first xxmaj information xxmaj report it is nowhere mentioned why actually xxmaj deepak ( deceased ) had gone in his separate scooter with the two appellants from his house . \n",
       "  xxmaj for the reasons , as discussed above , we find that the trial court as well as the xxmaj high xxmaj court has erred in law in holding that the charge against the two accused stood proved . \n",
       "  xxmaj in the light of appreciation of evidence , as above , we are of the opinion that the prosecution has failed to prove the charge of offence punishable under xxmaj section 302 / 34 xxup ipc against the two accused . xxmaj we further hold that the charge of offence punishable under xxmaj section 25 of the xxmaj arms xxmaj act , 1959 against accused xxmaj ajit @ xxmaj dara xxmaj singh is also not proved beyond reasonable doubt . xxmaj accordingly , the appeal deserves to be allowed . \n",
       "  xxmaj the appeal is allowed . xxmaj both the accused , namely xxmaj pawan @ xxmaj rajinder xxmaj singh and xxmaj ajit @ xxmaj dara xxmaj singh , are acquitted of the charges . xxmaj the appellants shall be set at liberty forthwith if not required in connection with any other case . \n",
       "  xxrep 9 … .. … … xxup .j. \n",
       "  [ xxup n.v. xxmaj ramana ] xxrep 9 … .. … … xxup .j. \n",
       "  [ xxmaj prafulla xxup c. xxmaj pant ] xxmaj new xxmaj delhi ; \n",
       "  xxmaj march 08 , 2017 . xxeos,xxbos intention of continuing with the litigation . xxmaj he has not abandoned his claim but has elected to continue with civil action . \n",
       "  20 \n",
       "  16 . xxmaj to sum up , instituting a suit on behalf of minor by a next friend or to represent a minor defendant in the suit by a guardian ad litem is a xxunk procedure which is in place to protect the interests of the minor in civil litigation . xxmaj the only practical difference between a “ next friend ” and a “ guardian ad litem ” is that the next friend is a person who represents a minor who commences a lawsuit ; guardian ad litem is a person appointed by the xxmaj court to represent a minor who has been a defendant in the suit . xxmaj before a minor commences suit , a conscious decision is made concerning the deserving adult ( next friend ) through whom the suit will be instituted . xxmaj the guardian ad litem is appointed by xxmaj court and whereas the next friend is not . xxmaj the next friend and the guardian ad litem possess similar powers and responsibilities . xxmaj both are subject to control by the xxmaj court and may be removed by the xxmaj court if the best interest of the minor so requires . \n",
       "  17 . xxmaj in view of the above discussion , we are of the opinion that the impugned order relying upon the provisions of xxmaj hindu xxmaj guardianship xxmaj act to non­suit the plaintiff no.2 is not justified . xxmaj having regard to the totality of the facts and circumstances of the case , it would be just and proper if the matter is remitted to the xxmaj high xxmaj court for a fresh decision on merits in accordance with law . xxmaj accordingly , 21 this appeal is allowed to the aforesaid extent , the judgment of the xxmaj high xxmaj court is set aside and the matter is remitted to the xxmaj high xxmaj court for a fresh decision on merits , in accordance with law . xxmaj needless to mention , that we have not expressed any opinion on the merits of the case . xxmaj there shall be no order as to costs . \n",
       " \n",
       "  xxrep 13 … xxup j. \n",
       "  [ xxmaj arun xxmaj mishra ] xxrep 5 … . xxrep 8 … xxup j. \n",
       "  [ xxmaj mohan xxup m. xxmaj shantanagoudar ] xxmaj new xxmaj delhi ; \n",
       "  xxmaj date : 08 - 01 - 2018 xxmaj this appeal was called on for pronouncement of xxmaj judgment today . \n",
       "  xxmaj for xxmaj appellant(s ) xxmaj mr. xxmaj nikhil xxmaj majithia , xxmaj adv . \n",
       "  xxmaj mr. xxmaj yadav xxmaj narender xxmaj singh , xxup aor xxmaj for xxmaj respondent(s ) xxmaj mr. xxmaj nishanth xxmaj patil , xxmaj adv . \n",
       "  xxmaj mr. xxmaj prasanna xxmaj mohan , xxmaj adv . \n",
       "  xxmaj mr. xxmaj anup xxmaj jain , xxup aor xxmaj hon’ble xxmaj mr. xxmaj justice xxmaj mohan xxup m. xxmaj shantanagoudar pronounced the xxmaj reportable xxmaj judgment of the xxmaj bench comprising xxmaj hon’ble xxmaj mr. xxmaj justice xxmaj arun xxmaj mishra and xxmaj his xxmaj lordship . \n",
       "  xxmaj the appeal is allowed with no order as to costs in terms of the signed xxmaj reportable xxmaj judgment . xxmaj pending application , if any , stands disposed of . \n",
       " \n",
       "  ( xxmaj signed xxmaj reportable xxmaj judgment is placed on the file ) 23 xxeos,xxbos j u d g m e n t xxup ashok xxup bhushan , xxup j. \n",
       " \n",
       "  xxmaj the xxmaj state of xxmaj madhya xxmaj pradesh is in appeal against the judgment of xxmaj division xxmaj bench of the xxmaj high xxmaj court of xxmaj madhya xxmaj pradesh , xxmaj bench at xxmaj gwalior dated 22.03.2017 by which judgment writ appeal filed by the xxmaj state questioning the judgment of the learned xxmaj single xxmaj judge dated 17.03.2015 has been dismissed . \n",
       "  2 . xxmaj signature xxmaj not xxmaj verified xxmaj the parties shall be described as referred to in the writ xxmaj digitally signed by xxup ashwani xxup kumar xxmaj date : 2018.02.08 petition . xxmaj the facts giving rise to this appeal are : xxunk xxup ist xxmaj reason : \n",
       " \n",
       "  xxmaj the writ petitioners have permanent permit for two 2 routes , one xxmaj gwalior to xxmaj xxunk and second xxmaj gwalior to xxmaj datia . xxmaj respondent xxmaj no.3 has also the permanent permit for the route xxmaj gwalior to xxmaj jhansi . xxmaj respondent xxmaj no.3 preferred an application for modification of time schedule for movement of his vehicle . xxmaj the application of xxmaj respondent xxmaj no.3 came for hearing before the xxmaj state xxmaj transport xxmaj authority on 16.10.2014 . xxmaj on the date of hearing both counsel for the applicant as well as counsel for the objectors were heard . xxmaj the xxmaj state xxmaj transport xxmaj authority allowed the modification and decided to change the time schedule as prayed by the applicant in the public interest . xxmaj the order was issued by the xxmaj state xxmaj transport xxmaj authority on 15.12.2014 . xxmaj aggrieved by the order dated 15.12.2014 , xxmaj writ xxmaj petition xxmaj no.883 of 2015 was filed by the two petitioners who were objectors before the xxmaj state xxmaj transport xxmaj authority . xxmaj in the writ petition various grounds were taken questioning the application filed by the xxunk xxmaj arora . xxmaj one of the grounds taken before the learned xxmaj single xxmaj judge was that although the xxmaj state xxmaj transport xxmaj authority heard the matter on 16.10.2014 consisted of xxmaj chairperson and two members , however , the order was delivered with the signatures of xxmaj chairperson and only one member , since one member , xxmaj shri xxmaj sanjay xxmaj choudhary was transferred in the meanwhile , hence , the order dated 15.12.2014 is illegal . xxmaj the learned xxmaj single xxmaj judge accepted the 3 contention of the writ petitioners and allowed the writ petition by setting aside the order dated 15.12.2014 . \n",
       "  3 . xxmaj the xxmaj state of xxmaj madhya xxmaj pradesh filed writ appeal challenging the judgment of the learned xxmaj singe xxmaj judge . xxmaj the xxmaj state contended before the xxmaj division xxmaj bench of the xxmaj high xxmaj court that there was no illegality in the order issued by the xxmaj chairperson and one member , although , it was heard by three members when the meeting took place on 16.10.2014 . xxmaj the xxmaj division xxmaj bench dismissed the appeal upholding the view of the learned xxmaj single xxmaj judge . \n",
       " \n",
       "  4 . xxmaj learned counsel for the appellant in support of the appeal contends that under the xxmaj madhya xxmaj pradesh xxmaj motor xxmaj vehicles xxmaj rules , 1994 quorum of the meeting of the xxmaj state xxmaj transport xxmaj authority is three ­ xxmaj chairman plus two members and quorum was complete when the meeting was held on 16.10.2014 , the decision delivered by the majority of the members is in no manner illegal . xxmaj it is submitted that after hearing , one member was transferred and was not available to be part of the order issued on 15.12.2014 . xxmaj it is submitted that even it is assumed that one member was not agreeing with the decision of two other members , although , there is no such pleading or material on the record , the decision taken by the majority of the 4 members was fully valid and there was no infirmity in the order dated 15.12.2014 . xxmaj it is submitted that the learned xxmaj single xxmaj judge as well as xxmaj division xxmaj bench committed error in taking the view that the order dated 15.12.2014 was an illegal order . \n",
       " \n",
       "  5 . xxmaj learned counsel for the respondents supported the order of the xxmaj high xxmaj court and contends that when one member who heard the matter on 16.10.2014 was not available , no decision could have been taken by the xxmaj state xxmaj transport xxmaj authority . xxmaj he submits that the matter was heard by three members , hence decision could have been issued only by three members and the views taken by the learned xxmaj single xxmaj judge and xxmaj division xxmaj bench are in accordance with law . \n",
       " \n",
       "  6 . xxmaj we have considered the submissions of the learned counsel for the parties and perused the records . \n",
       "  7 . xxmaj the xxmaj motor xxmaj vehicles xxmaj act , 1988 provides for constitution of a xxmaj state xxmaj transport xxmaj authority to exercise and discharge the powers and functions as specified in sub­section ( 3 ) of xxmaj section 68 . xxmaj section 68(1 ) and xxunk ) are quoted below : \n",
       "  the powers and functions conferred by or under this xxmaj chapter on such xxmaj authorities : \n",
       "  xxmaj provided that in the xxmaj union territories , the xxmaj administrator may abstain from constituting any xxmaj regional xxmaj transport xxmaj authority . ( 2 ) xxrep 36 . ( 3 ) xxmaj the xxmaj state xxmaj transport xxmaj authority and every xxmaj regional xxmaj transport xxmaj authority shall give effect to any directions issued under section 67 and the xxmaj state xxmaj transport xxmaj authority shall , subject to such directions and save as otherwise provided by or under this xxmaj act , exercise and discharge throughout the xxmaj state the following powers and functions , namely : ­ \n",
       "  ( a ) to co­ordinate and regulate the activities and policies of the xxmaj regional xxmaj transport xxmaj authorities , if any , of the xxmaj state ; \n",
       "  ( b ) to perform the duties of a xxmaj regional xxmaj transport xxmaj authority where there is no such xxmaj authority and , if it thinks fit or if so required by a xxmaj regional xxmaj transport xxmaj authority , to perform those duties in respect of any route common to two or more regions ; \n",
       "  ( c ) to settle all disputes and decide all matters on which differences of opinion arise between xxmaj regional xxmaj transport xxmaj authorities ; [ ( ca ) xxmaj government to formulate routes for playing stage carriages ; ] and \n",
       "  ( d ) to discharge such other functions as may be prescribed . ” 6 \n",
       "  8 . xxmaj the xxmaj rules have been framed by the xxmaj state of xxmaj madhya xxmaj pradesh , namely , the xxmaj madhya xxmaj pradesh xxmaj motor xxmaj vehicles xxmaj rules , 1994 . xxmaj chapter v of the xxmaj rules contains heading “ xxmaj control of xxmaj transport xxmaj vehicles ” . xxmaj rule 63 provides for xxmaj state xxmaj transport xxmaj authority . xxmaj rule xxunk ) to ( 7 ) are quoted as below : \n",
       "  9 . xxmaj rule 64 provides for xxmaj regional xxmaj transport xxmaj authority and xxmaj rule 65 is for xxmaj conduct of xxmaj business of xxmaj transport xxmaj authorities . xxmaj rule xxunk ) to 65(4 ) are as follows : \n",
       " \n",
       "  65 . xxmaj conduct of xxmaj business of xxmaj transport xxmaj authorities . ­ 7 ( 2 ) xxmaj the xxmaj state or xxmaj regional xxmaj transport xxmaj authority , as the case may be , may decide any matter of urgent nature without holding a meeting by the majority of votes of members by recorded in writing and send to the xxmaj secretary ( hereinafter referred to as the procedure by circulation ) . ( 3 ) xxmaj in the event of procedure by circulation being followed , the xxmaj secretary shall send to each member of the xxmaj transport xxmaj authority such particulars of the matter as may be reasonably necessary in order to enable the member to arrive at a decision and shall specify the date by which the votes of members are to be received in the office of the xxmaj transport xxmaj authority . xxmaj upon receipt of the votes of members as aforesaid , the xxmaj secretary shall lay the papers before the xxmaj chairman , who shall record the decision by endorsement on the form of application or other document , as the case may be , according to the votes received and the vote or votes cast by the xxmaj chairman . xxmaj the record of the votes cast shall not be available for inspection by any person save by a member of the xxmaj transport xxmaj authority at a regularly constituted meeting of the xxmaj transport xxmaj authority . xxmaj no decision shall be made upon procedure by circulation , if before the date by which the xxunk of members are required to reach the office of the xxmaj transport xxmaj authority , not less than one­third of the members of the xxmaj transport xxmaj authority have given notice in writing to the xxmaj secretary demanding that the matter be referred to a meeting of the xxmaj transport xxmaj authority . \n",
       "  ( 4 ) xxmaj the number of votes , excluding the xxmaj chairman 's second or casting vote , necessary for a decision to be taken upon procedure by circulation shall not be less than the members necessary to constitute a quorum . \n",
       "  xxwrep 4 xxx 8 \n",
       "  10 . xxmaj the facts of the case , as noted above , reveal that xxmaj state xxmaj transport xxmaj authority convened the meeting of the xxmaj authority by issuing the xxmaj agenda for 16.10.2014 . xxmaj in addition to xxmaj chairperson , two members ­ xxmaj shri xxmaj sanjay xxmaj chaudhary , xxmaj transport xxmaj commissioner and xxmaj shri xxmaj rajiv xxmaj sharma , xxmaj chief xxmaj engineer , xxmaj public xxmaj works xxmaj department were present in the meeting . xxmaj the applicant as well as the counsel for the objectors were heard on 16.10.2014 . xxmaj the decision of the xxmaj committee was issued on 15.12.2014 which was signed by the xxmaj chairperson and only one member , xxmaj shri xxmaj rajiv xxmaj sharma , since , after the date of the hearing and before the issuance of the order one member , xxmaj shri xxmaj sanjay xxmaj chaudhary was transferred . xxmaj the copy of the order dated 15.12.2014 has been brought on record as xxmaj annexure xxup p­1 which clearly mentions the date of hearing , i.e. , 16.10.2014 . xxmaj it is useful to extract only the relevant parts of the order for the present case : \n",
       "  11 . xxmaj the only issue which needs to be considered in this 10 appeal is as to whether , when in the meeting dated 16.10.2014 the xxmaj chairperson and two members had heard the application for the change of the time schedule , the order could have been passed allowing the application by the two members ( xxmaj chairperson and one member ) alone , since the order was singed only by the xxmaj chairperson and one member , on 15.12.2014 . \n",
       "  12 . xxmaj the statutory provisions of the xxmaj motor xxmaj vehicles xxmaj act , 1988 as well as the xxmaj madhya xxmaj pradesh xxmaj motor xxmaj vehicles xxmaj rules , 1994 indicate that the xxmaj state xxmaj transport xxmaj authority is a multi­member body constituted by the xxmaj state xxmaj government under xxmaj section 68(1 ) . xxmaj the xxmaj state xxmaj transport xxmaj authority is a multi­member body which transacts business in meeting except in case of emergency . xxmaj meeting is to be convened at such time and at such place as the xxmaj chairman may appoint . xxmaj three days ' notice is required to be given to the members and quorum of the meeting is the xxmaj chairman or the nominated xxmaj chairman and two other members , i.e. , quorum is three . xxmaj in the present case , there is no dispute that when the meeting was held on 16.10.2014 quorum was complete since xxmaj chairperson and two members were present which fact is clearly noticed in the order dated 15.12.2014 as extracted above . xxmaj the three members who were present in the meeting heard the applicant and objectors . xxmaj but the order could be issued only on 15.12.2014 , by which one of the members had been transferred 11 and was not available to sign the order . xxmaj one more important fact which is to be noticed is that learned xxmaj single xxmaj judge had categorically noted that the above issue was raised only during the hearing before the learned xxmaj single xxmaj judge and there was no pleading in the writ petition . xxmaj in paragraph 16 of the judgment , learned xxmaj single xxmaj judge himself has noticed the following : \n",
       " \n",
       "  13 . xxmaj the multi­member body transacts its business after debate , consultation and discussion . xxmaj the view of multi­member body is expressed unanimously or by votes . xxmaj for various kind of decisions by multi­member body special majorities are also provided for acceptance of the decision . xxmaj normally , all decisions of a multi­member body are expressed by opinion of majority of the members present except where the special majorities are provided in the statute itself . \n",
       "  14 . xxmaj shackleton on the “ xxmaj law and xxmaj practice of xxmaj meetings ” , xxmaj eleventh xxmaj edition while discussing the majority has stated 12 following in paragraph 7­30 . xxmaj relevant parts of paragraphs 7­30 and 7­31 are quoted below : \n",
       "  7­30 xxmaj majority is a term signifying the greater number . xxmaj in legislative and deliberative assemblies , it is usual to decide questions by a majority of those present and voting . xxmaj this is sometimes expressed as a “ simple ” majority , which means that a motion is carried by the mere fact that more votes are cast for than against , as distinct from a “ special ” majority where the size of the majority is critical . \n",
       "  xxmaj the principle has long been established that the will of a corporation or body can only be expressed by the whole or a majority of its members , and the act of a majority is regarded as the act of the whole . \n",
       "  a majority vote binds the minority 7­31 xxmaj unless there is some provision to the contrary in the instrument by which a corporation is formed , the resolution of the majority , upon any question , is binding on the majority and the corporation , but the rules must be followed . ” \n",
       "  15 . xxmaj although xxmaj rules , 1994 do not expressly provide that decision of the xxmaj state xxmaj transport xxmaj authority shall be taken in accordance with the opinions of the majority but there being no special majority provided for decision to be taken in the meeting of the xxmaj state xxmaj transport xxmaj authority , normal , rule that decision by majority of the members present has to be 13 followed . xxmaj in the present case when three members were present and quorum was complete , the decision taken by majority , i.e. , opinion of two members shall form the valid decision of the xxmaj state xxmaj transport xxmaj authority . \n",
       " \n",
       "  16 . xxmaj rule 65 sub­section ( 2 ) of the xxmaj rules dealing with the conduct of business of xxmaj transport xxmaj authorities provides : \n",
       "  17 . xxmaj thus , the concept of taking decision by majority of votes of the members is very much present in the scheme of the xxmaj rules . xxmaj although , where a decision is to be taken by the circulation by votes a special majority is provided in xxmaj rule 65(4 ) but present being not a case of decision by circulation , simple majority by members present was sufficient for making a binding decision by the xxmaj state xxmaj transport xxmaj authority . \n",
       "  18 . xxmaj in paragraph 18.1 of the judgment , the xxmaj division xxmaj bench observed that : \n",
       " \n",
       "  19 . xxmaj the above observation was made by the xxmaj division xxmaj bench of the xxmaj high xxmaj court while distinguishing the judgment of this xxmaj court in xxmaj ramaswamy xxmaj nadar v. xxmaj the xxmaj state of xxmaj madras , xxup air 1958 xxup sc 56 . xxmaj before we refer to the decision of this xxmaj court in xxmaj ramaswamy xxmaj nadar , it is clear that observation of the xxmaj division xxmaj bench of the xxmaj high xxmaj court that there is nothing on record to indicate that the quorum of xxmaj state xxmaj transport xxmaj authority was complete , is factually wrong . xxmaj the order of the xxmaj state xxmaj transport xxmaj authority dated 15.12.2014 has been brought on record as xxmaj annexure xxup p­1 and the relevant portion of the order has been extracted above by us which clearly mentions that the hearing took place on 16.10.2014 where the xxmaj chairperson and two members were present the quorum being three as per xxmaj rule 68(1 ) was complete . xxmaj the hearing took place by three members which is noted in the order itself , as extracted above . xxmaj thus , observation of the xxmaj division xxmaj bench of the xxmaj high xxmaj court that quorum was not complete and matter was not heard by three members is not correct . \n",
       "  20 . xxmaj now , we come to the judgment of this xxmaj court in xxmaj ramaswamy xxmaj nadar(supra ) . xxmaj in the above case the matter was heard by a 15 xxmaj bench of three xxmaj judges of this xxmaj court who after hearing had announced the decision of acquittal . xxmaj draft judgment was also approved by one of the xxmaj judges who had , however , died before judgment could be delivered . xxmaj note appended in the judgment was to the following effect : \n",
       " \n",
       "  xxmaj when hearing of this appeal was finished last week by a xxmaj bench consisting of three of us , xxup b.p. xxmaj sinha , xxup p. xxmaj govinda xxmaj menon and xxup j.l. xxmaj kapur , xxup jj . , we announced that we had come to the conclusion that the appellant should be acquitted . xxmaj we also indicated that the judgment will be delivered the week following . xxmaj the draft of the judgment was sent to late xxmaj mr. xxmaj justice xxmaj menon last week and he had approved of it . xxmaj what we are now delivering are the reasons of the xxmaj judges who constituted the xxmaj bench ; but it will be signed by two only of us on account of the unexpected death of xxmaj mr. xxmaj justice . xxmaj menon . \n",
       "  xxup k.s.b. xxmaj appeal allowed . ” \n",
       "  21 . xxmaj in the above case judgment was pronounced with the concurrence of the three judges . xxmaj when the hearing took place opinion of all the three xxmaj judges was expressed but judgment could be singed by two xxmaj judges since one of the xxmaj judges died . xxmaj although , the facts of the above case was little different i.e. there was material to indicate that the third xxmaj judge who could not sign had also concurred with the opinion , but in the 16 present case there is no pleading of third member whether agreeing or not agreeing with the decision . xxmaj for the present case , we proceed on the premise that the third member did not agree with the decision . xxmaj for the decisions of this xxmaj court , xxmaj article 145 sub­clause ( 5 ) of the xxmaj constitution of xxmaj india provides that judge of this xxmaj court can deliver a judgment with the concurrence of a majority of the xxmaj judges present at the hearing of the case . \n",
       " \n",
       "  22 . xxmaj the present is a case where decision by a multi­member body is to be taken in the meeting of the xxmaj committee as per the statutory xxmaj rules . xxmaj there being no such majority provided for taking a decision , the decision by majority has to be accepted as the opinion of the xxmaj state xxmaj transport xxmaj authority . \n",
       "  23 . xxmaj two more cases , which were relied by the appellant and noticed by the xxmaj high xxmaj court need to be noted . xxmaj the xxmaj privy xxmaj council judgment in xxmaj gokal xxmaj xxunk xxmaj jagan xxmaj nath xxmaj vs . xxmaj nand xxmaj ram xxmaj xxunk xxmaj atma xxmaj ram , xxup air ( 1938 ) xxup p.c. 292 , is relevant for the present case . xxmaj in the appeal before the xxmaj privy xxmaj council , judgment of the xxmaj high xxmaj court was assailed on the ground that the two xxmaj hon'ble xxmaj judges of the xxmaj high xxmaj court heard the matter , although , both judges concurred with the judgment , but one xxmaj judge went on leave 17 before signing the judgment , which was signed by only one xxmaj judge . xxmaj the xxmaj privy xxmaj council repelled the contention and held that signing by one of the xxmaj judges at best was only irregularity , not affecting the merits of the case . xxmaj following was laid down in xxmaj paragraphs 6 , 7 and 8:­ “ 6 . a further point was raised by the appellants . xxmaj they urged that the judgment of the xxmaj high xxmaj court appealed from was not a valid judgment because it failed to comply with xxmaj order xxup xli , xxmaj rule 31 , of the xxmaj code of xxmaj civil xxmaj procedure . xxmaj the relevant facts on this issue are that the hearing in the xxmaj high xxmaj court was before two xxmaj judges , xxmaj harrison and xxmaj agha xxmaj haider xxup jj . , and was actually delivered by the former xxmaj judge , the latter agreeing . xxmaj the judgment was delivered on xxmaj february 22 , 1933 . xxmaj but xxmaj harrison xxup j. went on leave before signing the judgment , which was signed by xxmaj agha xxmaj haider xxup j. , the xxmaj deputy xxmaj registrar appending a note that xxmaj harrison xxup j. had gone on leave before signing the judgment he delivered . \n",
       "  7 . xxmaj order xxup xli , xxmaj rule 31 requires that the judgment of the appellate xxmaj court shall be in writing and shall state various matters , and \" shall at the time that it is pronounced be signed and dated by the xxmaj judge or by the xxmaj judges concurring therein . \" \n",
       "  8 . xxmaj the xxmaj rule does not say that if its requirements are not complied with the judgment shall be a nullity . xxmaj so startling a result would need clear and precise words . xxmaj indeed the xxmaj rule does not even state any definite time in which it is to be fulfilled . xxmaj the time is left to be defined by what is reasonable . xxmaj the xxmaj rule from its very nature is not intended to affect the rights of parties to a judgment . xxmaj it is intended to secure certainty in the ascertainment of what the 18 judgment was . xxmaj it is a rule which xxmaj judges are required to comply with for that object . xxmaj no doubt in practice xxmaj judges do so comply , as it is their duty to do . xxmaj but accidents may happen . a xxmaj judge may die after giving judgment but before he has had a reasonable opportunity to sign it . xxmaj the xxmaj court must have inherent jurisdiction to supply such a defect . xxmaj the case of a xxmaj judge who has gone on leave before signing the judgment may call for more comment , but even so the convenience of the xxmaj court and the interest of litigants must prevail . xxmaj the defect is merely an irregularity . xxmaj but in truth the difficulty is disposed of by xxmaj sections 99 and 108 of the xxmaj civil xxmaj procedure xxmaj code . xxmaj section 99 provides that no decree shall be reversed or substantially varied nor shall any case be remanded , in appeal on account of any error , defect or irregularity in any proceedings in the suit , not affecting the merits of the case or the jurisdiction of the xxmaj court . xxmaj that xxmaj section xxunk in the part dealing with appeals from original decrees . xxmaj but xxmaj section 108 applies the same provision to appeals from appellate decrees and it is always in the discretion of the xxmaj board to apply the principle on appeal to xxmaj his xxmaj majesty in xxmaj council . xxmaj in their xxmaj lordships ' judgment , the defect here was an irregularity not affecting the merits of the case or the jurisdiction of the xxmaj court , and is no ground for setting aside the decree . ” \n",
       "  24 . xxmaj another judgment , which was cited by the appellant was xxup a. xxmaj shanta xxmaj rao xxmaj vs . xxmaj state xxmaj transport xxmaj appellate xxmaj tribunal , xxmaj hyderabad & xxmaj ors . , xxup air 1985 xxup a.p. 256 . xxmaj in the above case , xxmaj state xxmaj transport xxmaj appellate xxmaj tribunal consisting of xxmaj chairman and two members heard the matter . xxmaj however , the order was issued only with the signature of xxmaj chairman . xxmaj the order was attacked on the ground 19 that the other two members having not signed the order , the order is illegal . xxmaj repelling the contention following was stated in xxmaj paragraph xxunk “ 9 . xxmaj on the first question , i am of the view that once the minutes of the xxmaj state xxmaj transport xxmaj authority are found to be signed by all the members including the xxmaj chairman , the mere fact that the final order is communicated under the signature of the xxmaj chairman alone does not amount to any illegality . xxmaj the xxmaj court has to see the substance of the matter and not the mere form , and if it is clear that all the members of the xxmaj tribunal have applied their mind to the facts of the case and arrived at a conclusion , it does not matter if the communication is made under the signature of the xxmaj chairman . ” \n",
       "  25 . xxmaj although , in above two cases , there was concurrence of all the members of xxmaj court / xxmaj tribunal but all had not signed the order . xxmaj the present is a case where xxmaj chairperson and two members heard the application in meeting dated 16.10.2014 but order was subsequently pronounced on 15.12.2014 and signed by only xxmaj chairperson and one member . xxmaj the third member having been transferred in the meanwhile . xxmaj as noticed above , there is no pleading in the writ petition as to whether the third member , who was transferred had agreed with the proposed order or did not agree with the decision , which was to be delivered by the xxmaj state xxmaj transport xxmaj authority . xxmaj had third member agreed , there can not be any debate in this matter , the issues being covered 20 by judgment of this xxmaj court in xxmaj ramaswamy xxmaj nadar(supra ) and judgment of the xxmaj privy xxmaj council in xxmaj gokal xxmaj chand xxunk xxmaj nath ( supra ) . xxmaj but there being neither any pleading nor any material to come to the conclusion that the third member has agreed with the opinion , we have proceeded to examine the present case as if , the third member did not agree with the order proposed . xxmaj we have already noticed the reason for coming to the conclusion that the order issued by the xxmaj state xxmaj transport xxmaj authority , signed by the xxmaj chairperson and one member is a valid order having been issued with the majority opinion of two out of three , who heard the application on 16.10.2014 . xxmaj thus , in any view of the matter , no illegality can be attached with the order dated 15.12.2014 , which was signed by the xxmaj chairperson and one member . \n",
       " \n",
       "  26 . xxmaj in view of the foregoing discussion , we are of the opinion that decision dated 15.12.2014 issued with the signatures of xxmaj chairperson and one member was a valid decision in spite of the fact that one of the members who was present in the hearing when the meeting took place on 16.10.2014 and had been transferred in the meanwhile did not sign the order . xxmaj the decision of the xxmaj state xxmaj transport xxmaj authority dated 15.12.2014 was fully in accordance with the statutory scheme of the xxmaj rules , 1994 and both the learned xxmaj single xxmaj judge and xxmaj division 21 xxmaj bench erred in holding the decision as invalid . xxmaj we , thus , are of the view that judgments of learned xxmaj single xxmaj judge and xxmaj division xxmaj bench do not express the correct view of the law . \n",
       "  27 . xxmaj in the result , the appeal is allowed and judgments of the xxmaj high xxmaj court are set aside . \n",
       " \n",
       "  xxrep 31 . xxup j. ( xxup a.k. xxup sikri ) xxrep 31 . xxup j. ( xxup ashok xxup bhushan ) xxup new xxup delhi , xxup february 08 , 2018 . xxeos,xxbos 31.3.2030 / 31.3.2020 , the lease period would stand extended up to 31.3.2030 / 31.3.2020 ( in the case of captive / non - captive mines , respectively ) . xxmaj secondly , where the renewal of the mining lease already extends to a period beyond 31.3.2030 / 31.3.2020 ( in the case of captive / non - captive mines , respectively ) , the lease period of such leaseholders , would continue up to the actual period contemplated by the renewal order . xxmaj thirdly , a leaseholder would have the benefit of treating the original lease period as of fifty years . xxmaj accordingly , even during the renewal period , if the period of the mining lease would get extended ( beyond the renewal period ) by treating the original lease as of fifty years , the leaseholder would be entitled to such benefit . \n",
       "  xxmaj out of the above three contingencies provided under sub - sections ( 5 ) and ( 6 ) of xxmaj section xxup 8a , the contingency as would extend the lease period farthest , would enure to the benefit of the leaseholder . \n",
       "  ( vii ) xxmaj based on the interpretation placed by us on xxmaj section xxup 4a(4 ) of the xxup mmdr xxmaj act , and xxmaj rule 28 of the xxmaj mineral xxmaj concession xxmaj rules , we can draw the following conclusions . xxmaj firstly , unless an order is passed by the xxmaj state xxmaj government declaring , that a mining lease has lapsed , the mining lease would be deemed to be subsisting , up to the date of expiry of the lease period provided by the lease document . xxmaj secondly , in situations wherein an application has been filed by a leaseholder , when he is not in a position to ( or for actually not ) carrying on mining operations , for a continuous period of two years , the lease period will not be deemed to have lapsed , till an order is passed by the xxmaj state xxmaj government on such application . xxmaj where no order has been passed , the lease shall be deemed to have been extended beyond the original lease period , for a further period of two years . xxmaj thirdly , a leaseholder having suffered a lapse , is disentitled to any benefit of the amended xxup mmdr xxmaj act , because of the express exclusion contemplated under xxmaj section xxup 8a(9 ) of the amended xxup mmdr xxmaj act . \n",
       "  xxrep 11 … xxup j. \n",
       "  ( xxmaj jagdish xxmaj singh xxmaj khehar ) xxrep 11 … xxup j. \n",
       "  ( xxup c. xxmaj nagappan ) xxmaj new xxmaj delhi ; \n",
       "  xxmaj april 04 , 2016 . xxeos,xxbos xxup arun xxup mishra , xxup j. \n",
       "  1 . xxmaj the question involved in the appeal is whether it is open to the xxmaj state of xxmaj karnataka to levy xxmaj sales xxmaj tax in view of the xxmaj time xxmaj charter xxmaj agreement dated 8.1.1998 and whether it amounts to transfer of the right to use goods within the meaning of section xxup 5c of the xxmaj karnataka xxmaj sales xxmaj tax xxmaj act , 1957 ( for short , “ the xxup kst xxmaj act ” ) read with xxmaj article 366 ( xxup 29a ) ( d ) of the xxmaj constitution of xxmaj india . \n",
       " \n",
       "  2 . xxmaj the appellant – xxmaj the xxmaj great xxmaj eastern xxmaj shipping xxmaj co. xxmaj ltd. filed a writ petition questioning the competence of the xxmaj state xxmaj government to impose a sales tax in respect of the goods which are used within the territorial waters of xxmaj india . xxmaj the appellant owns a tug ( towing vessel , xxmaj signature xxmaj not xxmaj verified namely \" xxmaj kumari xxmaj tarini \" ) . xxmaj the company entered into a xxmaj charter xxmaj party xxmaj digitally signed by xxup jayant xxup kumar xxup arora xxmaj date : 2019.12.04 xxunk xxup ist xxmaj reason : \n",
       " \n",
       "  xxmaj agreement with xxmaj new xxmaj mangalore xxmaj port xxmaj trust on 8.1.1998 . xxmaj it agreed to make available the services of tug , for the purposes provided in the 2 agreement along with the master and other personnel of the company to the xxmaj port xxmaj trust for six months . \n",
       " \n",
       "  3 . xxmaj the xxmaj assistant xxmaj commissioner of xxmaj income xxmaj tax vide notification dated 8.6.1998 directed the company to register itself as a dealer under the provisions of the xxup kst xxmaj act on the ground that the agreement attracted tax under section xxup 5c thereof . xxmaj the company in the reply dated xxunk repudiated the claim on the ground that there was no transfer of right to use the goods given by the company to the xxmaj port xxmaj trust as the possession and custody of the tug continued with it . xxmaj the xxmaj assistant xxmaj commissioner sent another communication dated 28.12.1998 informing that last chance was given to the company to get itself registered under the xxup kst xxmaj act within 15 days failing which he would be compelled to file charge­sheet against the company for the offence under section 29(2 ) ( xxrep 4 a ) of the xxup kst xxmaj act . xxmaj the xxmaj joint xxmaj commissioner of xxmaj income xxmaj tax ( xxmaj commercial xxmaj taxes ) on a query being made by the company wrote that he was not the competent authority to issue a clarification regarding liability or otherwise to pay tax under section xxup 5c of the xxup kst xxmaj act . \n",
       " \n",
       "  4 . xxmaj the company filed a writ petition on the ground that the xxup kst xxmaj act does not extend to territorial waters of xxmaj india situated adjacent to the landmass of the xxmaj state of xxmaj karnataka . xxmaj thus , the xxmaj state is not authorised to exact any tax on the hire charges received from the xxmaj port xxmaj trust . xxmaj the 3 learned xxmaj single xxmaj judge dismissed the writ petition , aggrieved thereby the company preferred a writ appeal . xxmaj the same has also been dismissed ; hence , the appeal has been filed . a xxmaj division xxmaj bench of the xxmaj high xxmaj court of xxmaj karnataka has rejected the submission raised by the appellant that over the territorial waters xxmaj state of xxmaj karnataka has no power . xxmaj the learned xxmaj single xxmaj judge was not justified in refusing to consider the question , whether there was a transfer of right to use the tug . xxmaj it held that there was a transfer of right to use the tug by the company to the xxmaj port xxmaj trust . \n",
       " \n",
       "  5 . xxmaj shri xxmaj arvind xxmaj datar , learned senior counsel appearing on behalf of the company submitted that the xxmaj time xxmaj charter xxmaj agreement dated 8.1.1998 does not amount to transfer of right to use goods within the meaning of section xxup 5c of the xxup kst xxmaj act . xxmaj it was only a contract of service . xxmaj the contract is for the hire of a tug on payment of xxmaj rs.1.5 lakh per day . xxmaj the expression used in the agreement is ' service . ' xxmaj time xxmaj charters world over are considered a contract of service . xxmaj there is a difference between the ‘ right to use goods ’ and ‘ the transfer of the right to use goods . ’ xxmaj in case of a lease , there is a transfer of an interest in the property , whereas , in a licence , there is a mere right to use the property . xxmaj the xxmaj time xxmaj charter is recognised as an agreement in the nature of pure service . xxmaj they are entirely distinct from xxmaj bareboat xxmaj charter xxmaj agreement or charter by demise . xxmaj the charters are of three kinds viz . ( a ) xxmaj time 4 xxmaj charter , ( b ) xxmaj bareboat xxmaj charter or xxmaj charter by xxmaj demise , and ( c ) xxmaj voyage xxmaj charter . xxmaj time charter and voyage charter are contracts of service , whereas bareboat charter amounts to transfer of right to use the ship itself . xxmaj in a time charter , master and crew are in the employment of the owner , and complete control , ownership , and possession of the vessel remain only with the owner through the master and crew . xxmaj the delivery to the xxmaj port xxmaj trust is only a symbolic one , and the legal and physical possession of xxmaj tug continues to be with the company . xxmaj thus , the arrangement is a service , not a lease . xxmaj learned senior counsel has made reference to xxmaj scrutton on charter parties , xxmaj halsbury 's xxmaj laws of xxmaj england , and have also relied upon various decisions . \n",
       "  6 . xxmaj mr. xxmaj datar has further submitted that the xxmaj port xxmaj trust can not use the xxmaj tug for any purpose except , as mentioned in clause 3 of the xxmaj agreement . xxmaj the xxmaj port xxmaj trust can not take away the xxmaj tug outside the harbour limits of the xxmaj port xxmaj trust . xxmaj legal possession and fiscal control had not been transferred to the xxmaj port xxmaj trust , and only a conditional use of the vessel has been given . xxmaj the use of the words ‘ at the disposal of xxmaj port ' in clause 7 is a standard term used in all charter agreements , and these do not indicate the transfer of legal possession or transfer of fiscal control . xxmaj the contract indicates various liabilities and responsibilities of the owner ; the insurance has to be provided by the appellants . xxmaj for the performance of service , the xxmaj bank xxmaj guarantee also 5 has to be given . xxmaj the owner is responsible for damage to his xxmaj tug , xxmaj jetty , port premises , or any other vessel in the port . xxmaj the company is responsible for providing indemnity to the charterer . xxmaj thus , the owner has not lost his control over the vessel . \n",
       " \n",
       "  7 . xxmaj it is further urged that if the vessel is at the disposal of the xxmaj port xxmaj trust , does not mean that there is a transfer of right to use it . xxmaj the expression must be understood in a proper context of the agreement itself . xxmaj it would be absurd to suggest that the vessel can be partly in possession of the xxmaj port xxmaj trust and partly with the company . xxmaj any interpretation otherwise of the contract may create xxunk in the scheme of indirect taxation in xxmaj india . \n",
       " \n",
       "  8 . xxmaj mr. xxmaj datar has also referred to international laws relating to time charter and xxmaj bareboat xxmaj charter xxmaj agreements that have been in existence for more than 100 years . xxmaj according to him , the time charter has always been treated as a contract of service . xxmaj he has relied on the xxmaj ministry of xxmaj finance , xxmaj department of xxmaj revenue , a clarification dated xxunk issued on the basis of detailed examination and analysis of the xxmaj charter xxmaj party xxmaj agreements entered by shipping companies with their charterers and have clarified that vessels fall under the category of tangible goods . a charterer acquired the right to use the vessel without having the right to possession or effective control of the vessel . xxmaj therefore , the consideration paid for chartering of vessels is liable to 6 service tax under the category of ‘ supply of tangible goods for use by way of service without possession and control . ’ xxmaj the fact that time charters are subject to service tax and bareboat charters are subject to sales tax , which indicates that time charters are contracts of service . xxmaj if they involved a transfer of right to use , xxmaj parliament would never have subjected them to service tax . \n",
       " \n",
       "  9 . xxmaj mr. xxmaj datar , learned senior counsel has also submitted that usually , only the xxmaj parliament can make laws relating to territorial waters . xxmaj under xxmaj article 246(4 ) , read with xxmaj article 286 , xxmaj parliament can make fiscal laws relating to imposition of tax on either supply of goods or services or both , where such supply takes place outside the xxmaj state . xxmaj thus , even if the situs of agreement fell in the territory of xxmaj state , it would be of no relevance as the vessel has to ply in territorial waters . xxmaj an agreement can not be signed in the high seas . \n",
       " \n",
       "  10 . xxmaj it was submitted that the xxmaj high xxmaj court has erred in treating the territorial water as part of the territory of xxmaj karnataka , in contravention to xxmaj article 297 as well as the provisions of the xxmaj territorial xxmaj waters , xxmaj continental xxmaj shelf , xxmaj exclusive xxmaj economic xxmaj zone , and other xxmaj maritime xxmaj zones xxmaj act , 1976 ( xxmaj act of 1976 ) . xxmaj none of the maritime xxmaj states have been given the territorial waters as part of their territory . xxmaj he has also referred to xxmaj dr. xxmaj ambedkar ’s speech in the xxmaj constituent xxmaj assembly to submit that the entire territorial waters would exclusively belong to 7 the xxmaj union , and it is only by way of an exception through xxmaj entry 21 in xxmaj list xxup ii that “ fisheries ” has been kept under the control of a xxmaj state xxmaj government . xxmaj the xxmaj state xxmaj government is , thus , competent to regulate fishing up to the territorial waters . xxmaj the same would again be restricted by xxmaj entry 57 of xxmaj list i , which provides that fisheries beyond the territorial waters would be under the control of the xxmaj union as per xxmaj entry 21 , xxmaj list xxup ii . xxmaj the xxmaj karnataka xxmaj marine and xxmaj fishing ( xxmaj regulation ) xxmaj act , 1986 ( xxmaj act of 1986 ) was passed by the xxmaj state legislature , within purview of powers as per xxmaj entry 21 of xxmaj list xxup ii . xxmaj section 2(j ) of the xxmaj act of 1986 has defined xxmaj karnataka xxmaj state to include the territorial waters , but that has to be read in the context of xxmaj entry 21 in xxmaj list xxup ii . xxmaj the definition in section 2(j ) is confined to the regulation of fisheries , and can not be interpreted to mean that the territorial waters belong to xxmaj karnataka . xxmaj the xxmaj state can not claim 12 nautical miles as part of its territory ; otherwise , each maritime xxmaj state can pass laws with any of the items mentioned in xxmaj list xxup ­i regarding the activities in the territorial waters , which are the prerogative of the xxmaj parliament . \n",
       " \n",
       "  11 . xxmaj mr. xxmaj datar has further submitted that under xxmaj entries 56 and 57 of xxmaj list xxup ii , the xxmaj state legislature has the competence to levy tax on the carriage of goods and passengers only on inland waters base . xxmaj by implication , any taxes on the carriage of goods or passengers in the territorial waters is outside the legislative competence of the xxmaj state 8 legislature . xxmaj entries 25 to 27 of xxmaj list i indicate that the entire shipping industry is exclusively within the domain of xxmaj parliament . xxmaj entry 27 of list­i cover the ports , and the agreement is with the xxmaj port xxmaj trust . xxmaj he has further attracted our attention to section 5 of the xxmaj territorial xxmaj waters xxmaj act , 1976 . xxmaj section 5 defines the contiguous zone to be at a distance of 24 nautical miles from the nearest point of the xxunk . xxmaj the xxmaj central xxmaj government has the exclusive power to make laws concerning customs and other fiscal matters on activities that take place in the contiguous zone . xxmaj the xxmaj territorial xxmaj waters xxmaj act prevails over the xxmaj state legislature dealing with sales tax , i.e. , the xxup kst xxmaj act . xxmaj thus , the decision in 20th xxmaj century xxmaj finance xxmaj corporation xxmaj ltd. v. xxmaj state of xxmaj maharashtra , 2000 ( 6 ) xxup scc 12 is not attracted in which this xxmaj court was concerned with the controversy as to which xxmaj state could levy sales tax , where signing of the contract , delivery of the goods or use of the rights were in different xxmaj states . xxmaj the majority held that the xxmaj state where a contract is signed would have the power to levy a sales tax . xxmaj thus , the place where the goods were delivered or used could not be a ground for levy of sales tax . xxmaj merely signing of the contract in xxmaj mangalore conferred no jurisdiction to levy sales­tax on the xxmaj state of xxmaj karnataka . xxmaj the decision has no application to the transaction , the effect of which takes place in territorial waters or the high seas , even if the agreement is signed within a particular xxmaj state . 9 \n",
       "  12 . xxmaj mr. xxmaj mohan xxmaj parasaran , learned senior counsel has taken us in detail to various clauses of the agreement . xxmaj the agreement is in the nature of a time charter as approved by the xxmaj new xxmaj york xxmaj produce xxmaj exchange ( xxup xxunk ) , which is the standard form for time charters . xxmaj it is neither a bareboat cum demise charter nor a voyage charter and is , therefore , only a time charter because of terms and conditions . xxmaj he has relied upon xxup bsnl v. xxmaj union of xxmaj india , ( 2006 ) 3 xxup scc 1 wherein this xxmaj court has laid down essential attributes of a transaction to constitute a transfer of the right to use the goods . xxmaj at no point of time , the vessel should go out of the possession or control of the company , therefore the essential ingredient to constitute it a transfer of the right to use is missing . xxmaj he has also referred to xxup dlf xxmaj universal xxmaj ltd. v. xxmaj director , xxmaj town and xxmaj country xxmaj planning xxmaj department , xxmaj haryana , ( 2010 ) 14 xxup scc 1 . xxmaj the very language of the agreement makes it clear to be a contract of service . xxmaj the expressions like delivery and re­delivery are not to be understood in a literal sense . xxmaj there are certain obligations upon the company , which makes out that effective control over the vessel is with the company . xxmaj he had also referred to xxmaj harbour xxmaj craft xxmaj rules . xxmaj the tug is always operated , controlled , run , maintained , and insured by the company . xxmaj possession of the xxmaj tug remains with it . xxmaj in the event the tug is disabled from use , the charterer is not required to pay xxunk 10 party charges to the company . xxmaj the company has to indemnify the charterer . \n",
       " \n",
       "  13 . xxmaj mr. xxmaj mohan xxmaj parasaran , learned senior counsel has also submitted that the concept of time charter­party is a charter for a specified period rather than for a specific task . xxmaj there are other types of xxmaj charter xxmaj party xxmaj agreements like demise charter and voyage charter . xxmaj under a demise charter , the owner leases his ship to the charterer for an agreed period in exchange for periodic payments . xxmaj in voyage charter , the owners agree that their ship xxunk , xxunk and xxunk by them , shall carry specified cargo on an agreed voyage in exchange for freight , characteristically a \" single payment . \" xxmaj under xxmaj mercantile jurisprudence , it is well­settled that insofar as time charter is concerned , it is only a service contract . xxmaj he has also referred to xxmaj scrutton on xxmaj charterparties and xxmaj bill of xxmaj lading , and xxmaj british xxmaj shipping xxmaj laws , xxmaj carriage by xxmaj sea book by xxmaj colinvaux , xxmaj xxunk xxup p. xxmaj he has also referred to a decision in xxmaj british xxmaj india xxmaj steam xxmaj navigation xxmaj co. xxmaj ltd. v. xxmaj shanmughavilas xxmaj cashew xxmaj industries & xxmaj ors . , ( 1990 ) 3 xxup scc 481 and other decisions and the definition of time charter­party in xxmaj black ’s xxmaj law xxmaj dictionary . xxmaj for the period during which the transferee has such legal right , it has to be to the exclusion of the transferor company , which is explicitly necessary to constitute a transfer of the right to use , which is not merely a licence to use the goods . xxmaj service tax is already leviable 11 treating it as service agreement as such sales­tax can not be exacted by the xxmaj state xxmaj government . xxmaj the territorial waters are within the exclusive jurisdiction of the xxmaj union of xxmaj india . xxmaj in view of xxmaj article 297 of the xxmaj constitution , the xxmaj state of xxmaj karnataka has no jurisdiction to impose a sales tax . xxmaj the territorial waters are deemed xxmaj union territory . xxmaj the sovereignty of xxmaj india extends and has always extended to the territorial waters and the xxunk and xxunk underlying and air space over , such waters and it is the xxmaj central xxmaj government which has the power to alter the limits of the territorial waters . \n",
       "  14 . xxmaj mr. xxmaj devadatt xxmaj kamat , learned senior counsel submitted on behalf of the xxmaj state of xxmaj karnataka that the transfer of right to use occurs when the agreement has been entered into and not when the delivery of the goods takes place . xxmaj he has referred to various clauses of the agreement to take home the aforesaid submission and has relied upon 20th xxmaj century xxmaj finance xxmaj corporation xxmaj ltd. v. xxmaj state of xxmaj maharashtra ( supra ) , a decision of the xxmaj constitution xxmaj bench of this xxmaj court which has been approved in xxup bsnl ( supra ) . xxmaj he has further urged that a coastal xxmaj state has jurisdiction to levy sales­tax in the territorial waters abutting the coast . xxmaj he has also referred to xxmaj article 297 . xxmaj he has relied upon xxmaj dr. xxmaj ambedkar ’s speech in the xxmaj constituent xxmaj assembly that “ xxmaj state laws will prevail over that area , whatever law you make will have its operation over the area of three miles from the physical territory ” and has also 12 referred to xxup h.m. xxmaj seervai ’s seminal work on the “ xxmaj constitutional xxmaj law of xxmaj india ” with respect to interpretation of xxmaj article 297 of the xxmaj constitution of xxmaj india . xxmaj though the xxmaj article has been amended on more than one occasion , the xxmaj parliament has not altered the basic premise of xxmaj article \n",
       "  297 . xxmaj he has relied upon xxmaj baliram xxmaj waman xxmaj xxunk v. xxmaj justice xxup b. xxmaj lentin , ( 1988 ) 4 xxup scc 419 ; xxup p.t. xxmaj rajan v. xxup xxunk xxmaj xxunk ( 2003 ) 8 xxup scc 498 . xxmaj several xxmaj states , including the xxmaj state of xxmaj karnataka , have enacted the laws with respect to fisheries . xxmaj he has referred to section 2(j ) of the xxmaj karnataka xxmaj marine xxmaj fishing ( xxmaj regulation ) xxmaj act , 1986 . xxmaj there was a transfer of right to use the vessel as apparent from the various clauses of the agreement . xxmaj he has also relied upon xxmaj article 366 and the debates relating to it . xxmaj parliament has chosen not to place any restriction on the power of the xxmaj state xxmaj government under xxmaj article 366(29a)(d ) . \n",
       " \n",
       "  15 . xxmaj mr. xxmaj tushar xxmaj mehta , learned xxmaj solicitor xxmaj general of xxmaj india has expressed the concern of the xxmaj union of xxmaj india with respect to territorial waters and has submitted that the territorial waters vested in the xxmaj union of xxmaj india as per xxmaj entries 25 to 27 and 30 of xxmaj list i and the xxmaj territorial xxmaj waters xxmaj act . xxmaj the decision of the xxmaj karnataka xxmaj high xxmaj court to the extent of territorial waters , can not be said to be correct . xxmaj he has relied upon the debates in the xxmaj constituent xxmaj assembly as to xxmaj article 297 . xxmaj in accordance with xxmaj article xxunk ) , the xxmaj parliament has enacted the xxmaj territorial xxmaj waters xxmaj act , 1976 ; he has referred to sections 3 , 5 , and 7 of 13 the said xxmaj act . xxmaj he has also relied on xxmaj articles 246 and 286 of the xxmaj constitution of xxmaj india . \n",
       " \n",
       "  16 . xxmaj following questions arise for consideration in the matter : \n",
       "  ( i ) xxmaj whether the xxmaj state of xxmaj karnataka has jurisdiction to levy sales­tax under section xxup 5c of the xxup kst xxmaj act in respect of the xxmaj charter xxmaj party xxmaj agreement dated 8.1.1998 ? \n",
       " \n",
       "  ( ii ) xxmaj whether the agreement dated 8.1.1998 constitutes “ transfer of the right to use \" ? \n",
       " \n",
       "  ( iii ) xxmaj whether the xxmaj state of xxmaj karnataka has the competence to levy xxunk tax on the agreement , which is effective within the territorial waters ? \n",
       "  17 . xxmaj this xxmaj court issued notice to various coastal xxmaj states , and they have filed response also with respect to territorial waters , such as the xxmaj states of xxmaj goa , xxmaj maharashtra , xxmaj kerala , xxmaj tamil xxmaj nadu , xxmaj andhra xxmaj pradesh , and xxmaj west xxmaj bengal , etc . xxmaj in xxmaj re : xxmaj section xxup 5c of xxup kst xxmaj act : \n",
       "  18 . xxmaj the xxmaj state of xxmaj karnataka has sought to levy tax under section xxup 5c of the xxup kst xxmaj act on charter­party on the ground that it is a transfer of right to use vessel . \n",
       " \n",
       "  19 . xxmaj section xxup 5c of the xxup kst xxmaj act reads : \n",
       "  20 . xxmaj section 2(t ) of the xxup kst xxmaj act defines “ sale ” and reads as under : \n",
       "  21 . a reading of the definition of sale makes it crystal clear that every transfer of property in goods by one person to another in the 15 course of trade or business , includes the transfer of right to use any goods for any purpose . xxmaj section xxup 5c of the xxmaj act also provides levy of tax on the transfer of the right to use any goods . xxmaj article 366(29a)(d ) inserted by the xxmaj constitution ( 46th xxmaj amendment ) xxmaj act , 1982 on xxunk reads : \n",
       "  22 . a tax on the sale or purchase of goods includes a tax for transfer of right to use goods as that is deemed to be a sale . xxmaj the question that arises for consideration is whether there is a transfer of the right to use the vessel . xxmaj it has to be considered in view of the charter agreement entered into between the company and the xxmaj port xxmaj trust . xxmaj the tender 16 documents pursuant to which agreement has been entered into contains the conditions and instructions to tenderers . xxmaj the pre­ qualification criteria provide that the tenderer has to submit the documents regarding ownership or possession of tug on bareboat / committed demise charter hire of tugs . xxmaj in case he does not own the tug , he has to provide documents to prove that he has entered into a lease for charter hire of tug(s ) for deploying them in the xxmaj port xxmaj trust during the period of the contract . xxmaj the tenderer should have experience of manning and harbor practice for one year during the last 3 years . xxmaj tugs should be deployed at xxunk at xxmaj new xxmaj mangalore xxmaj port during the contract period . \n",
       " \n",
       "  23 . xxmaj general conditions of the contract are also specified in the tender documents . xxmaj paras 5(a ) , 6(ii ) of the instructions to tenderers are extracted hereunder : \n",
       "  24 . xxmaj instructions at paras 5 , 6 , 13 and 15 of xxmaj general xxmaj conditions of xxmaj contract are as under : \n",
       "  25 . xxmaj clauses 1 and 3 to 15 of the xxmaj special xxmaj conditions which are relevant are extracted hereunder : \n",
       "  xxmaj special xxmaj conditions of xxmaj contract : \n",
       " \n",
       "  1 . xxmaj all operational costs , including wages ( xxmaj minimum xxmaj wages xxmaj act or any other xxmaj act , allowances , xxunk , xxmaj insurance ( xxmaj personal ) , xxmaj hull and xxmaj machinery , xxmaj protection & xxmaj indemnity ) will be borne by the xxmaj contractor . xxmaj repairs , survey , and other requirements to keep the tug operational will be to the xxmaj contractor 's account and during any absence of the tug from duty or inability of tug to perform for these or any other reasons , will result in non payment of hire charges , for the period the xxmaj tug was not made available to the xxmaj charterer , on pro - rata basis and clause 16 of the xxmaj charter xxmaj party xxmaj agreement shall apply . \n",
       "  2 . xxrep 7 x \n",
       "  3 . xxmaj on the date of commencement of the service , the tug shall have completed all the necessary surveys and be in possession of all valid certificates . xxmaj drydocking should not be required for a minimum period of two years from the date of delivery of xxmaj tug on charter . \n",
       "  4 . a joint survey will be carried out at xxup nmpt before the tug is accepted for service in the port to assess the condition , capability , and performance of the xxmaj tug and the quantity of fuel , lubricants , etc . \n",
       "  5 . xxmaj on - hire and off - hire survey charges shall be borne equally by the xxmaj charterer and the xxmaj contractors . \n",
       "  6 . xxmaj the xxmaj charterer will not be responsible for any damage suffered by the tug due to failure of the tug or errors of the xxmaj tug xxmaj master and crew or any reason whatsoever . \n",
       "  7 . xxmaj the contract will be for a period of 6 months with effect from the date of commencement of the service . xxmaj the contract may be extendable for a further period of one year at the discretion and option of xxup nmpt . xxmaj the xxmaj charterer may exercise the option for an extension not later than 30 days prior to the expiry of the first one year period . \n",
       "  8 . xxmaj the xxmaj tug shall be made available for port operations round the clock ( 24 hours a day ) throughout the contract period . \n",
       "  9 . xxmaj the xxmaj contractor shall comply with the xxmaj indian xxmaj merchant xxmaj shipping xxmaj act and any other legislation related to the operation of a tug in xxmaj indian territorial waters , and if of foreign registry , shall obtain the appropriate licenses / permission from the xxmaj directorate xxmaj general of xxmaj shipping , xxmaj mumbai for operating the tug in xxup nmpt . \n",
       "  10 . xxmaj the xxmaj contractor has to pay the revised minimum wages to the crew engaged by them . xxmaj if the crew is engaged for more than 8 hours , they should be compensated for the extra work . xxmaj the contractor has to take the insurance policy covering all types of risks of all employees engaged by them . \n",
       "  11 . xxmaj the xxmaj contractor shall carry out the works strictly in accordance with the contract to the satisfaction of the xxmaj deputy xxmaj conservator and shall comply with and adhere strictly to his instructions and direction on any matter ( whether mentioned in the contract or not ) . \n",
       "  12 . xxmaj the tug shall be delivered within 30 days from the date of issue of the xxmaj letter of xxmaj acceptance , in xxunk and efficient condition , and should be in possession of all necessary certificates . \n",
       "  13 . xxmaj if the contractor fails to deliver the tug in all respects within 30 days , from the date of issue of xxmaj letter of xxmaj acceptance , liquidated damages at the rate of xxmaj rs . 30,000 / - per day will be levied on the xxmaj contractor , and if 19 the xxmaj tug is not delivered for operation within 60 days from the date of issue of xxmaj letter of xxmaj acceptance , the contract shall be canceled and xxup emd forfeited . \n",
       "  14 . xxmaj the xxmaj contractor shall obtain necessary clearance , as required from xxunk , xxmaj ministry of xxmaj surface xxmaj transport , etc . for deploying the tug for service in the port before the tug is put into the service . \n",
       "  15 . xxmaj the steady / sustained xxmaj bollard pull of the xxmaj tug should not be less than 40 tonnes at the time of delivery . xxmaj bollard xxmaj pull test certificate should be from xxmaj classification society and should not be more than 6 months old from the date of delivery of the xxmaj tug to xxup nmpt . ” \n",
       "  26 . xxmaj the relevant clauses of agreement viz . , clauses 1 , 3 , 4 , 5 , 7 , 10 , 11 , 12 , 13 , 14 , 14 ( a ) , 15 , 16 , 17 , 21 & 22 read thus : \n",
       "  4 . xxup contractors xxup to xxup provide : \n",
       "  xxmaj except as otherwise stated in this charter or a : may be agreed from time to time the contractors shall provide and / or pay for all requirements , cost , or expense relating to the vessel , her master and crew , which , without prejudice to the generality of the foregoing shall include . \n",
       "  ( a ) xxmaj drydocking , repairs , docking for the contractor , : xxmaj purpose , and all expenses associated therewith , ( b ) provisions , wages ( as per minimum wages xxunk . , shipping and discharging fee ; and all other expenses of the xxmaj master , xxmaj officers and xxmaj crew ( xxunk , cabin and ongoing room stores ( d ) xxmaj adequate xxmaj no . of xxmaj towing ropes tested and certified ( o ) xxunk fuel , ( f ) xxmaj marine and war risk insurance of the vessel ( g ) xxunk and xxunk exemption certificate ( h ) all customs , or import duties arising in connection with any of the foregoing ( 1 ) all taxes , duties , and levies including but not limited to the taxes , duties , and levies imposed on the income of the contractor , its employees or any levies , etc . on any purchase made by the contractors and / or any penalties imposed by any authorities from time to time . \n",
       "  5 . xxmaj charterers to provide whilst the vessel is on hire fuel , lubricants , water , electricity , port charges , and anti - pollutants . xxmaj in case of actual fire fighting as ordered by xxmaj charterer , the cost of foam / chemicals consumed for the fire fighting will be reimbursed by the xxmaj charterer at actuals . \n",
       "  6 . xxmaj the xxmaj charterers at port of delivery and the xxmaj contractors at port of redelivery to take over and pay for all fuel and lubricants remaining in the vessel at xxmaj mangalore . \n",
       "  7 . xxup maintenance xxup and xxup operation : \n",
       "  ( a ) xxmaj the vessel shall , during the charter period , be for all purposes at the disposal of the xxmaj charterers and under the control in every respect . xxmaj the xxmaj contractor shall maintain xxmaj vessel , machinery , appurtenances and spare parts in a good state of repair , inefficient operating condition and in accordance with good commercial maintenance practice and they , shall keep the vessel with unexpired classification of the class / xxup xxunk and with other required certificates in force at all times . \n",
       "  ( b ) xxmaj the xxmaj charterer shall have the use of all outfits , equipment , and appliances on board at the time of delivery . xxmaj the contractor shall , from time to time during the charter period , replace such items of equipment as shall be so damaged or worn as to be unfit for use . xxmaj the xxmaj contractor shall carry out all repairs or replacement of any damaged , worn or lost parts or equipment in such manner ( both as regards workmanship and quality of materials ) as not to diminish the value and efficiency of the vessel . \n",
       "  xxx \n",
       "  10 . xxup inspection : \n",
       " \n",
       "  xxmaj the xxmaj charterers shall have the right to require the vessel to be xxunk docked if the contractor is not docking vessel at normal classification / statutory intervals . xxmaj the fees for such dry dock / inspection and survey shall be borne by the xxmaj contractor . xxmaj all time taken in respect of dry docking , inspection , survey , or repairs shall not count as time on hire and shall not form part of the charter period , and clause 16 of the xxmaj charter xxmaj party xxmaj agreement shall apply . \n",
       " \n",
       "  11 . xxup insurance : \n",
       "  ( a ) xxmaj during the xxmaj charter period , the vessel shall be kept insured by the xxmaj contractors at their expense against marine xxmaj hull & xxmaj machinery and war risks . xxmaj the xxmaj charterers and / or xxmaj insurers shall not have any right of recovery or subrogation against the xxmaj contractors on account of the loss of any damage to the vessel or her machinery or appurtenances covered by such xxmaj insurance or on account of payments made to discharge claims against or liabilities of the vessel or the xxmaj charterers covered by such insurance . \n",
       "  ( b ) xxmaj during the charter period , the vessel shall be kept insured by the contractors at their expense against protection and indemnity risks in such form as the charterers shall in writing approve which approval shall not be unreasonably withheld . xxmaj if the contractors fail to arrange and keep any of the xxunk provided for under the provisions of sub - clause ( b ) in the manner described therein , the xxmaj charterers shall notify xxmaj contractors whereupon the contractors shall rectify the position within seven running days . \n",
       "  ( c ) xxmaj in the event of any act or negligence on the part of the contractors which may vitiate any claim under the insurance herein provided , the contractor shall indemnify the xxmaj charterers against all claims and demands which would otherwise have been covered by such insurance . \n",
       "  12 . xxmaj the whole reach and burthen of the vessel , including lawful deck capacity to be at the xxmaj charterers ' disposal , reserving proper and sufficient space for the vessel 's master , xxmaj officers , xxmaj crew , xxunk , apparel , furniture , provisions and stores . \n",
       "  13 . xxmaj the vessel should have a set of competent and qualified xxmaj tug xxmaj master and xxmaj crew , as required by statutory regulation . \n",
       "  14 . ( a ) xxmaj the xxmaj master to execute the xxmaj charterer 's instructions with the utmost dispatch and to render customary assistance with the vessel 's crew . xxmaj the xxmaj master to be under the order of the xxmaj charterers as regards employment , agency , or other arrangements . xxmaj the xxmaj contractors to indemnify the xxmaj charterers against all consequences or liabilities arising from the xxmaj master , xxmaj officers , or xxmaj agents for their unlawful actions as well as from any irregularity in the vessel 's papers . \n",
       "  ( b ) xxmaj if the xxmaj charterers have the reason to be dissatisfied with the conduct or efficiency of the xxmaj master , xxmaj officer of the crew , the xxmaj contractors on 22 receiving particulars of the complaint , promptly investigate the matter and , if necessary , shall make a change in the appointment . xxmaj however , the xxmaj charterers shall have the right to demand the changes of any xxmaj master or other crew , which demand shall not be unreasonable . \n",
       "  15 . xxmaj the xxmaj charterer or their representatives will give tile xxmaj master all instructions in xxmaj english and the xxmaj master and xxeos\n",
       "y: CategoryList\n",
       "CRIMINAL,CIVIL,CIVIL,CIVIL,CIVIL\n",
       "Path: /content/drive/My Drive/Colab Notebooks/Judgements;\n",
       "\n",
       "Valid: LabelList (954 items)\n",
       "x: TextList\n",
       "xxbos xxup r. xxup banumathi , xxup j. \n",
       " \n",
       "  xxmaj leave granted . \n",
       "  2 . xxmaj this appeal arises out of the judgment dated 25.07.2012 passed by xxmaj kerala xxmaj high xxmaj court at xxmaj ernakulam allowing xxmaj criminal xxmaj revision xxmaj petition xxmaj xxunk of 2008 preferred by respondent no.1 herein thereby setting aside the acquittal of the appellant - accused no.1 for the offences punishable under xxmaj section 302 xxup ipc and xxmaj section 394 xxup ipc read with xxmaj section 34 xxup ipc and further remitting the matter back to the trial xxmaj court for retrial . \n",
       "  xxmaj signature xxmaj not xxmaj verified xxmaj digitally signed by \n",
       "  3 . xxmaj briefly stated case of the prosecution is that , the xxup asha xxup sundriyal xxmaj date : xxunk xxunk xxup ist deceased - xxmaj xxunk was sixty three years old widow and used to stay xxmaj reason : \n",
       "  xxmaj page xxmaj no . 1 of 11 alone in her house which was situated in five acres of agricultural land . xxmaj natarajan , father of accused no.1 used to stay in the same house where xxmaj xxunk was staying . xxmaj he was a permanent employee of xxmaj xxunk . xxmaj respondent xxunk xxmaj cheriyan , son of the deceased , for some reasons , directed xxmaj natarajan not to stay in the house and therefore , xxmaj natarajan discontinued his employment . xxmaj thereafter , for helping the deceased in agricultural work , the appellant - accused no.1 started staying with the deceased in her house . xxmaj on xxunk in the midnight , sister - in - law of deceased who was staying at a distance of 50 meters from the house of the deceased , heard cries from the house of deceased . xxmaj on hearing the cries of deceased , sister - in – law of deceased got xxunk her son xxmaj cheriyan @ xxmaj xxunk ( xxup pw-1 ) . xxmaj then , xxup pw-1 went to the house of deceased and asked the appellant - accused no.1 to open the door of the kitchen ; but the appellant - accused no.1 told him that he being tied with rope could not open the door and asked xxup pw-1 to take entry from the front door . xxup pw-1 , on entering the house from front door , found the deceased lying in unconscious state in the front room of the house and the appellant - accused no.1 being tied with rope in the kitchen . xxmaj the appellant - accused no.1 told xxup pw-1 that five xxunk had entered the house and after xxunk the xxmaj page xxmaj no . 2 of 11 deceased took away all the valuable gold ornaments and cash from the house . xxup pw-1 informed about the incident to respondent xxunk xxmaj cheriyan , eldest son of the deceased , and then they took the deceased to the xxmaj st. xxmaj john xxmaj hospital , xxmaj xxunk where she was declared dead . xxmaj at about 04.00 a.m. , xxup pw-1 went to xxmaj xxunk police station and his statement ( xxmaj ex . xxup p1 ) was recorded by xxunk - xxmaj inspector of xxmaj police , on the basis of which , case in xxmaj crime xxmaj no . 49 of 2006 was registered against five identifiable persons under xxmaj section 396 xxup ipc . \n",
       "  4 . xxmaj after registration of xxup fir , the xxmaj inspector of xxmaj police , during investigation prepared the spot panchnama ( scene mahazar ) and also taken the finger prints from the scene of crime . xxmaj the appellant - accused no.1 was arrested on 07.02.2006 at xxunk p.m. who gave a disclosure statement ; based on which , accused no.2 was located and arrested on the same day at 08.00 p.m. xxmaj confession statement of accused no.2 led to recovery of gold ornaments , currency notes and shawl which was used to xxunk the deceased , from the house of accused no.2 . xxmaj also , the grey hair found on the shawl were preserved for further investigation . xxmaj the post - mortem report disclosed that death of the deceased was caused due to smothering . xxmaj after completion of the xxmaj page xxmaj no . 3 of 11 investigation , charge - sheet was filed against the appellant - accused no.1 under xxmaj section 394 xxup ipc and xxmaj section 302 xxup ipc read with xxmaj section 34 xxup ipc . \n",
       "  5 . xxmaj the trial court convicted accused no.2 under xxmaj sections 302 and 394 xxup ipc inter alia on the following grounds:- a ) presence of accused no.1 has been confirmed in the house of the deceased due to the fact that finger prints of the accused were found on the objects recovered from the place of crime ; b ) ornaments of the deceased and the currency notes were recovered from the house of accused no.2 ; c ) recovery of shawl which was used in the commission of offence containing hair of the deceased , from the house of accused no.2 ; and \n",
       "  d ) that accused no.2 was in dire need of money to pay back his debts . xxmaj the trial court has acquitted the appellant - accused no.1 holding that the disclosure statement given by the appellant regarding involvement of accused no . 2 and location of the house of accused no.2 , are not sufficient grounds to establish the guilt of appellant . xxmaj the trial court held that the chance finger prints of the appellant - accused no.1 collected from the place of occurrence was immaterial as he was working as domestic help in the house of deceased . xxmaj page xxmaj no . 4 of 11 \n",
       "  6 . xxmaj being aggrieved by acquittal of appellant , respondent xxunk son of the deceased filed a criminal revision challenging the acquittal of the appellant - accused no.1 . xxmaj accused no.2 also filed a criminal appeal before the xxmaj high xxmaj court challenging his conviction and sentence . \n",
       "  7 . xxmaj the xxmaj high xxmaj court held that the trial court has committed irregularity in omitting to frame charges under xxmaj section 34 xxup ipc , even though the trial court itself has framed an issue on the point of sharing of common intention of accused nos.1 and 2 in committing robbery and murder of the deceased which has materially affected the trial . xxmaj the xxmaj high xxmaj court further held that the fingerprint expert who had prepared the report ( xxmaj ex . xxup p8 ) ought to have been examined before the trial court and non - examination of that witness has caused prejudice . xxmaj the xxmaj high xxmaj court has taken note of that the trial court has failed to evaluate the possibility of accused no.2 in committing the crime alone without the aid of the appellant and also that there was no injury on the appellant when he was found tied with the rope in the house of deceased . \n",
       "  8 . xxmaj we have heard learned counsel for the parties and perused the impugned judgment and materials on record . xxmaj the point falling for consideration is whether the xxmaj high xxmaj court was right in setting aside the xxmaj page xxmaj no . 5 of 11 judgment of the trial court and remitting the matter back to the trial court for retrial . \n",
       "  9 . xxmaj section 386 xxmaj cr . xxup p.c. defines the powers of the xxmaj appellate xxmaj court in dealing with the appeals . xxmaj the powers enumerated thereon are vested in all courts , whether the xxmaj high xxmaj court or subordinate courts , except that xxmaj clause ( a ) of the section is restricted to the powers of the xxmaj high xxmaj court only , since an appeal against an order of acquittal lies only to that court , while xxmaj clause ( b ) of the section is not so restricted and embraces all courts . xxmaj the power to direct the accused to be xxunk has been conferred on the xxmaj high xxmaj court not only when it deals with an appeal against acquittal but also when it deals with an appeal against conviction . xxmaj section 386 xxmaj cr . xxup p.c. reads as under:- \n",
       "  10 . xxmaj under xxmaj section xxunk ) and ( b)(i ) , the power to direct retrial has been conferred upon the xxmaj appellate xxmaj court when it deals either with an appeal against judgment of conviction or an appeal against acquittal ( xxmaj high xxmaj court ) . xxmaj there is a difference between the powers of an xxmaj appellate xxmaj court under xxmaj clauses ( a ) and ( b ) . xxmaj under xxmaj clause ( b ) , the xxmaj court is required to touch the finding and sentence , but under xxmaj clause \n",
       "  ( a ) , the xxmaj court may reverse the order of acquittal and direct that further enquiry be made or the accused may be xxunk or may find him guilty and pass sentence on him according to law . \n",
       "  11 . xxmaj normally , retrial should not be ordered when there is some infirmity rendering the trial defective . a retrial may be ordered when the original trial has not been satisfactory for particular reasons like ... , appropriate charge not framed , evidence wrongly rejected which could have been admitted or evidence admitted which could have been rejected etc . xxmaj retrial can not be ordered when there is a mere irregularity or where it does not cause any prejudice , the xxmaj appellate xxmaj page xxmaj no . 7 of 11 xxmaj court may not direct retrial . xxmaj the power to order retrial should be exercised only in exceptional cases . \n",
       "  12 . xxmaj in xxup k. xxmaj chinnaswamy xxmaj ready v. xxmaj state of xxmaj andhra xxmaj pradesh and xxmaj another , xxup air 1962 xxup sc 1788 , the accused had been convicted by the trial court . xxmaj the xxmaj sessions xxmaj court took the view that an important piece of evidence held against the accused was inadmissible and acquitted him . xxmaj the xxmaj high xxmaj court in revision by the de facto complainant held that the evidence held to be inadmissible by the xxmaj sessions xxmaj court was admissible and set aside the acquittal directing the accused to be xxunk on the same charges . xxmaj the xxmaj supreme xxmaj court agreed with the xxmaj high xxmaj court that the acquittal deserved to be set aside . xxmaj in para ( 7 ) , this xxmaj court has spelt out what could be termed as exceptional circumstances which reads as under:- \n",
       " \n",
       "  ( underlining added ) xxmaj the same principle was again reiterated in xxmaj mahendra xxmaj pratap xxmaj singh v. xxmaj sarju xxmaj singh and xxmaj another xxup air 1968 xxup sc 707 . \n",
       "  13 . xxmaj in xxmaj xxunk xxmaj singh and others v. xxmaj janardan xxmaj prasad , xxup air 1966 xxup sc 356 , accused was tried for offences under xxmaj sections 420 , 466 , 406 and 465 / 471 xxup ipc and acquitted . xxmaj the trial court did not frame charge under xxmaj section 467 xxup ipc regarding which there were prima facie materials available , that is an offence triable exclusively by the xxmaj sessions xxmaj court . xxmaj the xxmaj high xxmaj court , in appeal , set aside the acquittal and ordered retrial . xxmaj the xxmaj supreme xxmaj court dismissed the appeal preferred before it . xxmaj the court referred to earlier decisions in xxmaj xxunk xxmaj chandra xxmaj bose v. xxmaj bimal xxmaj krishna xxmaj sen and xxmaj another xxup air 1963 xxup sc 316 and xxmaj rajeshwar xxmaj prasad xxmaj misra v. xxmaj state of xxmaj west xxmaj bengal and xxmaj another xxup air xxmaj page xxmaj no . 9 of 11 1965 xxup sc 1887 with reference to the facts of those cases and emphasized that wide discretion available with the xxmaj appellate xxmaj court in ordering retrial . \n",
       "  14 . xxmaj in appeal against acquittal , in exceptional circumstances , the xxmaj high xxmaj court may set aside the order of acquittal even at the instance of private parties , though the xxmaj state may not have thought it fit for appeal . xxmaj but it is to be emphasized that this jurisdiction is to be exercised only in exceptional circumstances when there is glaring defect in the conduct of trial which has materially affected the trial or caused prejudice . xxmaj in the present case , the xxmaj high xxmaj court found that even though the trial court has framed an issue on the point of sharing of common intention of accused xxmaj nos . 1 and 2 in committing the offence , the omission to frame charges under xxmaj section 34 xxup ipc has materially affected the trial . xxmaj the xxmaj high xxmaj court further observed that the fingerprint expert who prepared xxmaj ex . xxup p8 ought to have been examined and other circumstances emerging out of evidence ought to have been examined by the trial court . xxmaj the xxmaj high xxmaj court further observed that because of the omission to frame the charges under xxmaj section 34 xxup ipc , in spite of framing the issue of common intention , the trial court has not examined the evidence in proper perspective , which according to the xxmaj page xxmaj no . 10 of 11 xxmaj high xxmaj court has materially affected the trial which is called for retrial . xxmaj the discretion exercised by the xxmaj high xxmaj court under xxmaj section 386 ( a ) xxmaj cr . xxup p.c. directing retrial with certain directions can not be said to be erroneous warranting interference . \n",
       "  15 . xxmaj in the result , the appeal is dismissed . xxmaj the trial court shall proceed with the matter as per the directions of the xxmaj high xxmaj court and dispose of the matter as expeditiously as possible . xxmaj no costs . \n",
       "  xxrep 5 . … … . xxrep 4 … ... … … … xxup j. \n",
       "  [ xxup ranjan xxup gogoi ] xxrep 4 . xxrep 5 … . xxrep 5 … xxup j. \n",
       "  [ xxup r. xxup banumathi ] xxmaj new xxmaj delhi ; \n",
       "  xxmaj january 23 , 2018 xxmaj page xxmaj no . 11 of 11 xxeos,xxbos of law . ” \n",
       "  20 . xxmaj in the said case , xxmaj section xxunk ) which provided for office of profit , read thus:­ “ xxunk ) : xxmaj no person shall be qualified to become a xxmaj councillor whether by election , xxunk or nomination , who is a subordinate officer or servant of xxmaj government or any local authority or holds an office of profit under xxmaj government or any local authority ; ” xxmaj it was contended before the xxmaj election xxmaj tribunal that the elected candidate was not entitled to become a councilor as he 27 held an office of profit under the xxmaj government . xxmaj to appreciate the concept of office of profit , this xxmaj court referred to xxmaj section 58 of the xxup esi xxmaj act , 1948 , xxup esi xxmaj scheme and opined that the elected candidate although was a private doctor and running a private clinic was also an insurance medical practitioner subject to the discipline , directions , obligations and control of the relevant officers appointed by the xxmaj state xxmaj government in implementing the medical benefit scheme . xxmaj his letter of appointment read that being a medical practitioner ‘ appointed as such to provide medical benefit under the xxmaj act and to perform such other functions as may be assigned to him ’ . \n",
       "  21 . xxmaj we may note with profit that in the said case , xxmaj krishna xxmaj iyer , xxup j. clarified the conflict between xxmaj mahadeo ( supra ) and xxmaj srimati xxmaj kanta xxmaj kathuria ( supra ) by stating thus:­ “ 41 . … xxmaj judicial technology sometimes distinguishes , sometimes demolishes earlier decisions ; the art is fine and its use skilful . xxmaj both the cases dealt with advocates and we have referred to them in the earlier resume of precedents . xxmaj even so , a closer look will disclose why we follow the larger xxmaj bench ( as we are bound to , even if there is a plain conflict between the two cases ) . xxmaj justice xxmaj rowlatt ’s locus classicus in xxmaj great xxmaj western xxmaj rly . xxmaj co. ( followed by this xxmaj court in many 28 cases ) helps us steer clear of logomachy about “ office ” especially since the xxmaj new xxmaj english xxmaj dictionary xxunk four columns . xxmaj rowlatt , xxup j. xxunk attention on a subsisting , permanent , substantive position , which had an existence independent from the person who filled it , which went on and was filled in succession by successive holders ’ . xxmaj so , the first step is to enquire whether “ a permanent , substantive position , which had an existence independent from the person who filled it ” can be postulated in the case of an insurance medical practitioner . xxmaj by contrast , is the post an ephemeral , ad hoc , provisional incumbency created , not independently but as a list or panel elastic and expiring or expanding , distinguished from a thing that survives even when no person had been appointed for the time being ? “ xxmaj thin partitions do their bounds divide ” , we agree , but the distinction , though delicate , is real . xxmaj an office of insurance medical practitioner can be xxunk up if it exists even where no doctor sits in the saddle and has duties attached to it qua office . xxmaj we can not equate it with the post of a peon or security xxunk who too has duties to perform or a workshop where government vehicles are repaired , or a milk vendor from an approved list who supplies milk to government hospitals . a panel of lawyers for legal aid to the poor or a body of doctors enlisted for emergency service in an epidemic outbreak charged with responsibilities and paid by the xxmaj government can not be a pile of offices of profit . xxmaj if this perspective be correct , xxmaj kanta and xxmaj mahadeo 29 fit into a legal scheme . xxmaj in the former , an ad hoc xxmaj assistant xxmaj government xxmaj pleader with duties and remuneration was held to fall outside “ office of profit ” . xxmaj it was a casual engagement , not exalted to a permanent position , occupied pro xxunk by a or xxmaj in xxup b. \n",
       "  xxmaj mahadeo , a permanent panel of lawyers “ maintained by the xxmaj railway xxmaj administration ” with special duties of a lasting nature constituted the offices of profit — more like standing counsel . … ” [ xxmaj emphasis supplied ] xxmaj we may hasten to say that we concur with the said harmonization as we find that it is founded on apposite reasoning and also in accord with the precedents holding the view as regards ‘ office of profit ’ . xxmaj be it noted , eventually , the xxmaj court ruled that the appellant therein a doctor functioning under the xxup esi xxmaj scheme was not holding an office of profit . \n",
       "  22 . xxmaj in xxmaj ashok xxmaj kumar xxmaj xxunk v. xxmaj ajoy xxmaj biswas and others10 , a three­judge xxmaj bench while dealing with the issue whether the respondent xxmaj no . 1 was disqualified for being elected as a member of the xxmaj house of xxmaj people as he held an office of profit under the xxmaj government of xxmaj tripura within the meaning of xxmaj article xxunk ) of the xxmaj constitution , for on the 10 ( 1985 ) 1 xxup scc 151 30 relevant date he was an xxmaj xxunk in­charge of the xxmaj agartala xxmaj municipality . xxmaj after referring to many an authority , the xxmaj court ruled that for determination of the question whether a person holds an office of profit under the xxmaj government , each case must be measured and judged in the light of the relevant provisions . xxmaj the xxmaj court further opined:­ “ 21 . … xxmaj local xxmaj authority as such or any other authority does not cease to become independent entity separate from xxmaj government . xxmaj whether in a particular case it is so or not must depend upon the facts and circumstances of the relevant provisions . xxmaj to make in all cases employees of xxmaj local xxmaj authorities subject to the control of xxmaj government , holders of office of profit under the xxmaj government would be to obliterate the specific differentiation made under xxmaj article xxunk ) of the xxmaj constitution and to extend disqualification under xxmaj article xxunk ) to an extent not warranted by the language of the article . ” xxmaj on the basis of the aforesaid , ultimately the three­judge xxmaj bench recorded its finding that the first respondent did not hold an office of profit under the xxmaj government of xxmaj tripura on the date of filing of the nomination . \n",
       " \n",
       "  23 . xxmaj in xxmaj shibu xxmaj xxunk v. xxmaj dayanand xxmaj sahay and others11 , a three­judge xxmaj bench , while dealing with the office of profit , opined that the expression \" office of profit \" has not been defined either in the xxmaj constitution or in the xxmaj representation of xxmaj people xxmaj act . xxmaj xxunk further , the xxmaj court proceeded to state that in common parlance , the expression ' profit ' connotes an idea of some pecuniary gain . xxmaj if there is really some gain , its label ­ ' honorarium ' ­ ' remuneration ' ­ ' salary ' is not material . xxmaj it is the substance and not the form which matters and even the quantum or amount of \" pecuniary gain \" is not relevant . xxmaj what needs to be found out is whether the amount of money receivable by the concerned person in connection with the office he holds , gives to him some \" pecuniary gain \" , other than as ' compensation ' to defray his out of pocket expenses , which may have the possibility to bring that person under the influence of the executive , which is conferring that benefit on him . xxmaj eventually , the xxmaj court held that:­ “ xxmaj the question whether a person holds an office of profit , as already noticed , is required to be interpreted in a realistic 11 ( 2001 ) 7 xxup scc 425 32 manner having regard to the facts and circumstances of each case and relevant statutory provisions . xxmaj while ' a strict and narrow construction ' may not be adopted which may have the effect of ' shutting off many prominent and other eligible persons to contest the elections ' but at the same time \" in dealing with a statutory provision which imposes a disqualification on a citizen it would be unreasonable to take merely a broad and general view and ignore the essential points \" . xxmaj the approach which appeals to us to interpret the expression \" office of profit \" is that it should be interpreted with the flavour of reality bearing in mind the object for enactment of xxmaj article xxunk ) namely to eliminate or in any event to reduce the risk of conflict between the duty and interest amongst members of the legislature by ensuring that the legislature does not have persons who receive benefits from the xxmaj executive and may thus be amenable to its influence . ” xxmaj the aforesaid passage emphasizes on the purpose of disqualification , the approach of the xxmaj court while appreciating the expression and to reduce the risk of conflict of interest between the duties and interest . \n",
       "  24 . xxmaj in xxmaj jaya xxmaj bachchan v. xxmaj union of xxmaj india and others12 , the issue arose whether the petitioner was holding an office of profit . xxmaj she was appointed as xxmaj chairman of the xxmaj uttar xxmaj pradesh 12 ( 2006 ) 5 xxup scc 266 33 xxmaj film xxmaj development xxmaj council and was entitled to certain benefits . xxmaj the xxmaj court analyzing the law enunciated in xxmaj xxunk xxmaj xxunk ( supra ) and xxmaj shibu xxmaj xxunk ( supra ) opined that it is well settled that where the office carries with it certain emoluments or the order of appointment states that the person appointed is entitled to certain emoluments , then it will be an office of profit , even if the holder of the office chooses not to receive / draw such emoluments . xxmaj what is relevant is whether pecuniary gain is \" receivable \" in regard to the office and not whether pecuniary gain is , in fact , received or received xxunk . \n",
       "  25 . xxmaj in the case at hand , the first respondent was treated as disqualified on the foundation that he was in service of the xxmaj government . xxmaj in this context , we may usefully refer to the letter of appointment issued by the xxmaj government of xxmaj bihar , xxmaj legal ( xxmaj justice ) xxmaj department to the xxmaj district xxmaj magistrate , xxmaj nalanda . xxmaj it reads as follows:­ \" xxmaj letter xxunk / xxup xxunk ) xxunk / 98 / xxunk / b xxmaj government of xxmaj bihar xxmaj legal ( xxmaj justice ) xxmaj department 34 xxmaj from xxmaj sri xxmaj birendra xxmaj singh , xxmaj joint xxmaj secretary to the xxmaj government , xxmaj bihar xxmaj to xxmaj district xxmaj magistrate , xxmaj nalanda , xxmaj xxunk xxmaj patna , xxmaj dated 18th xxmaj august , 2000 xxmaj sub . : xxmaj in relation to appointment of xxmaj assistant xxmaj government xxmaj advocate for the xxmaj court at xxmaj nalanda and xxmaj xxunk xxmaj sir , xxmaj in reference to your letter xxmaj no . xxunk dated xxunk on above mentioned subject and law xxmaj department xxmaj letter xxmaj no . xxunk dated xxunk as per direction i have to inform that the xxmaj state xxmaj government has been kind to appoint xxmaj sri xxmaj xxunk xxmaj prasad , xxmaj advocate on the post of xxmaj assistant xxmaj government xxmaj advocate in the panel of xxmaj assistant xxmaj government xxmaj advocates constituted for the xxmaj court at xxmaj nalanda and xxmaj xxunk . \n",
       "  xxmaj after this appointment the total number of xxmaj assistant xxmaj government xxmaj advocates in the xxmaj court of xxmaj nalanda would be 19 ( xxmaj nineteen ) and the total number of xxmaj assistant xxmaj government xxmaj advocates in the xxmaj court of xxmaj xxunk would be 4 ( four ) . \n",
       "  xxmaj faithfully yours , xxmaj sd / ­ xxmaj joint xxmaj secretary to the xxmaj govt . , xxmaj bihar \" \n",
       "  xxmaj analyzing the letter , the xxmaj election xxmaj commission has held that the elected candidate was holding a post under the xxmaj state xxmaj government and , therefore , he was disqualified under sub­ section ( xxunk ) of xxmaj section 139 of the xxmaj act . \n",
       "  26 . xxmaj on a careful scrutiny of the communication , it is quite vivid that the respondent xxmaj no . l was appointed to the post of xxmaj assistant xxmaj government xxmaj advocate in the panel of xxmaj assistant xxmaj government xxmaj advocates constituted for the courts at xxmaj nalanda and xxmaj xxunk . xxmaj there is no mention of any fixed remuneration . \n",
       "  27 . xxmaj in the obtaining factual score , would it be appropriate to accept the submission of the appellants that the elected candidate was in the service of the government . xxmaj the legislature has , in exercise of its legislative power and wisdom , not used the words “ office of profit ” . xxmaj therefore , whether such a letter of appointment can be construed to determine if the person is holding an office of profit is not necessary to be addressed although we have referred to certain authorities to appreciate the context and its fundamental purpose . xxmaj in the instant case , the election pertains to a xxmaj panchayat xxmaj samiti which basically 36 relates to the concept at the grass root level . xxmaj the legislature , as it seems to us , has not thought of office of profit because had it thought so it would have provided in that manner . xxmaj in xxmaj xxunk xxmaj ali ( supra ) , the legislature had provided a disqualification keeping in view the conflict of interest . xxmaj the absence of such a provision possibly is to include persons from different fields as long as they are not in service under the government or a service in an institution receiving aids from the xxmaj central or xxmaj state xxmaj government or any local authority . xxmaj the legislature , as the postulate stands today , has confined to categories of service mentioned hereinbefore . xxmaj it depends on the legislative wisdom . xxmaj it further needs to be stated that the nature of disqualification has to be strictly construed keeping in mind that right to contest an election is not a fundamental right but the said right may be curtailed under valid statutory provision . \n",
       "  28 . xxmaj the aforesaid being the position , we may presently focus on what constitutes a service . xxmaj in xxmaj state of xxmaj assam and others 37 v. xxmaj kanak xxmaj chandra xxmaj xxunk , xxmaj bachawat , xxup j. , speaking for the xxmaj constitution xxmaj bench , held that a person holding a post under a xxmaj state is a person serving or employed under the xxmaj state . xxmaj there is a relationship of master and servant between the xxmaj state and a person holding a post under it . xxmaj the existence of this relationship is indicated by the xxmaj state 's right to select and appoint the holder of the post , its right to suspend and dismiss him , its right to control the manner and method of his doing the work and the payment by it of his wages or remuneration . a relationship of master and servant may be established by the presence of all or some of these indicia , in conjunction with other circumstances and it is a question of fact in each case whether there is such a relation between the xxmaj state and the alleged holder of a post . \n",
       "  29 . xxmaj in this regard , reference to another xxmaj constitution xxmaj bench decision in xxmaj roshan xxmaj lal xxmaj tandon v. xxmaj union of xxmaj india14 would be apposite . xxmaj in the said case , it has been opined that the legal position of a xxmaj government servant is more one of status than a 13 xxup air 1967 xxup sc 884 14 xxup air 1967 xxup sc 1889 38 contract . xxmaj the xxunk of status is the attachment to legal relationship of rights and duties imposed by the public law and not by mere agreement by the parties . xxmaj the duties of status are fixed by the law and status is a condition of membership of a group of which powers and duties are exclusively determined by law and not by agreement between the parties concerned . xxmaj as is evincible , emphasis was given on the status in contradistinction to contractual service . \n",
       "  30 . xxmaj learned counsel appearing for the xxmaj commission , has placed heavy reliance on xxmaj kumari xxmaj shrilekha xxmaj vidyarthi and others v. xxmaj state of xxup u.p. and others15 . xxmaj in the said case , the xxmaj government of the xxmaj state of xxup u.p. had terminated by a general order the appointments of all xxmaj government xxmaj counsel ( xxmaj civil , xxmaj criminal , xxmaj revenue ) in all the districts of the xxmaj state of xxup u.p. xxmaj the xxmaj high xxmaj court had upheld the circular by which the order was passed . xxmaj in appeal , by special leave , the xxmaj court dealt with two contentions , namely , the nature of appointments and the minimum basis of status attached to those appointments . xxmaj for 15 ( 1991 ) 1 xxup scc 212 39 the purpose of examination whether the ground of arbitrariness was available to vitiate the circular , the xxmaj court referred to the xxmaj legal xxmaj remembrancer 's xxmaj manual and especially paragraphs 7.06 to xxunk which deals with appointment and renewal of local practitioners finally selected by the government . xxmaj the said paragraph deals with the term , tenure , bar on political activity , renewal of term and character roll . \n",
       "  31 . xxmaj relying on the same and other aspects , the xxmaj court held:­ \" xxmaj the above provisions in the xxup l.r. xxmaj manual clearly show that the xxmaj government xxmaj counsel in the districts are treated as xxmaj law xxmaj officers of the xxmaj state who are holders of an ' office ' or ‘ post ' . xxmaj the aforesaid provisions in xxmaj chapter xxup vii relating to appointment and conditions of engagement of xxmaj district xxmaj government xxmaj counsel show that the appointments are to be made and ordinarily renewed on objective assessment of suitability of the person based on the opinion of the xxmaj district xxmaj officer and the xxmaj district xxmaj judge ; and character roll is maintained for keeping a record of the suitability of the appointee to enable an objective assessment for the purpose of his continuance as a xxmaj law xxmaj officer in the district . xxmaj there are provisions to bar private practice and participation in political activity by xxunk . xxmaj apart from clause 3 of para 7.06 to which we shall advert a little later , these provisions clearly indicate that the 40 appointment and engagement of xxmaj district xxmaj government xxmaj counsel is not the same as that by a private litigant of his counsel and there is obviously an element of continuity of the appointment unless the appointee is found to be unsuitable either by his own work , conduct or age or in comparison to any more suitable candidate available at the place of appointment . xxmaj suitability of the appointee being the prime criterion for any such appointment , it is obvious that appointment of the best amongst those available , is the object sought to be achieved by these provisions , which , even otherwise , should be the paramount consideration in discharge of this governmental function aimed at promoting public interest . xxmaj all xxmaj govt . xxmaj counsel are paid remuneration out of the public exchequer and there is a clear public element attaching to the ' office ' or ' post ' . \" xxmaj after so stating , the xxmaj court referred to xxmaj sections 24 and 321 of the xxmaj code of xxmaj criminal xxmaj procedure and further analyzed the ratio in xxmaj xxunk xxmaj prasad xxmaj singh v. xxmaj state of xxmaj xxunk and xxmaj mukul xxmaj dalal and others v. xxmaj union of xxmaj india and others17 and came to hold that the office of the xxmaj public xxmaj prosecutor is a public one and the primacy given to the xxmaj public xxmaj prosecutor under the scheme of xxmaj code has a social purpose . 16 ( 1979 ) 4 xxup scc 701 17 ( 1988 ) 3 xxup scc 144 41 \n",
       "  32 . xxmaj in this regard , we may reproduce a passage from the said authority which is as follows:­ “ xxmaj we are , therefore , unable to accept the argument of the learned xxmaj additional xxmaj advocate xxmaj general that the appointment of xxmaj district xxmaj government xxmaj counsel by the xxmaj state xxmaj government is only a professional engagement like that between a private client and his lawyer , or that it is purely contractual with no public element attaching to it , which may be terminated at any time at the sweet will of the xxmaj government excluding judicial review . xxmaj we have already indicated the presence of public element attached to the ` office ' or ` post ' of xxmaj district xxmaj government xxmaj counsel of every category covered by the impugned circular . xxmaj this is sufficient to attract xxmaj article 14 of the xxmaj constitution and bring the question of validity of the impugned circular within the scope of judicial review . ” \n",
       "  33 . xxmaj eventually , the xxmaj court analyzing the test of xxmaj article 14 , opined:­ “ xxmaj in our opinion , the wide sweep of xxmaj article 14 undoubtedly takes within its fold the impugned circular issued by the xxmaj state of xxup u.p. in exercise of its executive power , irrespective of the precise nature of appointment of the xxmaj government xxmaj counsel in the districts and the other rights , contractual or statutory , which the appointees may have . xxmaj it is for this reason that we base our decision on the ground 42 that independent of any statutory right , available to the appointees , and assuming for the purpose of this case that the rights flow only from the contract of appointment , the impugned circular , issued in exercise of the executive power of the xxmaj state , must satisfy xxmaj article 14 of the xxmaj constitution and if it is shown to be arbitrary , it must be struck down . xxmaj however , we have referred to certain provisions relating to initial appointment , termination or renewal of tenure to indicate that the action is controlled at least by settled guidelines , followed by the xxmaj state of xxup u.p. , for a long time . xxmaj this too is relevant for deciding the question of arbitrariness alleged in the present case . ” xxmaj the aforesaid passages clearly show that the xxmaj court went by the concept of public element attached to the office or post of xxmaj government xxmaj pleader . xxmaj it has not expressed the opinion that they are under the xxmaj government service . xxmaj be that as it may , as has been held by the learned xxmaj single xxmaj judge and rightly so , there is no xxunk relationship and the respondent was not amenable to any disciplinary proceeding . xxmaj he has correctly expressed the view that the conduct of the advocate is subject to the discipline of the xxmaj bar xxmaj council . xxmaj as we notice , there is nothing on record to show that he was getting any remuneration . xxmaj even if some remuneration is attached to the 43 office , he can not be treated to be under the service of the xxmaj state xxmaj government . xxmaj the aspects which are essential for establishing a relationship of master and servant are absent . xxmaj therefore , the returned candidate could not have been treated to be in service under the xxmaj state xxmaj government . \n",
       "  34 . xxmaj in view of the premised reasons , we do not find any substance in the appeal and the same is , accordingly , dismissed . xxmaj in the facts and circumstances of the case , there shall be no order as to costs . \n",
       "  xxrep 11 … xxup cji . \n",
       "  ( xxmaj dipak xxmaj misra ) xxrep 11 … ... xxup j. \n",
       "  ( xxup a.m. xxmaj khanwilkar ) xxrep 11 … ... xxup j. xxeos,xxbos xxup r. xxup banumathi , xxup j. \n",
       " \n",
       "  xxmaj leave granted . \n",
       "  2 . xxmaj being aggrieved by the judgment and order dated 29.05.2013 passed by the xxmaj high xxmaj court of xxmaj allahabad in xxmaj second xxmaj appeal xxmaj no . 641 of 2013 , in which the xxmaj high xxmaj court has dismissed the appeal preferred by the appellant and thereby declining to dissolve the marriage . \n",
       "  3 . xxmaj the appellant and the respondent were married on xxunk . a girl child was born out of the said wedlock and she is now aged about 18 years . xxmaj due to strained relationship , the parties are living separately . xxmaj the appellant - husband has filed a suit for dissolution of marriage xxmaj signature xxmaj not xxmaj verified before the xxmaj family xxmaj court , xxmaj mumbai , which was xxmaj digitally signed by xxup madhu xxup bala xxmaj date : 2019.05.06 xxunk xxup ist xxmaj reason : subsequently transferred to xxmaj etawah xxmaj district xxmaj court , xxmaj uttar xxmaj pradesh . xxmaj the xxmaj trial xxmaj court dismissed the divorce petition filed by the appellant by judgment dated xxunk . xxmaj the 2 appeal preferred by the appellant was also dismissed by the xxmaj district xxmaj court by the judgment dated xxunk . xxmaj the xxmaj high xxmaj court also dismissed the second appeal preferred by the appellant - husband . xxmaj being aggrieved , the appellant is before us . \n",
       "  4 . xxmaj we have heard xxmaj mr. xxmaj ashok xxmaj mathur , learned counsel appearing on behalf of the appellant as well as xxmaj mr. xxmaj rajesh xxmaj aggarwal , learned counsel appearing on behalf of the respondent . \n",
       "  5 . xxmaj when the matter was pending before this xxmaj court , the parties were referred to mediation and the parties have amicably settled the matter . xxmaj the parties have also filed a separate application agreeing for dissolution of marriage by mutual consent invoking the powers under xxmaj article 142 of xxmaj constitution of xxmaj india . xxmaj as per the settlement between the parties , the appellant - husband has agreed to pay xxmaj rs.10,00,000 / - ( xxmaj rupees ten lakhs ) to the respondent - wife ( paid today by way of post - dated cheque xxmaj no . xxunk drawn in favour of respondent - wife viz . xxmaj neelam xxmaj singh dated 11th xxmaj may , 2019 drawn on xxmaj bank of xxmaj baroda ) in full and final settlement of her claims towards monthly maintenance past , present and future and in full quit of all other claims . xxmaj additionally , the appellant has agreed to pay xxmaj rs.3,00,000 / - by way of xxup fdr in the name of the daughter payable within a period of three months from today . xxmaj he has also agreed to contribute another one lakh at the time of solemnization of the marriage of the daughter . xxmaj the parties have also agreed that all the pending 3 cases between the parties shall be withdrawn or they will agree for quashing the respective cases . \n",
       "  6 . xxmaj since the parties have amicably settled the matter , considering the facts and circumstances of the case , in exercise of our power under xxmaj article 142 of the xxmaj constitution of xxmaj india , the marriage of the appellant and the respondent solemnized on xxunk is dissolved . xxmaj the following terms of xxmaj compromise between the parties shall form part of this judgment which reads as under : \n",
       "  8 . xxmaj in case of non - compliance of the terms of compromise , 5 the parties would be liable for contempt of this xxmaj court in addition to other remedies available under law . \n",
       "  9 . xxmaj the xxmaj registry shall draft the decree accordingly . \n",
       "  10 . xxmaj the appeal is disposed of in above terms . \n",
       "  xxrep 17 … .. xxup j. \n",
       "  [ xxup r. xxup banumathi ] xxup new xxup delhi xxrep 16 … ... xxup j. xxeos,xxbos 431 will apply to xxmaj section 421(1 ) as well , despite the fact that the last part of the proviso to xxmaj section 421(1 ) makes a reference only to an order for payment of expenses or compensation out of a fine , which would necessarily refer only to xxmaj section 357(1 ) and not 357(3 ) . xxmaj despite this being so , so long as compensation has been directed to be paid , albeit under xxmaj section 357(3 ) , xxmaj section 431 , xxmaj section 70 xxup ipc and xxmaj section 421(1 ) proviso would make it clear that by a legal fiction , even though a default sentence has been suffered , yet , compensation would be recoverable in the manner provided under xxmaj section 421(1 ) . xxmaj this would , however , be without the necessity for recording any special reasons . xxmaj this is because xxmaj section 421(1 ) proviso contains the disjunctive “ or ” following the recommendation of the xxmaj law xxmaj commission , that the proviso to old xxmaj section 386(1 ) should not be a bar to the issue of a warrant for levy of fine , even when a sentence of imprisonment for default has been fully undergone . xxmaj the last part inserted into the proviso to xxmaj section 421(1 ) as a result of this recommendation of the xxmaj law xxmaj commission is a category by itself which applies to compensation payable out of a fine under xxmaj section 357(1 ) and , by applying the fiction contained in xxmaj section 431 , to compensation payable under xxmaj section 357(3 ) . \n",
       "  28 . xxmaj as is well known , a legal fiction is not to be extended beyond the purpose for which it is created or beyond the language of the section by which it is created . xxmaj for example , see xxmaj prakash xxup h. xxmaj jain v. xxmaj marie xxmaj fernandes , ( 2003 ) 8 xxup scc 431 at 438 . xxmaj however , once the purpose of the legal fiction is ascertained , full effect must be given , and it should be carried to its logical conclusion . xxmaj this is clear from the celebrated passage in xxmaj east xxmaj end xxmaj dwelling xxmaj co. xxmaj ltd. v. xxmaj finsbury xxmaj borough xxmaj council , 1951 ( 2 ) xxmaj all xxup er 587 at 589 : \n",
       "  “ if you are bidden to treat an imaginary state of affairs as real , you must surely , unless prohibited from doing so , also imagine as real the consequences and incidents which , if the putative state of affairs had in fact existed , must inevitably have flowed from or accompanied it . xxmaj one of those in this case is emancipation from the 1939 level of rents . xxmaj the statute says that you must imagine a certain state of affairs ; it does not say that having done so , you must cause or permit your imagination to boggle when it comes to the inevitable corollaries of that state of affairs ” . \n",
       "  29 . xxmaj the legal fiction enacted under xxmaj section 431 is not limited to “ the purpose of this xxmaj act ” unlike xxmaj section xxup 6a of the xxmaj central xxmaj sales xxmaj tax xxmaj act , as was the case in xxmaj ashok xxmaj leyland xxmaj limited v. xxmaj state of xxmaj tamil xxmaj nadu , ( 2004 ) 3 xxup scc 1 at para xxunk . xxmaj thus it is clear that the object of the legal fiction created by xxmaj section 431 is to extend for the purpose of recovery of compensation until such recovery is completed - and this would necessarily take us not only to xxmaj section 421 of the xxmaj cr . xxup p.c. but also to xxmaj section 70 of the xxmaj penal xxmaj code , a companion criminal statute , as has been held above . \n",
       "  30 . xxmaj this being the case , we uphold the conclusion of the judgment dated 8th xxmaj august , 2012 of the xxmaj division xxmaj bench of the xxmaj kerala xxmaj high xxmaj court but for the reasons given in this judgment . xxmaj the appeals are dismissed accordingly . \n",
       "  xxrep 12 … .. xxup j. \n",
       "  ( xxup r.f. xxup nariman ) … . xxrep 11 … xxup j. \n",
       "  ( xxup navin xxup sinha ) xxmaj new xxmaj delhi ; \n",
       "  xxmaj may 5 , 2017 . xxeos,xxbos production ; ( iii ) xxmaj dump mining ; ( iv ) xxmaj intersecting ground water table and drawal of ground water without permission of the xxmaj central xxmaj ground xxmaj water xxmaj board ; ( v ) xxmaj no forest clearance obtained where required ; ( vi ) xxmaj encroachment and false information / concealment of fact . xxmaj it was stated that the moef had decided to refer the cases to the appropriate authorities ( including the xxmaj state xxmaj government ) for taking action on the violations . xxmaj accordingly , a request was made to examine the report of the xxup eac and take appropriate action against the concerned lessees . \n",
       "  32 . xxmaj the second order passed on 20th xxmaj march , 2015 was an xxmaj office xxmaj memorandum to the effect that if a project proponent has a valid and subsisting environmental clearance for a mining project under the xxmaj environment xxmaj impact xxmaj assessment xxmaj notification of 27th xxmaj january , 1994 ( xxup eia xxup s.l.p. ( c ) xxmaj no . 32138 of 2015 etc . xxmaj page 24 of 101 1994 ) or xxmaj environment xxmaj impact xxmaj assessment xxmaj notification of 14th xxmaj september , 2006 ( xxup eia 2006 ) , it will not be required to obtain a fresh environmental clearance at the time of renewal of the mining lease . xxmaj this was subject to the maximum period of validity of 30 years for the environmental clearance for a mining lease . \n",
       "  33 . xxmaj the third order passed on 20th xxmaj march , 2015 related to lifting the abeyance order dated 14th xxmaj september , 2012 on the environmental clearance of the mining leases for iron ore and manganese ore . xxmaj the cases of all 139 mining leases in which the abeyance order was passed were considered and the abeyance order lifted in respect of 72 cases . xxmaj the details in this regard are given in the table below : \n",
       "  xxmaj abeyance order lifted on 20th xxmaj march , 2015 for 72 mines out of 139 \n",
       "  34 . xxmaj the third order of 20th xxmaj march , 2015 also placed certain additional specific conditions while lifting the abeyance order . xxmaj these additional conditions were : \n",
       "  xxmaj questions for consideration \n",
       "  35 . xxmaj broadly speaking , on the basis of the submissions and documents placed before us , the questions raised by the xxmaj goa xxmaj foundation , the xxmaj state of xxmaj goa , the xxmaj union of xxmaj india and the mining lease holders are three - fold : \n",
       "  ( a ) xxmaj relatable to the second renewal of the mining leases : ( i ) xxmaj in view of the decision in xxmaj goa xxmaj foundation only fresh leases were to be granted by the xxmaj state of xxmaj goa and not second renewals . ( ii ) xxmaj for granting fresh leases , the xxmaj state of xxmaj goa should have introduced competitive bidding or the auction process . \n",
       "  ( iii ) xxmaj assuming the decision to grant a second renewal to the mining lease holders was valid , the second renewals were not in accordance with law and should be set aside . \n",
       "  ( b ) xxmaj relatable to the grant of environmental clearances : xxmaj in view of the decision in xxmaj goa xxmaj foundation fresh environmental clearances were required to be obtained by the mining lease holders . \n",
       "  ( c ) xxmaj the impugned judgment and order passed by the xxmaj high xxmaj court in xxmaj lithoferro on 13th xxmaj august , 2014 was erroneous and deserves to be set aside . xxmaj whether fresh mining leases were required to be granted ? \n",
       "  36 . xxmaj the controversy in this regard has arisen in view of what is stated in paragraph 82 of the decision in xxmaj goa xxmaj foundation . xxmaj it was stated as follows : xxup s.l.p. ( c ) xxmaj no . 32138 of 2015 etc . xxmaj page 27 of 101 “ xxmaj as we have held that the deemed mining leases of the lessees in xxmaj goa expired on 22 - 11 - 1987 and the maximum period ( 20 years ) of renewal of the deemed mining leases in xxmaj goa has also expired on 22- 11 - 2007 , mining by the lessees in xxmaj goa after 22 - 11 - 2007 was illegal . xxmaj hence , the xxmaj order dated 10 - 9 - 2012 of the xxmaj government of xxmaj goa suspending mining operations in the xxmaj state of xxmaj goa and the xxmaj order dated 14 - 9 - 2012 of moef , xxmaj government of xxmaj india , suspending the environmental clearances granted to the mines in the xxmaj state of xxmaj goa , which have been impugned in the writ petitions in the xxmaj bombay xxmaj high xxmaj court , xxmaj goa xxmaj bench ( transferred to this xxmaj court and registered as transferred cases ) can not be quashed by this xxmaj court . xxmaj the xxmaj order dated xxunk of the xxmaj government of xxmaj goa and the xxmaj order dated 14.9.2012 of the moef will have to continue till decisions are taken by the xxmaj state xxmaj government to grant fresh leases and decisions are taken by moef to grant fresh environmental clearances for mining projects . ” [ xxmaj emphasis supplied by us ] . \n",
       "  37 . xxmaj the issue that arose for discussion before us was the meaning and intention of the xxmaj court in the context of grant of „ fresh xxunk for mining projects . xxmaj did the xxmaj court literally mean that a fresh mining lease was required to be granted or was a second renewal sufficient compliance ? \n",
       "  38 . xxmaj as the above quoted paragraph indicates , the xxmaj court was aware and conscious of the fact that the mining leases had expired on 22nd xxmaj november , 2007 and the mining operations thereafter carried out by the mining lease holders was illegal . xxmaj for this reason , the xxmaj court held that the suspension order passed by the xxmaj state of xxmaj goa on 10th xxmaj september , 2012 and the abeyance order passed by the moef on 14th xxmaj september , 2012 did not require any interference . \n",
       "  xxup s.l.p. ( c ) xxmaj no . 32138 of 2015 etc . xxmaj page 28 of 101 \n",
       "  39 . xxmaj since the mining operations carried out after 22nd xxmaj november , 2007 were illegal , the xxmaj court , in subsequent paragraphs of the judgment noted ( as a follow up ) that an order was passed on 5th xxmaj october , 2012 suspending transportation of iron ore and manganese ore from those leases identified by the xxmaj justice xxmaj shah xxmaj xxunk xxmaj thereafter on 11th xxmaj november , 2013 it was directed that an inventory be made of the excavated mineral ores and the xxunk mineral ores be sold by e - auction under the supervision of a xxmaj monitoring xxmaj xxunk \n",
       "  40 . xxmaj further , it was held by the xxmaj court on 21st xxmaj april , 2014 that from the e- auction sale of the mineral ores , the mining lease holders would be entitled to the average cost ( not the actual cost ) of extraction , the workers would be entitled to 50 % wages and allowances on the principle of laid - off compensation and the xxmaj xxunk xxmaj port xxmaj trust would be entitled to 50 % of the storage charges . xxmaj out of the balance amount , 10 % would be appropriated to the xxmaj goan xxmaj iron xxmaj ore xxmaj permanent xxmaj fund for the purpose of sustainable development and intergenerational equity and the remaining amount would be appropriated by the xxmaj state who is the owner of the mineral ores illegally excavated by the mining lease holders and sold by e - auction . \n",
       "  9 th xxmaj goa xxmaj foundation v. xxmaj union of xxmaj india , xxup wp ( c ) 435 of 2012 – order dated 5 xxmaj october , 2012 10 xxmaj goa xxmaj foundation v. xxmaj union of xxmaj india , ( 2014 ) 6 xxup scc 738 xxup s.l.p. ( c ) xxmaj no . 32138 of 2015 etc . xxmaj page 29 of 101 xxmaj with this in mind , the xxmaj court declared in paragraph 87.5 of the xxmaj report : \n",
       " \n",
       "  xxmaj it was then directed by the xxmaj court in paragraph xxunk of the xxmaj report as follows : \n",
       "  41 . xxmaj the xxmaj court was quite obviously aware that it was concerned , inter alia , with the second renewal of mining leases and yet it chose to recount the factual situation , make a declaration and pass a direction without adverting to the possibility of a second renewal of a mining lease . xxmaj the xxmaj court was also conscious that the mining lease holders had carried out indiscriminate and illegal mining for about five years ( from xxmaj november 2007 to xxmaj september 2012 ) and had made profits out of the illegal mining . xxmaj the xxmaj court , in our opinion , was rather charitable in not penalizing the mining lease holders for the illegal mining carried out by them . xxmaj but be that as it may , quite clearly , the sequence of events from xxmaj september 2012 onwards , the appointment of a xxup s.l.p. ( c ) xxmaj no . 32138 of 2015 etc . xxmaj page 30 of 101 xxmaj monitoring xxmaj committee to dispose of the illegally mined ore , the declaration and direction unmistakably point to the intention of the xxmaj court to end the sordid chapter of illegal mining by the lease holders and start on a clean slate . xxmaj viewed in this perspective , we have no doubt that the xxmaj court really did intend the xxmaj state of xxmaj goa to consider the grant of fresh leases in accordance with law . \n",
       "  42 . xxmaj in this context , the declaration of the xxmaj court in xxmaj goa xxmaj foundation in paragraph 87.5 of xxmaj report is also quite clear , namely , “ xxmaj it is for the xxmaj state xxmaj government to decide as a matter of policy in what manner mining leases are to be granted in future … . ” xxmaj the declaration was explicit and related to the grant of mining leases and not a second renewal . \n",
       "  43 . xxmaj similarly , the direction given in paragraph xxunk of the xxmaj report that “ xxmaj the xxmaj state xxmaj government may grant mining leases of iron ore and other ores in xxmaj goa in accordance with its policy decision … .. ” was equally explicit and related to the grant of mining leases and not a second renewal . \n",
       "  44 . xxmaj subsequent events confirm our impression and view . xxmaj the decision of the xxmaj court to e - auction the mined mineral ore was sought to be recalled through xxup i.a. xxmaj no . 86 of 2014 filed by m / s xxmaj xxunk xxmaj brothers xxmaj private xxmaj ltd. xxmaj the applicant prayed for a direction to restrain the authorities from e- auctioning the iron ore mined by it prior to 22nd xxmaj november , 2007 and that xxup s.l.p. ( c ) xxmaj no . 32138 of 2015 etc . xxmaj page 31 of 101 the mined ore should be released to the applicant with the right to dispose of the same . a xxmaj bench of three learned judges ( other than those that decided xxmaj goa xxmaj foundation ) noted that : “ xxmaj the submissions advanced on behalf of the applicant were premised merely on the assertion , that the mineral ore which the applicant was claiming a right over , had been legitimately mined before xxunk , and therefore , the applicant had an absolute and legitimate ownership over the same . xxmaj we may note , that the above position was emphasized , stressed and persistently reiterated to make the stand absolutely crystal clear . ” xxmaj the learned judges considered the submissions and held by an order dated 14th xxmaj october , 2014 that the direction in xxmaj goa xxmaj foundation was clear and categorical that the iron ore vested in the xxmaj state xxmaj government and therefore the application deserved dismissal . xxmaj in other words , the mining lease holders deserved no latitude for the illegal mining and all issues needed to be dealt with strictly . \n",
       "  45 . xxmaj there is additional material to support the view that the xxmaj court had intended the xxmaj state of xxmaj goa to grant fresh mining leases rather than grant a second renewal . \n",
       "  46 . xxmaj from a reading of the decision rendered by the xxmaj bombay xxmaj high xxmaj court in xxmaj lithoferro ( subject matter of xxup slp ( c ) xxmaj no . 32138 of 2015 and xxup slp ( c ) xxmaj nos . 32699 - 32727 of 2015 ) it is evident that the xxmaj state of xxmaj goa understood the xxup s.l.p. ( c ) xxmaj no . 32138 of 2015 etc . xxmaj page 32 of 101 decision of this xxmaj court in xxmaj goa xxmaj foundation to mean that fresh mining leases were required to be granted on the basis of a policy yet to be framed by the xxmaj state of xxmaj goa and the issue of second renewals did not survive consideration . xxmaj the contention of the learned xxmaj advocate xxmaj general of the xxmaj state of xxmaj goa in this regard is recorded by the xxmaj high xxmaj court in the following words : \n",
       "  47 . xxmaj while considering the submissions of the learned xxmaj advocate xxmaj general and learned counsel , the xxmaj high xxmaj court noted that this xxmaj court was alive to the xxup s.l.p. ( c ) xxmaj no . 32138 of 2015 etc . xxmaj page 33 of 101 fact that the xxmaj state of xxmaj goa had granted in - principle second renewal to 28 mining leases and had collected renewal fees or stamp duty from 27 mining leases ( presumably out of the 28 mining leases ) as stated in the brief resume filed by the xxmaj state of xxmaj goa in this xxmaj court . xxmaj the xxmaj high xxmaj court noted : \n",
       "  48 . xxmaj in other words , notwithstanding the in - principle grant of second renewal of 28 mining leases and collection of renewal fees or stamp duty , this xxmaj court in xxmaj goa xxmaj foundation consciously required the xxmaj state of xxmaj goa to grant fresh leases . xxmaj what is equally significant is that the xxmaj state of xxmaj goa also understood the decision of the xxmaj court in the same manner and intended to act on that basis . \n",
       "  49 . xxmaj unfortunately , the xxmaj state of xxmaj goa was overtaken by events in that the xxmaj high xxmaj court delivered its judgment in xxmaj lithoferro on 13th xxmaj august , 2014 and while doing so , it misunderstood or incorrectly appreciated the decision of this xxmaj court in xxmaj goa xxmaj foundation and disagreed with the view of the xxmaj state of xxup s.l.p. ( c ) xxmaj no . 32138 of 2015 etc . xxmaj page 34 of 101 xxmaj goa . xxmaj while this xxmaj court had required the xxmaj state of xxmaj goa to grant fresh mining leases and the xxmaj state of xxmaj goa was willing to comply with this direction , the xxmaj high xxmaj court instead directed it to execute mining leases under xxmaj section 8(3 ) of the xxup mmdr xxmaj act in respect of those who had paid the renewal fees or stamp duty . xxmaj the xxmaj high xxmaj court also directed the xxmaj state of xxmaj goa to decide their pending second renewal applications within a period of three months keeping in mind the provisions of xxmaj section 8(3 ) of the xxup mmdr xxmaj act ( presumably after paying the renewal fees or stamp duty in terms of the xxmaj government order of 21 st xxmaj february , 2013 ) . xxmaj the understanding by the xxmaj high xxmaj court of the decision of this xxmaj court in xxmaj goa xxmaj foundation is totally incorrect . \n",
       "  50 . xxmaj it appears from the contents of the xxmaj grant of xxmaj mining xxmaj leases xxmaj policy that in view of the decision of this xxmaj court in xxmaj goa xxmaj foundation the xxmaj state was actively considering a policy for granting fresh mining leases by considering several factors . xxmaj however , the decision and directions of the xxmaj high xxmaj court xxunk leaving no choice , according to the xxmaj state , but to completely abandon the process of grant of fresh mining leases through the process of competitive bidding for earning revenue and justify the abandonment . \n",
       "  51 . xxmaj as per the xxmaj grant of xxmaj mining xxmaj leases xxmaj policy , the xxmaj state of xxmaj goa therefore had two realistic options before it : ( i ) xxmaj to implement the judgment and order of this xxmaj court in xxmaj goa xxmaj foundation ( as understood by the xxmaj state of xxmaj goa ) and xxup s.l.p. ( c ) xxmaj no . 32138 of 2015 etc . xxmaj page 35 of 101 grant fresh mining leases in the manner felt appropriate and in accordance with law ; ( ii ) xxmaj to abide by the judgment of the xxmaj high xxmaj court ( and its understanding of the judgment of this xxmaj court in xxmaj goa xxmaj foundation while rejecting its understanding by the xxmaj state of xxmaj goa ) and grant second renewal to the mining leases in terms of xxmaj section 8(3 ) of the xxup mmdr xxmaj act . xxmaj the xxmaj state of xxmaj goa appears to have taken the view that challenging the decision of the xxmaj high xxmaj court ( and therefore abiding by the decision of this xxmaj court ) would delay the commencement of mining operations . xxmaj the xxmaj state took into consideration that a substantial portion of its revenue comes from the mining sector and that the xxmaj state had been virtually starved of funds on account of stoppage of mining operations . xxmaj therefore , the xxmaj state decided to grant a second renewal to the mining leases and not grant fresh leases . xxmaj this is quite apparent from the contents of the xxmaj grant of xxmaj mining xxmaj leases xxmaj policy wherein the above facts and conclusions have been stated in greater detail . xxmaj was this decision correct ? \n",
       "  52 . xxmaj learned counsel for the mining lease holders submitted that the renewal of a mining lease is equivalent to or amounts to the grant of a fresh lease and therefore when the mining leases were renewed , it amounted to the grant of a fresh lease in compliance with the directions of this xxmaj court . xxmaj reliance was placed upon xxmaj delhi xxmaj development xxmaj authority v. xxmaj durga xxmaj chand xxup s.l.p. ( c ) xxmaj no . 32138 of 2015 etc . xxmaj page 36 of 101 xxmaj xxunk wherein this xxmaj court held : \n",
       "  ( 1973 ) 2 xxup scc 825 12 1989 xxmaj supp ( 1 ) xxup scc 487 13 ( 2004 ) 12 xxup scc 118 14 ( 2015 ) 8 xxup scc 655 15 ( 1997 ) 1 xxup scc 650 xxup s.l.p. ( c ) xxmaj no . 32138 of 2015 etc . xxmaj page 37 of 101 \n",
       "  55 . xxmaj there is no doubt that the renewal of a lease is virtually the same as the grant of a fresh lease but a converse direction to grant a mining lease can not be understood to mean granting a renewal of a mining lease . xxmaj obviously , the grant of a fresh lease is not the same as the renewal of a lease and when the xxmaj court in xxmaj goa xxmaj foundation required the xxmaj state of xxmaj goa to grant a fresh lease , it did not require the xxmaj state to renew the existing ( expired ) lease . xxmaj the xxmaj court could have explicitly declared and directed the xxmaj state of xxmaj goa to grant a second renewal of the mining leases rather than to say it in a xxunk manner that it should do so by granting a fresh lease equivalent to a renewal . xxmaj we simply can not accept the submissions made by learned counsel for the mining lease holders in this regard . \n",
       "  56 . xxmaj that apart , as we have already noted above , the context and material on record xxunk the thought that the xxmaj court in xxmaj goa xxmaj foundation did not mandate the grant of fresh mining leases in accordance with law . \n",
       "  57 . xxmaj learned counsel for the mining lease holders contended that the very same learned judges that decided xxmaj goa xxmaj foundation permitted the xxmaj state xxmaj government in xxmaj common xxmaj cause v. xxmaj union of xxmaj india16 to consider granting a second renewal of mining leases under xxmaj section 8(3 ) of the xxup mmdr xxmaj act . xxmaj therefore the requirement in xxmaj goa xxmaj foundation for the grant of „ fresh xxunk 16 ( 2014 ) 14 xxup scc 155 xxup s.l.p. ( c ) xxmaj no . 32138 of 2015 etc . xxmaj page 38 of 101 must be understood in a manner similar to what was directed in xxmaj common xxmaj cause . xxmaj we are unable to accept this contention . xxmaj the direction given in xxmaj common xxmaj cause was an interim direction and not a final direction as in xxmaj goa xxmaj foundation . xxmaj moreover , the facts in both cases are not at all similar so as to warrant a similar order being passed or understood . xxmaj finally , the fact that the same set of learned judges thought it fit to direct the grant of „ fresh xxunk in one set of cases and thought it fit to direct consideration of a „ second xxunk in another set of cases indicates that the learned judges were aware of the difference in directions . xxmaj therefore when the leaned judges directed the grant of „ fresh xxunk in xxmaj goa xxmaj foundation it was a deliberate and conscious decision distinct and different from granting a second renewal of expired mining leases . \n",
       "  58 . xxmaj in our opinion , the direction in xxmaj goa xxmaj foundation is quite clear and instead of considering the grant of a second renewal of the mining leases , the xxmaj state of xxmaj goa was required to consider the grant of fresh mining leases . xxmaj therefore the decision of the xxmaj state of xxmaj goa to grant a second renewal of the mining leases is erroneous , contrary to the decision in xxmaj goa xxmaj foundation and must be and is quashed . \n",
       "  xxmaj whether the xxmaj state of xxmaj goa should have auctioned the mining leases ? \n",
       "  59 . xxmaj as mentioned in the xxmaj grant of xxmaj mining xxmaj leases xxmaj policy there were several xxup s.l.p. ( c ) xxmaj no . 32138 of 2015 etc . xxmaj page 39 of 101 options available to the xxmaj state of xxmaj goa . xxmaj it took the view that all its options were foreclosed post the decision of the xxmaj high xxmaj court and it was obliged to grant a second renewal of the mining leases . xxmaj we have already held that this was not so and that the decision to grant a second renewal of the mining leases was erroneous and fresh leases were required to be granted in accordance with the decision in xxmaj goa xxmaj foundation . xxmaj in view of our conclusion , the discussion on whether the xxmaj state of xxmaj goa should have auctioned the mining leases through a process of competitive bidding is now rendered academic . xxmaj however , since detailed submissions were made by learned counsel on both sides , including by the learned xxmaj additional xxmaj solicitor xxmaj general , we propose to express our views on the subject . \n",
       "  60 . xxmaj the discussion on the question of auction being the only method of allocation or disposal of natural resources arose due to the view expressed by this xxmaj court in xxmaj centre for xxmaj public xxmaj interest xxmaj litigation v. xxmaj union of xxmaj xxunk xxmaj in that decision ( hereafter referred to as xxup cpil – although this case is generally referred to as the 2 g scam case ) the xxmaj court dealt with the question of following a non - discriminatory policy for alienation of natural resources . xxmaj while doing so it was observed that an auction is “ perhaps the best method for discharging this burden ” and concluded by holding that “ while 17 ( 2012 ) 3 xxup scc 1 xxup s.l.p. ( c ) xxmaj no . 32138 of 2015 etc . xxmaj page 40 of 101 transferring or alienating the natural resources , the xxmaj state is duty - bound to adopt the method of auction by giving wide publicity so that all eligible persons can participate in the process . ” xxmaj this led to the belief that the view of this xxmaj court was that natural resources should be alienated or disposed of only by auction and by no other method . xxmaj the xxmaj court held in paragraphs 95 and 96 of the xxmaj report as follows : \n",
       "  61 . xxmaj in xxmaj manohar xxmaj lal xxmaj sharma v. xxmaj principal xxmaj xxunk a xxmaj bench of 3 judges of this xxmaj court paraphrased the above passages and observed that the view 18 ( 2014 ) 9 xxup scc 516 xxup s.l.p. ( c ) xxmaj no . 32138 of 2015 etc . xxmaj page 41 of 101 expressed in xxup cpil necessitated a reference by the xxmaj president of xxmaj india to this xxmaj court under xxmaj article 143(1 ) of the xxmaj constitution being xxmaj special xxmaj reference xxmaj no . 1 – xxmaj natural xxmaj resources xxmaj xxunk \n",
       "  62 . xxmaj what was the xxmaj advisory xxmaj opinion given by this xxmaj court in xxmaj natural xxmaj resources xxmaj allocation ? xxmaj among the questions referred for opinion were the following : \n",
       "  63 . xxmaj in the xxmaj reference , it was submitted before the xxmaj constitution xxmaj bench that paragraphs 94 to 96 in xxup cpil laid down the ratio vis - à - vis disposal of natural resources . xxmaj it was argued that “ these paragraphs lay down , as a proposition of law , that all natural resources across all sectors , and in all circumstances are to be disposed of by way of public auction , and on the other [ hand ] , it was urged that the observations therein were made only qua spectrum . ” \n",
       "  64 . xxmaj the submissions made by learned counsel were then discussed and thereafter this xxmaj court recorded its conclusions between paragraphs 82 and 84 of xxmaj natural xxmaj resources xxmaj allocation . xxmaj in paragraph 84 , it was held : 19 ( 2012 ) 10 xxup scc 1 xxup s.l.p. ( c ) xxmaj no . 32138 of 2015 etc . xxmaj page 42 of 101 “ 84 . xxmaj thus , having come to the conclusion that 2 g case20 does not deal with modes of allocation for natural resources , other than spectrum , we shall now proceed to answer the first question of the xxmaj reference pertaining to other natural resources , as the question subsumes the essence of the entire reference , particularly the set of first five questions . ” [ xxmaj emphasis supplied by us ] . \n",
       " \n",
       "  65 . xxmaj thereafter , while answering the first question in the xxmaj reference , the xxmaj court considered the issue from various perspectives . xxmaj it first dealt with the issue in the context of xxmaj article 14 and xxmaj article 39(b ) of the xxmaj constitution and concluded in paragraph 120 of the xxmaj report that the disposal of natural resources for revenue maximization through auctions is not a constitutional mandate . xxmaj it was held : \n",
       "  66 . xxmaj the issue was then considered from the standpoint of legitimate deviations from an auction . xxmaj after adverting to several decisions of this xxmaj court 20 xxmaj centre for xxmaj public xxmaj interest xxmaj litigation v. xxmaj union of xxmaj india ( xxup cpil case or 2 g scam case ) xxup s.l.p. ( c ) xxmaj no . 32138 of 2015 etc . xxmaj page 43 of 101 where auctions were not the favoured method of allocation of natural resources , it was held between paragraphs 129 and 131 of the xxmaj report as follows : \n",
       "  ( 1980 ) 4 xxup scc 1 xxup s.l.p. ( c ) xxmaj no . 32138 of 2015 etc . xxmaj page 44 of 101 \n",
       "  67 . xxmaj finally , the issue was considered from the point of view of the potential of abuse in allocation of natural resources other than through auction and in this context it was held in paragraph 135 of the xxmaj report : \n",
       "  68 . xxmaj the conclusion arrived at by the xxmaj constitution xxmaj bench was then recorded between paragraphs 148 and 150 of the xxmaj report in the following words : \n",
       " \n",
       "  xxmaj regard being had to the aforesaid precepts , we have opined that auction as a mode can not be conferred the status of a constitutional xxup s.l.p. ( c ) xxmaj no . 32138 of 2015 etc . xxmaj page 45 of 101 principle . xxmaj alienation of natural resources is a policy decision , and the means adopted for the same are thus , executive prerogatives . xxmaj however , when such a policy decision is not backed by a social or welfare purpose , and precious and scarce natural resources are alienated for commercial pursuits of profit maximising private entrepreneurs , adoption of means other than those that are competitive and maximise revenue may be arbitrary and face the wrath of xxmaj article 14 of the xxmaj constitution . xxmaj hence , rather than prescribing or proscribing a method , we believe , a judicial scrutiny of methods of disposal of natural resources should depend on the facts and circumstances of each case , in consonance with the principles which we have culled out above . xxmaj failing which , the xxmaj court , in exercise of power of judicial review , shall term the executive action as arbitrary , unfair , unreasonable and capricious due to its antimony with xxmaj article 14 of the xxmaj constitution . \n",
       "  xxmaj in conclusion , our answer to the first set of five questions is that auctions are not the only permissible method for disposal of all natural resources across all sectors and in all circumstances . ” [ xxmaj emphasis supplied by us ] . \n",
       " \n",
       "  69 . xxmaj it is therefore more than explicit that there is no constitutional requirement ( let alone a mandate ) for allocation of natural resources through the auction method ( other than spectrum ) but at the same time the auction process should not be given a go - bye without any justification – the decision to give a go - bye is judicially reviewable though the scope of judicial review might be rather restricted . xxmaj the melting pot of allocation of a natural resource , a social or welfare purpose and adherence to the requirements of xxmaj articles 14 and 39(b ) of the xxmaj constitution in matters of policy was a great leap forward fashioned by the xxmaj constitution xxmaj bench . xxmaj consequently , while xxup s.l.p. ( c ) xxmaj no . 32138 of 2015 etc . xxmaj page 46 of 101 there is no mandate , constitutional or otherwise , that natural resource allocation must be only by auction , it is certainly “ a more preferable method ” . xxmaj there are exceptions , such as when the natural resource allocation is for a “ social or welfare purpose ” . xxmaj on the other hand if the natural resource allocation is “ for commercial pursuits of profit maximising private entrepreneurs ” de hors any social or welfare purpose , then judicial review would be permissible and xxmaj article 14 of the xxmaj constitution would be attracted and if the executive action is found to be arbitrary , it would be struck down . xxmaj therefore , when it comes to natural resource allocation , the executive has a somewhat limited elbow room . \n",
       "  70 . xxmaj in his concurring opinion , xxmaj justice xxmaj khehar took the view ( in paragraph 186 of the xxmaj report ) that : “ … when natural resources are made available by the xxmaj state to private persons for commercial exploitation exclusively for their individual gains , the xxmaj state 's endeavour must be towards maximisation of revenue returns . ” [ xxmaj emphasis supplied by us ] xxmaj the learned judge concluded his opinion by agreeing that an auction is one of the price recovery mechanisms , but not the only one for allocation of natural resources . “ xxmaj that should not be understood to mean that it can never be a valid method for disposal of natural resources . ” xxmaj it was further held that natural resources can not be alienated by way of largesse – there must be a reciprocal xxup s.l.p. ( c ) xxmaj no . 32138 of 2015 etc . xxmaj page 47 of 101 consideration either in the form of earning revenue or sub - serving the common good or both . xxmaj the learned judge had this to say : \n",
       "  71 . xxmaj this issue was considered in xxmaj goa xxmaj foundation as well . xxmaj the xxmaj court adverted to xxmaj natural xxmaj resources xxmaj allocation in paragraph 81 of the xxmaj report and pithily expressed its view that the manner of granting a mining lease is a policy decision of the xxmaj state xxmaj government , but the decision can be examined by way of judicial review . xxmaj it was held : \n",
       "  xxup s.l.p. ( c ) xxmaj no . 32138 of 2015 etc . xxmaj page 48 of 101 “ xxmaj we are of the considered opinion that it is for the xxmaj state xxmaj government to decide as a matter of policy in what manner the leases of these mineral resources would be granted , but this decision has to be taken in accordance with the provisions of the xxup mmdr xxmaj act and the xxmaj rules made thereunder and in consonance with the constitutional provisions and the decision taken by the xxmaj state of xxmaj goa to grant a mining lease in a particular manner or to a particular party can be examined by way of judicial review by the xxmaj court . ” [ xxmaj emphasis supplied by us ] . \n",
       "  xxmaj it was then declared in paragraph 87.5 of the xxmaj report that : \n",
       " \n",
       "  xxmaj similarly , in xxmaj manohar xxmaj lal xxmaj sharma this xxmaj court adverted to the issue and noted the following in paragraph 98 of the xxmaj report : \n",
       " \n",
       "  74 . xxmaj till fairly recently , policy matters particularly of economic policy were hands - off as far as the courts were xxunk xxmaj but the recent decisions of this xxmaj court , including by the xxmaj constitution xxmaj bench in its advisory jurisdiction , have partially modified this theory and kept open the window to judicially review such a policy if it does not serve the common good as understood in xxmaj article 39(b ) of the xxmaj constitution , if it violates xxmaj article 14 of the xxmaj constitution and xxunk natural resources for maximizing profits of private entrepreneurs while xxunk xxmaj article 39(b ) of the xxmaj constitution . “ xxmaj the legislature and the executive are answerable to the xxmaj constitution and it is there where the judiciary , the guardian of the xxmaj constitution , must find the contours to the powers of disposal of natural resources , especially xxmaj article 14 and xxmaj article 39(b ) [ of the xxmaj xxunk \n",
       "  75 . xxmaj notwithstanding this , a xxmaj court must exercise restraint and not set aside xxmaj government policy only because it disagrees with it or because a better policy could be framed or simply because it has the power to set aside the policy . xxmaj policies framed by the xxmaj state , after due consideration , must be 24 xxup balco xxmaj employees ’ xxmaj union ( xxmaj regd ) v. xxmaj union of xxmaj india , ( 2002 ) 2 xxup scc 333 at paragraphs 46 and 47 25 xxmaj paragraph 95 of the xxmaj natural xxmaj resource xxmaj allocation decision xxup s.l.p. ( c ) xxmaj no . 32138 of 2015 etc . xxmaj page 52 of 101 respected and given enough elbow room and flexibility for implementation . xxmaj of course , there would be occasions when the implementation of a policy has teething problems or some lacuna is discovered at a slightly later stage , but that does not mean that policy itself is defective . xxmaj therefore , xxmaj courts must be very cautious and circumspect in diluting or setting aside a policy and must do so only if it is constitutionally unavoidable , otherwise good governance could be a casualty . \n",
       " \n",
       "  76 . xxmaj the conclusions that could be drawn from all these decisions are : ( i ) xxmaj it is not obligatory , constitutionally or otherwise , that a natural resource ( other than spectrum ) must be disposed of or alienated or allocated only through an auction or through competitive bidding ; ( ii ) xxmaj where xxeos\n",
       "y: CategoryList\n",
       "CRIMINAL,CIVIL,CIVIL,CRIMINAL,CIVIL\n",
       "Path: /content/drive/My Drive/Colab Notebooks/Judgements;\n",
       "\n",
       "Test: None, model=SequentialRNN(\n",
       "  (0): MultiBatchEncoder(\n",
       "    (module): AWD_LSTM(\n",
       "      (encoder): Embedding(60000, 400, padding_idx=1)\n",
       "      (encoder_dp): EmbeddingDropout(\n",
       "        (emb): Embedding(60000, 400, padding_idx=1)\n",
       "      )\n",
       "      (rnns): ModuleList(\n",
       "        (0): WeightDropout(\n",
       "          (module): LSTM(400, 1152, batch_first=True)\n",
       "        )\n",
       "        (1): WeightDropout(\n",
       "          (module): LSTM(1152, 1152, batch_first=True)\n",
       "        )\n",
       "        (2): WeightDropout(\n",
       "          (module): LSTM(1152, 400, batch_first=True)\n",
       "        )\n",
       "      )\n",
       "      (input_dp): RNNDropout()\n",
       "      (hidden_dps): ModuleList(\n",
       "        (0): RNNDropout()\n",
       "        (1): RNNDropout()\n",
       "        (2): RNNDropout()\n",
       "      )\n",
       "    )\n",
       "  )\n",
       "  (1): PoolingLinearClassifier(\n",
       "    (layers): Sequential(\n",
       "      (0): BatchNorm1d(1200, eps=1e-05, momentum=0.1, affine=True, track_running_stats=True)\n",
       "      (1): Dropout(p=0.2, inplace=False)\n",
       "      (2): Linear(in_features=1200, out_features=50, bias=True)\n",
       "      (3): ReLU(inplace=True)\n",
       "      (4): BatchNorm1d(50, eps=1e-05, momentum=0.1, affine=True, track_running_stats=True)\n",
       "      (5): Dropout(p=0.1, inplace=False)\n",
       "      (6): Linear(in_features=50, out_features=3, bias=True)\n",
       "    )\n",
       "  )\n",
       "), opt_func=functools.partial(<class 'torch.optim.adam.Adam'>, betas=(0.9, 0.99)), loss_func=FlattenedLoss of CrossEntropyLoss(), metrics=[<function accuracy at 0x7f869dc869d8>], true_wd=True, bn_wd=True, wd=0.01, train_bn=True, path=PosixPath('/content/drive/My Drive/Colab Notebooks/Judgements'), model_dir='models', callback_fns=[functools.partial(<class 'fastai.basic_train.Recorder'>, add_time=True, silent=False)], callbacks=[RNNTrainer\n",
       "learn: RNNLearner(data=TextClasDataBunch;\n",
       "\n",
       "Train: LabelList (3813 items)\n",
       "x: TextList\n",
       "xxbos xxmaj prafulla xxup c. xxmaj pant , xxup j. \n",
       "  xxmaj this appeal is directed against judgment and order dated 02.04.2014 , passed by the xxmaj high xxmaj court of xxmaj punjab and xxmaj haryana in xxmaj criminal xxmaj appeal xxmaj no . xxup xxunk xxup db of 2002 whereby said xxmaj court has dismissed the appeal affirming the conviction and sentence under xxmaj section 302 / 34 xxup ipc , against accused / appellants xxmaj pawan @ xxmaj rajinder xxmaj singh and xxmaj ajit @ xxmaj dara xxmaj singh , recorded by the xxmaj additional xxmaj sessions xxmaj judge , xxmaj fast xxmaj track xxmaj court xxmaj no . 1 , xxmaj faridabad . xxmaj the xxmaj high xxmaj court has further affirmed the conviction and sentence recorded against accused / appellant xxmaj ajit @ xxmaj dara xxmaj singh under xxmaj section 25 of the xxmaj arms xxmaj act , 1959 . \n",
       "  xxmaj heard learned counsel for the parties and perused the record of the case . \n",
       "  xxmaj prosecution story , in brief , is that xxmaj deepak ( deceased ) was elder brother of xxup pw-6 xxmaj amit xxmaj kumar ( complainant ) . xxmaj amit xxmaj kumar had a business of selling flowers , and his elder brother used to do the delivery work . xxmaj their neighbour xxmaj gola ( not examined ) had taken a loan of ? 10,000 / - on interest from accused xxmaj pawan , and he ( the debtor ) had returned the same except ? 250 / - . xxmaj on 09.11.2000 at about 8.30 p.m. accused xxmaj pawan @ xxmaj rajinder xxmaj singh and his cousin accused xxmaj ajit @ xxmaj dara xxmaj singh demanded remaining ? 250 / - from xxmaj gola to which the deceased requested them to waive the said amount due to which some altercation took place between the deceased and the two accused . xxmaj about half an hour thereafter both the accused came back on a scooter , and xxmaj deepak ( deceased ) also left with them but on his separate scooter bearing registration xxmaj no . xxup hr 51 xxup xxunk . xxmaj deepak did not return till late night . xxmaj on this , xxup pw-6 xxmaj amit xxmaj kumar and his father xxmaj ram xxmaj nath started search for him . xxmaj in the next morning they came to know that dead body of a person is lying near xxmaj air xxmaj force ground . xxmaj both , father and son went there and saw that it was the dead body of xxmaj deepak . xxmaj suspecting that appellants xxmaj pawan @ xxmaj rajinder xxmaj singh and xxmaj ajit @ xxmaj dara xxmaj singh had committed the murder , a report ( xxmaj ex xxup xxunk ) was given to the police in the early hours of 10.11.2000 mentioning their names . xxmaj on the basis of said report , xxmaj first xxmaj information xxmaj report xxmaj no . 803 dated 10.11.2000 ( xxmaj ex . xxup pk ) was registered at xxmaj police xxmaj station , xxup n.i.t. , xxmaj faridabad . \n",
       "  xxmaj investigation was initiated by xxup pw-9 xxup asi xxmaj jai xxmaj singh , and later xxup pw-12 xxmaj inspector xxmaj raj xxmaj pal xxmaj singh took over the same . xxup pw-9 xxup asi xxmaj jai xxmaj singh , after taking the dead body in his possession , got the inquest report ( xxmaj ex . xxup xxunk ) and site plan ( xxmaj ex . xxup pm ) prepared . xxmaj an empty cartridge was also recovered from the place of incident . xxup pw-12 xxmaj inspector xxmaj raj xxmaj pal xxmaj singh , xxmaj investigating xxmaj officer got sent the empty cartridge to xxmaj forensic xxmaj science xxmaj laboratory for examination . xxmaj he also took the blood stained earth from the spot . xxmaj he interrogated the witnesses . xxmaj meanwhile , xxup pw-1 xxmaj dr. xxup d.s. xxmaj rathi , along with xxmaj dr. xxmaj sunita xxmaj gupta and xxmaj dr. xxup p.s. xxmaj yadav , conducted the post mortem examination on 10.11.2000 at about 5.00 p.m. xxmaj in the autopsy report ( xxmaj ex . xxup pl ) following ante mortem injury is mentioned : - \n",
       "  “ a circular circumscribed wound 2.5 c.m . x 2.5 c.m . in diameter and 2 c.m . from middle of chest on left side at level of 10th rib . xxmaj on probing going downward posteriorly , blackening and xxunk present around the wound , margins inverted . xxmaj on examination few pellets found embedded , underneath the skin and soft tissues . xxmaj on dissection the pleural cavity contained blood . a few metallic pellets found inside in left chest and pleural cavity , removed . xxmaj on further dissection hole in stomach also present . xxmaj on further examination a foreign body of rounded shape 2 c.m . in size was found and removed . xxmaj the pellets and the foreign body sealed in a vial . ” xxmaj during investigation , the xxmaj investigating xxmaj officer arrested both the accused , and on their disclosure scooter bearing registration xxmaj no . xxup hr 51 c 1609 was recovered from their house . xxmaj the prosecution case is that a country made pistol was also recovered on the disclosure statement ( xxmaj ex . xxup pk ) made by accused xxmaj ajit @ xxmaj dara xxmaj singh . a broken butt of the pistol was said to have been found from the place of incident . xxmaj after completion of investigation charge sheet was filed by the xxmaj investigating xxmaj officer against both the accused . \n",
       "  xxmaj on committal , after framing charge , the trial court recorded evidence . xxmaj prosecution got examined xxup pw-1 xxmaj dr. xxup d.s. xxmaj rathi , xxup pw-2 xxup xxunk xxmaj hari xxmaj chand , xxup pw-3 xxmaj constable xxmaj manoj xxmaj kumar , xxup pw-4 xxmaj pappu , xxup pw-5 xxmaj surender xxmaj singh , xxup pw-6 xxmaj amit xxmaj kumar , xxup pw- 7 xxmaj ram xxmaj nath , xxup pw-8 xxmaj constable xxmaj ash xxmaj mohd . , xxup pw-9 xxup asi xxmaj jai xxmaj singh , xxup pw-10 xxup asi xxmaj ami xxmaj lal , xxup pw-11 xxmaj xxunk and xxup pw-12 xxmaj inspector xxmaj raj xxmaj pal xxmaj singh . xxmaj after putting the documentary and oral evidence under xxmaj section 313 xxmaj cr . xxup p.c. to the accused persons , the trial court found both the accused guilty of charge of offence punishable under xxmaj section 302 / 34 xxup ipc . xxmaj accused xxmaj ajit @ xxmaj dara xxmaj singh was further found guilty of charge of offence punishable under xxmaj section 25 of xxmaj arms xxmaj act , 1959 . xxmaj they were awarded sentence , as already mentioned above . \n",
       "  xxmaj on appeal by the convicts , xxmaj high xxmaj court agreed with the findings of the trial court and dismissed the appeal . xxmaj hence this appeal before us through special leave . \n",
       "  xxmaj at the outset , we would like to mention that in substance it is a case of circumstantial evidence but for the evidence of two chance witnesses , namely xxup pw-4 xxmaj pappu and xxup pw-5 xxmaj surender xxmaj singh . xxup pw-4 xxmaj pappu is a rikshaw puller who is resident of xxmaj sant xxmaj nagar xxmaj jhuggi in xxmaj faridabad . xxup pw-5 xxmaj surender xxmaj singh , a three wheeler driver , is resident of xxmaj railway xxmaj colony , xxmaj old xxmaj faridabad . xxmaj it is relevant to mention here that the incident is said to have occurred near xxmaj air xxmaj force ground . xxmaj it is further relevant to mention that the complainant xxmaj amit xxmaj kumar ( xxup pw-6 ) , his brother xxmaj deepak ( deceased ) and the two accused / appellants are residents of xxup n.i.t. , xxmaj faridabad . xxmaj it is not clear from the record as to how these chance witnesses ( xxup pw-4 xxmaj pappu and xxup pw-5 xxmaj surender xxmaj singh ) who have stated that they heard altercation between the deceased and the two accused after midnight and thereafter heard sound of fire , knew them . xxmaj in our opinion , the testimony of these witnesses can not be said to be reliable or trustworthy particularly when their statements are not corroborated from other evidence on record . \n",
       "  xxmaj now , we come to the report of the xxmaj forensic xxmaj science xxmaj laboratory . xxmaj the conclusions of the examination conducted in the xxmaj forensic xxmaj science xxmaj laboratory , xxmaj haryana , xxmaj madhuban , xxmaj karnal , are reproduced below from xxmaj ex . xxup pf : - \n",
       "  “ xxup result ( 1 ) xxmaj the countrymade pistol marked w / 1 ( xxunk for 12 bore cartridges ) is a firearm as defined in xxmaj arms xxmaj act 54 of 1959 . xxmaj its firing mechanism was not found in working order . \n",
       "  ( 2 ) xxmaj the countrymade pistol marked w / 1 had been fired through . xxmaj however , scientifically , the time of its last firing can not be given . \n",
       "  ( 3 ) xxmaj the percussion cap of cartridge case marked c / 1 on which firing pin marks appear due to firing was found missing . xxmaj moreover , the firing mechanism of pistol w / 1 was not found in working order . xxmaj therefore , no opinion could be formed regarding the linkage of c / 1 in respect of pistol w / 1 . \n",
       "  ( 4 ) xxmaj one wooden piece and two metallic strips contained in parcel xxmaj no . xxup iii could form part of countrymade pistol contained in parcel xxmaj no . xxup viii . \n",
       "  xxrep 14 … ” ( xxmaj emphasis supplied ) xxmaj in view of the conclusions given by xxmaj forensic xxmaj science xxmaj laboratory on points ( 1 ) , ( 2 ) and ( 3 ) , quoted above , we are of the view that the prosecution story , as narrated by xxup pw-4 xxmaj pappu and xxup pw-5 xxmaj surender xxmaj singh , is highly doubtful . \n",
       "  xxmaj apart from this , though the motive of crime is not necessarily required to be proved , but in the case like the present one where the appellants are named on suspicion by informant xxup pw-6 xxmaj amit xxmaj kumar in the xxmaj first xxmaj information xxmaj report ( which does not contain names of xxup pw-4 xxmaj pappu and xxup pw-5 xxmaj surender xxmaj singh as witnesses who had seen the occurrence ) , the motive appears to be relevant fact . xxup pw-6 xxmaj amit xxmaj kumar has simply mentioned that the deceased had asked the two accused to waive of the remaining amount of ? 250 / - from the loan of ? 10,000 / - taken by xxmaj gola but the same does not appear to be a convincing motive to commit the crime by the appellants . xxmaj prosecution has not examined xxmaj gola if he had taken loan of ? 10,000 / - and paid off the same minus the amount ? 250 / - . \n",
       "  xxmaj even otherwise , in the xxmaj first xxmaj information xxmaj report it is nowhere mentioned why actually xxmaj deepak ( deceased ) had gone in his separate scooter with the two appellants from his house . \n",
       "  xxmaj for the reasons , as discussed above , we find that the trial court as well as the xxmaj high xxmaj court has erred in law in holding that the charge against the two accused stood proved . \n",
       "  xxmaj in the light of appreciation of evidence , as above , we are of the opinion that the prosecution has failed to prove the charge of offence punishable under xxmaj section 302 / 34 xxup ipc against the two accused . xxmaj we further hold that the charge of offence punishable under xxmaj section 25 of the xxmaj arms xxmaj act , 1959 against accused xxmaj ajit @ xxmaj dara xxmaj singh is also not proved beyond reasonable doubt . xxmaj accordingly , the appeal deserves to be allowed . \n",
       "  xxmaj the appeal is allowed . xxmaj both the accused , namely xxmaj pawan @ xxmaj rajinder xxmaj singh and xxmaj ajit @ xxmaj dara xxmaj singh , are acquitted of the charges . xxmaj the appellants shall be set at liberty forthwith if not required in connection with any other case . \n",
       "  xxrep 9 … .. … … xxup .j. \n",
       "  [ xxup n.v. xxmaj ramana ] xxrep 9 … .. … … xxup .j. \n",
       "  [ xxmaj prafulla xxup c. xxmaj pant ] xxmaj new xxmaj delhi ; \n",
       "  xxmaj march 08 , 2017 . xxeos,xxbos intention of continuing with the litigation . xxmaj he has not abandoned his claim but has elected to continue with civil action . \n",
       "  20 \n",
       "  16 . xxmaj to sum up , instituting a suit on behalf of minor by a next friend or to represent a minor defendant in the suit by a guardian ad litem is a xxunk procedure which is in place to protect the interests of the minor in civil litigation . xxmaj the only practical difference between a “ next friend ” and a “ guardian ad litem ” is that the next friend is a person who represents a minor who commences a lawsuit ; guardian ad litem is a person appointed by the xxmaj court to represent a minor who has been a defendant in the suit . xxmaj before a minor commences suit , a conscious decision is made concerning the deserving adult ( next friend ) through whom the suit will be instituted . xxmaj the guardian ad litem is appointed by xxmaj court and whereas the next friend is not . xxmaj the next friend and the guardian ad litem possess similar powers and responsibilities . xxmaj both are subject to control by the xxmaj court and may be removed by the xxmaj court if the best interest of the minor so requires . \n",
       "  17 . xxmaj in view of the above discussion , we are of the opinion that the impugned order relying upon the provisions of xxmaj hindu xxmaj guardianship xxmaj act to non­suit the plaintiff no.2 is not justified . xxmaj having regard to the totality of the facts and circumstances of the case , it would be just and proper if the matter is remitted to the xxmaj high xxmaj court for a fresh decision on merits in accordance with law . xxmaj accordingly , 21 this appeal is allowed to the aforesaid extent , the judgment of the xxmaj high xxmaj court is set aside and the matter is remitted to the xxmaj high xxmaj court for a fresh decision on merits , in accordance with law . xxmaj needless to mention , that we have not expressed any opinion on the merits of the case . xxmaj there shall be no order as to costs . \n",
       " \n",
       "  xxrep 13 … xxup j. \n",
       "  [ xxmaj arun xxmaj mishra ] xxrep 5 … . xxrep 8 … xxup j. \n",
       "  [ xxmaj mohan xxup m. xxmaj shantanagoudar ] xxmaj new xxmaj delhi ; \n",
       "  xxmaj date : 08 - 01 - 2018 xxmaj this appeal was called on for pronouncement of xxmaj judgment today . \n",
       "  xxmaj for xxmaj appellant(s ) xxmaj mr. xxmaj nikhil xxmaj majithia , xxmaj adv . \n",
       "  xxmaj mr. xxmaj yadav xxmaj narender xxmaj singh , xxup aor xxmaj for xxmaj respondent(s ) xxmaj mr. xxmaj nishanth xxmaj patil , xxmaj adv . \n",
       "  xxmaj mr. xxmaj prasanna xxmaj mohan , xxmaj adv . \n",
       "  xxmaj mr. xxmaj anup xxmaj jain , xxup aor xxmaj hon’ble xxmaj mr. xxmaj justice xxmaj mohan xxup m. xxmaj shantanagoudar pronounced the xxmaj reportable xxmaj judgment of the xxmaj bench comprising xxmaj hon’ble xxmaj mr. xxmaj justice xxmaj arun xxmaj mishra and xxmaj his xxmaj lordship . \n",
       "  xxmaj the appeal is allowed with no order as to costs in terms of the signed xxmaj reportable xxmaj judgment . xxmaj pending application , if any , stands disposed of . \n",
       " \n",
       "  ( xxmaj signed xxmaj reportable xxmaj judgment is placed on the file ) 23 xxeos,xxbos j u d g m e n t xxup ashok xxup bhushan , xxup j. \n",
       " \n",
       "  xxmaj the xxmaj state of xxmaj madhya xxmaj pradesh is in appeal against the judgment of xxmaj division xxmaj bench of the xxmaj high xxmaj court of xxmaj madhya xxmaj pradesh , xxmaj bench at xxmaj gwalior dated 22.03.2017 by which judgment writ appeal filed by the xxmaj state questioning the judgment of the learned xxmaj single xxmaj judge dated 17.03.2015 has been dismissed . \n",
       "  2 . xxmaj signature xxmaj not xxmaj verified xxmaj the parties shall be described as referred to in the writ xxmaj digitally signed by xxup ashwani xxup kumar xxmaj date : 2018.02.08 petition . xxmaj the facts giving rise to this appeal are : xxunk xxup ist xxmaj reason : \n",
       " \n",
       "  xxmaj the writ petitioners have permanent permit for two 2 routes , one xxmaj gwalior to xxmaj xxunk and second xxmaj gwalior to xxmaj datia . xxmaj respondent xxmaj no.3 has also the permanent permit for the route xxmaj gwalior to xxmaj jhansi . xxmaj respondent xxmaj no.3 preferred an application for modification of time schedule for movement of his vehicle . xxmaj the application of xxmaj respondent xxmaj no.3 came for hearing before the xxmaj state xxmaj transport xxmaj authority on 16.10.2014 . xxmaj on the date of hearing both counsel for the applicant as well as counsel for the objectors were heard . xxmaj the xxmaj state xxmaj transport xxmaj authority allowed the modification and decided to change the time schedule as prayed by the applicant in the public interest . xxmaj the order was issued by the xxmaj state xxmaj transport xxmaj authority on 15.12.2014 . xxmaj aggrieved by the order dated 15.12.2014 , xxmaj writ xxmaj petition xxmaj no.883 of 2015 was filed by the two petitioners who were objectors before the xxmaj state xxmaj transport xxmaj authority . xxmaj in the writ petition various grounds were taken questioning the application filed by the xxunk xxmaj arora . xxmaj one of the grounds taken before the learned xxmaj single xxmaj judge was that although the xxmaj state xxmaj transport xxmaj authority heard the matter on 16.10.2014 consisted of xxmaj chairperson and two members , however , the order was delivered with the signatures of xxmaj chairperson and only one member , since one member , xxmaj shri xxmaj sanjay xxmaj choudhary was transferred in the meanwhile , hence , the order dated 15.12.2014 is illegal . xxmaj the learned xxmaj single xxmaj judge accepted the 3 contention of the writ petitioners and allowed the writ petition by setting aside the order dated 15.12.2014 . \n",
       "  3 . xxmaj the xxmaj state of xxmaj madhya xxmaj pradesh filed writ appeal challenging the judgment of the learned xxmaj singe xxmaj judge . xxmaj the xxmaj state contended before the xxmaj division xxmaj bench of the xxmaj high xxmaj court that there was no illegality in the order issued by the xxmaj chairperson and one member , although , it was heard by three members when the meeting took place on 16.10.2014 . xxmaj the xxmaj division xxmaj bench dismissed the appeal upholding the view of the learned xxmaj single xxmaj judge . \n",
       " \n",
       "  4 . xxmaj learned counsel for the appellant in support of the appeal contends that under the xxmaj madhya xxmaj pradesh xxmaj motor xxmaj vehicles xxmaj rules , 1994 quorum of the meeting of the xxmaj state xxmaj transport xxmaj authority is three ­ xxmaj chairman plus two members and quorum was complete when the meeting was held on 16.10.2014 , the decision delivered by the majority of the members is in no manner illegal . xxmaj it is submitted that after hearing , one member was transferred and was not available to be part of the order issued on 15.12.2014 . xxmaj it is submitted that even it is assumed that one member was not agreeing with the decision of two other members , although , there is no such pleading or material on the record , the decision taken by the majority of the 4 members was fully valid and there was no infirmity in the order dated 15.12.2014 . xxmaj it is submitted that the learned xxmaj single xxmaj judge as well as xxmaj division xxmaj bench committed error in taking the view that the order dated 15.12.2014 was an illegal order . \n",
       " \n",
       "  5 . xxmaj learned counsel for the respondents supported the order of the xxmaj high xxmaj court and contends that when one member who heard the matter on 16.10.2014 was not available , no decision could have been taken by the xxmaj state xxmaj transport xxmaj authority . xxmaj he submits that the matter was heard by three members , hence decision could have been issued only by three members and the views taken by the learned xxmaj single xxmaj judge and xxmaj division xxmaj bench are in accordance with law . \n",
       " \n",
       "  6 . xxmaj we have considered the submissions of the learned counsel for the parties and perused the records . \n",
       "  7 . xxmaj the xxmaj motor xxmaj vehicles xxmaj act , 1988 provides for constitution of a xxmaj state xxmaj transport xxmaj authority to exercise and discharge the powers and functions as specified in sub­section ( 3 ) of xxmaj section 68 . xxmaj section 68(1 ) and xxunk ) are quoted below : \n",
       "  the powers and functions conferred by or under this xxmaj chapter on such xxmaj authorities : \n",
       "  xxmaj provided that in the xxmaj union territories , the xxmaj administrator may abstain from constituting any xxmaj regional xxmaj transport xxmaj authority . ( 2 ) xxrep 36 . ( 3 ) xxmaj the xxmaj state xxmaj transport xxmaj authority and every xxmaj regional xxmaj transport xxmaj authority shall give effect to any directions issued under section 67 and the xxmaj state xxmaj transport xxmaj authority shall , subject to such directions and save as otherwise provided by or under this xxmaj act , exercise and discharge throughout the xxmaj state the following powers and functions , namely : ­ \n",
       "  ( a ) to co­ordinate and regulate the activities and policies of the xxmaj regional xxmaj transport xxmaj authorities , if any , of the xxmaj state ; \n",
       "  ( b ) to perform the duties of a xxmaj regional xxmaj transport xxmaj authority where there is no such xxmaj authority and , if it thinks fit or if so required by a xxmaj regional xxmaj transport xxmaj authority , to perform those duties in respect of any route common to two or more regions ; \n",
       "  ( c ) to settle all disputes and decide all matters on which differences of opinion arise between xxmaj regional xxmaj transport xxmaj authorities ; [ ( ca ) xxmaj government to formulate routes for playing stage carriages ; ] and \n",
       "  ( d ) to discharge such other functions as may be prescribed . ” 6 \n",
       "  8 . xxmaj the xxmaj rules have been framed by the xxmaj state of xxmaj madhya xxmaj pradesh , namely , the xxmaj madhya xxmaj pradesh xxmaj motor xxmaj vehicles xxmaj rules , 1994 . xxmaj chapter v of the xxmaj rules contains heading “ xxmaj control of xxmaj transport xxmaj vehicles ” . xxmaj rule 63 provides for xxmaj state xxmaj transport xxmaj authority . xxmaj rule xxunk ) to ( 7 ) are quoted as below : \n",
       "  9 . xxmaj rule 64 provides for xxmaj regional xxmaj transport xxmaj authority and xxmaj rule 65 is for xxmaj conduct of xxmaj business of xxmaj transport xxmaj authorities . xxmaj rule xxunk ) to 65(4 ) are as follows : \n",
       " \n",
       "  65 . xxmaj conduct of xxmaj business of xxmaj transport xxmaj authorities . ­ 7 ( 2 ) xxmaj the xxmaj state or xxmaj regional xxmaj transport xxmaj authority , as the case may be , may decide any matter of urgent nature without holding a meeting by the majority of votes of members by recorded in writing and send to the xxmaj secretary ( hereinafter referred to as the procedure by circulation ) . ( 3 ) xxmaj in the event of procedure by circulation being followed , the xxmaj secretary shall send to each member of the xxmaj transport xxmaj authority such particulars of the matter as may be reasonably necessary in order to enable the member to arrive at a decision and shall specify the date by which the votes of members are to be received in the office of the xxmaj transport xxmaj authority . xxmaj upon receipt of the votes of members as aforesaid , the xxmaj secretary shall lay the papers before the xxmaj chairman , who shall record the decision by endorsement on the form of application or other document , as the case may be , according to the votes received and the vote or votes cast by the xxmaj chairman . xxmaj the record of the votes cast shall not be available for inspection by any person save by a member of the xxmaj transport xxmaj authority at a regularly constituted meeting of the xxmaj transport xxmaj authority . xxmaj no decision shall be made upon procedure by circulation , if before the date by which the xxunk of members are required to reach the office of the xxmaj transport xxmaj authority , not less than one­third of the members of the xxmaj transport xxmaj authority have given notice in writing to the xxmaj secretary demanding that the matter be referred to a meeting of the xxmaj transport xxmaj authority . \n",
       "  ( 4 ) xxmaj the number of votes , excluding the xxmaj chairman 's second or casting vote , necessary for a decision to be taken upon procedure by circulation shall not be less than the members necessary to constitute a quorum . \n",
       "  xxwrep 4 xxx 8 \n",
       "  10 . xxmaj the facts of the case , as noted above , reveal that xxmaj state xxmaj transport xxmaj authority convened the meeting of the xxmaj authority by issuing the xxmaj agenda for 16.10.2014 . xxmaj in addition to xxmaj chairperson , two members ­ xxmaj shri xxmaj sanjay xxmaj chaudhary , xxmaj transport xxmaj commissioner and xxmaj shri xxmaj rajiv xxmaj sharma , xxmaj chief xxmaj engineer , xxmaj public xxmaj works xxmaj department were present in the meeting . xxmaj the applicant as well as the counsel for the objectors were heard on 16.10.2014 . xxmaj the decision of the xxmaj committee was issued on 15.12.2014 which was signed by the xxmaj chairperson and only one member , xxmaj shri xxmaj rajiv xxmaj sharma , since , after the date of the hearing and before the issuance of the order one member , xxmaj shri xxmaj sanjay xxmaj chaudhary was transferred . xxmaj the copy of the order dated 15.12.2014 has been brought on record as xxmaj annexure xxup p­1 which clearly mentions the date of hearing , i.e. , 16.10.2014 . xxmaj it is useful to extract only the relevant parts of the order for the present case : \n",
       "  11 . xxmaj the only issue which needs to be considered in this 10 appeal is as to whether , when in the meeting dated 16.10.2014 the xxmaj chairperson and two members had heard the application for the change of the time schedule , the order could have been passed allowing the application by the two members ( xxmaj chairperson and one member ) alone , since the order was singed only by the xxmaj chairperson and one member , on 15.12.2014 . \n",
       "  12 . xxmaj the statutory provisions of the xxmaj motor xxmaj vehicles xxmaj act , 1988 as well as the xxmaj madhya xxmaj pradesh xxmaj motor xxmaj vehicles xxmaj rules , 1994 indicate that the xxmaj state xxmaj transport xxmaj authority is a multi­member body constituted by the xxmaj state xxmaj government under xxmaj section 68(1 ) . xxmaj the xxmaj state xxmaj transport xxmaj authority is a multi­member body which transacts business in meeting except in case of emergency . xxmaj meeting is to be convened at such time and at such place as the xxmaj chairman may appoint . xxmaj three days ' notice is required to be given to the members and quorum of the meeting is the xxmaj chairman or the nominated xxmaj chairman and two other members , i.e. , quorum is three . xxmaj in the present case , there is no dispute that when the meeting was held on 16.10.2014 quorum was complete since xxmaj chairperson and two members were present which fact is clearly noticed in the order dated 15.12.2014 as extracted above . xxmaj the three members who were present in the meeting heard the applicant and objectors . xxmaj but the order could be issued only on 15.12.2014 , by which one of the members had been transferred 11 and was not available to sign the order . xxmaj one more important fact which is to be noticed is that learned xxmaj single xxmaj judge had categorically noted that the above issue was raised only during the hearing before the learned xxmaj single xxmaj judge and there was no pleading in the writ petition . xxmaj in paragraph 16 of the judgment , learned xxmaj single xxmaj judge himself has noticed the following : \n",
       " \n",
       "  13 . xxmaj the multi­member body transacts its business after debate , consultation and discussion . xxmaj the view of multi­member body is expressed unanimously or by votes . xxmaj for various kind of decisions by multi­member body special majorities are also provided for acceptance of the decision . xxmaj normally , all decisions of a multi­member body are expressed by opinion of majority of the members present except where the special majorities are provided in the statute itself . \n",
       "  14 . xxmaj shackleton on the “ xxmaj law and xxmaj practice of xxmaj meetings ” , xxmaj eleventh xxmaj edition while discussing the majority has stated 12 following in paragraph 7­30 . xxmaj relevant parts of paragraphs 7­30 and 7­31 are quoted below : \n",
       "  7­30 xxmaj majority is a term signifying the greater number . xxmaj in legislative and deliberative assemblies , it is usual to decide questions by a majority of those present and voting . xxmaj this is sometimes expressed as a “ simple ” majority , which means that a motion is carried by the mere fact that more votes are cast for than against , as distinct from a “ special ” majority where the size of the majority is critical . \n",
       "  xxmaj the principle has long been established that the will of a corporation or body can only be expressed by the whole or a majority of its members , and the act of a majority is regarded as the act of the whole . \n",
       "  a majority vote binds the minority 7­31 xxmaj unless there is some provision to the contrary in the instrument by which a corporation is formed , the resolution of the majority , upon any question , is binding on the majority and the corporation , but the rules must be followed . ” \n",
       "  15 . xxmaj although xxmaj rules , 1994 do not expressly provide that decision of the xxmaj state xxmaj transport xxmaj authority shall be taken in accordance with the opinions of the majority but there being no special majority provided for decision to be taken in the meeting of the xxmaj state xxmaj transport xxmaj authority , normal , rule that decision by majority of the members present has to be 13 followed . xxmaj in the present case when three members were present and quorum was complete , the decision taken by majority , i.e. , opinion of two members shall form the valid decision of the xxmaj state xxmaj transport xxmaj authority . \n",
       " \n",
       "  16 . xxmaj rule 65 sub­section ( 2 ) of the xxmaj rules dealing with the conduct of business of xxmaj transport xxmaj authorities provides : \n",
       "  17 . xxmaj thus , the concept of taking decision by majority of votes of the members is very much present in the scheme of the xxmaj rules . xxmaj although , where a decision is to be taken by the circulation by votes a special majority is provided in xxmaj rule 65(4 ) but present being not a case of decision by circulation , simple majority by members present was sufficient for making a binding decision by the xxmaj state xxmaj transport xxmaj authority . \n",
       "  18 . xxmaj in paragraph 18.1 of the judgment , the xxmaj division xxmaj bench observed that : \n",
       " \n",
       "  19 . xxmaj the above observation was made by the xxmaj division xxmaj bench of the xxmaj high xxmaj court while distinguishing the judgment of this xxmaj court in xxmaj ramaswamy xxmaj nadar v. xxmaj the xxmaj state of xxmaj madras , xxup air 1958 xxup sc 56 . xxmaj before we refer to the decision of this xxmaj court in xxmaj ramaswamy xxmaj nadar , it is clear that observation of the xxmaj division xxmaj bench of the xxmaj high xxmaj court that there is nothing on record to indicate that the quorum of xxmaj state xxmaj transport xxmaj authority was complete , is factually wrong . xxmaj the order of the xxmaj state xxmaj transport xxmaj authority dated 15.12.2014 has been brought on record as xxmaj annexure xxup p­1 and the relevant portion of the order has been extracted above by us which clearly mentions that the hearing took place on 16.10.2014 where the xxmaj chairperson and two members were present the quorum being three as per xxmaj rule 68(1 ) was complete . xxmaj the hearing took place by three members which is noted in the order itself , as extracted above . xxmaj thus , observation of the xxmaj division xxmaj bench of the xxmaj high xxmaj court that quorum was not complete and matter was not heard by three members is not correct . \n",
       "  20 . xxmaj now , we come to the judgment of this xxmaj court in xxmaj ramaswamy xxmaj nadar(supra ) . xxmaj in the above case the matter was heard by a 15 xxmaj bench of three xxmaj judges of this xxmaj court who after hearing had announced the decision of acquittal . xxmaj draft judgment was also approved by one of the xxmaj judges who had , however , died before judgment could be delivered . xxmaj note appended in the judgment was to the following effect : \n",
       " \n",
       "  xxmaj when hearing of this appeal was finished last week by a xxmaj bench consisting of three of us , xxup b.p. xxmaj sinha , xxup p. xxmaj govinda xxmaj menon and xxup j.l. xxmaj kapur , xxup jj . , we announced that we had come to the conclusion that the appellant should be acquitted . xxmaj we also indicated that the judgment will be delivered the week following . xxmaj the draft of the judgment was sent to late xxmaj mr. xxmaj justice xxmaj menon last week and he had approved of it . xxmaj what we are now delivering are the reasons of the xxmaj judges who constituted the xxmaj bench ; but it will be signed by two only of us on account of the unexpected death of xxmaj mr. xxmaj justice . xxmaj menon . \n",
       "  xxup k.s.b. xxmaj appeal allowed . ” \n",
       "  21 . xxmaj in the above case judgment was pronounced with the concurrence of the three judges . xxmaj when the hearing took place opinion of all the three xxmaj judges was expressed but judgment could be singed by two xxmaj judges since one of the xxmaj judges died . xxmaj although , the facts of the above case was little different i.e. there was material to indicate that the third xxmaj judge who could not sign had also concurred with the opinion , but in the 16 present case there is no pleading of third member whether agreeing or not agreeing with the decision . xxmaj for the present case , we proceed on the premise that the third member did not agree with the decision . xxmaj for the decisions of this xxmaj court , xxmaj article 145 sub­clause ( 5 ) of the xxmaj constitution of xxmaj india provides that judge of this xxmaj court can deliver a judgment with the concurrence of a majority of the xxmaj judges present at the hearing of the case . \n",
       " \n",
       "  22 . xxmaj the present is a case where decision by a multi­member body is to be taken in the meeting of the xxmaj committee as per the statutory xxmaj rules . xxmaj there being no such majority provided for taking a decision , the decision by majority has to be accepted as the opinion of the xxmaj state xxmaj transport xxmaj authority . \n",
       "  23 . xxmaj two more cases , which were relied by the appellant and noticed by the xxmaj high xxmaj court need to be noted . xxmaj the xxmaj privy xxmaj council judgment in xxmaj gokal xxmaj xxunk xxmaj jagan xxmaj nath xxmaj vs . xxmaj nand xxmaj ram xxmaj xxunk xxmaj atma xxmaj ram , xxup air ( 1938 ) xxup p.c. 292 , is relevant for the present case . xxmaj in the appeal before the xxmaj privy xxmaj council , judgment of the xxmaj high xxmaj court was assailed on the ground that the two xxmaj hon'ble xxmaj judges of the xxmaj high xxmaj court heard the matter , although , both judges concurred with the judgment , but one xxmaj judge went on leave 17 before signing the judgment , which was signed by only one xxmaj judge . xxmaj the xxmaj privy xxmaj council repelled the contention and held that signing by one of the xxmaj judges at best was only irregularity , not affecting the merits of the case . xxmaj following was laid down in xxmaj paragraphs 6 , 7 and 8:­ “ 6 . a further point was raised by the appellants . xxmaj they urged that the judgment of the xxmaj high xxmaj court appealed from was not a valid judgment because it failed to comply with xxmaj order xxup xli , xxmaj rule 31 , of the xxmaj code of xxmaj civil xxmaj procedure . xxmaj the relevant facts on this issue are that the hearing in the xxmaj high xxmaj court was before two xxmaj judges , xxmaj harrison and xxmaj agha xxmaj haider xxup jj . , and was actually delivered by the former xxmaj judge , the latter agreeing . xxmaj the judgment was delivered on xxmaj february 22 , 1933 . xxmaj but xxmaj harrison xxup j. went on leave before signing the judgment , which was signed by xxmaj agha xxmaj haider xxup j. , the xxmaj deputy xxmaj registrar appending a note that xxmaj harrison xxup j. had gone on leave before signing the judgment he delivered . \n",
       "  7 . xxmaj order xxup xli , xxmaj rule 31 requires that the judgment of the appellate xxmaj court shall be in writing and shall state various matters , and \" shall at the time that it is pronounced be signed and dated by the xxmaj judge or by the xxmaj judges concurring therein . \" \n",
       "  8 . xxmaj the xxmaj rule does not say that if its requirements are not complied with the judgment shall be a nullity . xxmaj so startling a result would need clear and precise words . xxmaj indeed the xxmaj rule does not even state any definite time in which it is to be fulfilled . xxmaj the time is left to be defined by what is reasonable . xxmaj the xxmaj rule from its very nature is not intended to affect the rights of parties to a judgment . xxmaj it is intended to secure certainty in the ascertainment of what the 18 judgment was . xxmaj it is a rule which xxmaj judges are required to comply with for that object . xxmaj no doubt in practice xxmaj judges do so comply , as it is their duty to do . xxmaj but accidents may happen . a xxmaj judge may die after giving judgment but before he has had a reasonable opportunity to sign it . xxmaj the xxmaj court must have inherent jurisdiction to supply such a defect . xxmaj the case of a xxmaj judge who has gone on leave before signing the judgment may call for more comment , but even so the convenience of the xxmaj court and the interest of litigants must prevail . xxmaj the defect is merely an irregularity . xxmaj but in truth the difficulty is disposed of by xxmaj sections 99 and 108 of the xxmaj civil xxmaj procedure xxmaj code . xxmaj section 99 provides that no decree shall be reversed or substantially varied nor shall any case be remanded , in appeal on account of any error , defect or irregularity in any proceedings in the suit , not affecting the merits of the case or the jurisdiction of the xxmaj court . xxmaj that xxmaj section xxunk in the part dealing with appeals from original decrees . xxmaj but xxmaj section 108 applies the same provision to appeals from appellate decrees and it is always in the discretion of the xxmaj board to apply the principle on appeal to xxmaj his xxmaj majesty in xxmaj council . xxmaj in their xxmaj lordships ' judgment , the defect here was an irregularity not affecting the merits of the case or the jurisdiction of the xxmaj court , and is no ground for setting aside the decree . ” \n",
       "  24 . xxmaj another judgment , which was cited by the appellant was xxup a. xxmaj shanta xxmaj rao xxmaj vs . xxmaj state xxmaj transport xxmaj appellate xxmaj tribunal , xxmaj hyderabad & xxmaj ors . , xxup air 1985 xxup a.p. 256 . xxmaj in the above case , xxmaj state xxmaj transport xxmaj appellate xxmaj tribunal consisting of xxmaj chairman and two members heard the matter . xxmaj however , the order was issued only with the signature of xxmaj chairman . xxmaj the order was attacked on the ground 19 that the other two members having not signed the order , the order is illegal . xxmaj repelling the contention following was stated in xxmaj paragraph xxunk “ 9 . xxmaj on the first question , i am of the view that once the minutes of the xxmaj state xxmaj transport xxmaj authority are found to be signed by all the members including the xxmaj chairman , the mere fact that the final order is communicated under the signature of the xxmaj chairman alone does not amount to any illegality . xxmaj the xxmaj court has to see the substance of the matter and not the mere form , and if it is clear that all the members of the xxmaj tribunal have applied their mind to the facts of the case and arrived at a conclusion , it does not matter if the communication is made under the signature of the xxmaj chairman . ” \n",
       "  25 . xxmaj although , in above two cases , there was concurrence of all the members of xxmaj court / xxmaj tribunal but all had not signed the order . xxmaj the present is a case where xxmaj chairperson and two members heard the application in meeting dated 16.10.2014 but order was subsequently pronounced on 15.12.2014 and signed by only xxmaj chairperson and one member . xxmaj the third member having been transferred in the meanwhile . xxmaj as noticed above , there is no pleading in the writ petition as to whether the third member , who was transferred had agreed with the proposed order or did not agree with the decision , which was to be delivered by the xxmaj state xxmaj transport xxmaj authority . xxmaj had third member agreed , there can not be any debate in this matter , the issues being covered 20 by judgment of this xxmaj court in xxmaj ramaswamy xxmaj nadar(supra ) and judgment of the xxmaj privy xxmaj council in xxmaj gokal xxmaj chand xxunk xxmaj nath ( supra ) . xxmaj but there being neither any pleading nor any material to come to the conclusion that the third member has agreed with the opinion , we have proceeded to examine the present case as if , the third member did not agree with the order proposed . xxmaj we have already noticed the reason for coming to the conclusion that the order issued by the xxmaj state xxmaj transport xxmaj authority , signed by the xxmaj chairperson and one member is a valid order having been issued with the majority opinion of two out of three , who heard the application on 16.10.2014 . xxmaj thus , in any view of the matter , no illegality can be attached with the order dated 15.12.2014 , which was signed by the xxmaj chairperson and one member . \n",
       " \n",
       "  26 . xxmaj in view of the foregoing discussion , we are of the opinion that decision dated 15.12.2014 issued with the signatures of xxmaj chairperson and one member was a valid decision in spite of the fact that one of the members who was present in the hearing when the meeting took place on 16.10.2014 and had been transferred in the meanwhile did not sign the order . xxmaj the decision of the xxmaj state xxmaj transport xxmaj authority dated 15.12.2014 was fully in accordance with the statutory scheme of the xxmaj rules , 1994 and both the learned xxmaj single xxmaj judge and xxmaj division 21 xxmaj bench erred in holding the decision as invalid . xxmaj we , thus , are of the view that judgments of learned xxmaj single xxmaj judge and xxmaj division xxmaj bench do not express the correct view of the law . \n",
       "  27 . xxmaj in the result , the appeal is allowed and judgments of the xxmaj high xxmaj court are set aside . \n",
       " \n",
       "  xxrep 31 . xxup j. ( xxup a.k. xxup sikri ) xxrep 31 . xxup j. ( xxup ashok xxup bhushan ) xxup new xxup delhi , xxup february 08 , 2018 . xxeos,xxbos 31.3.2030 / 31.3.2020 , the lease period would stand extended up to 31.3.2030 / 31.3.2020 ( in the case of captive / non - captive mines , respectively ) . xxmaj secondly , where the renewal of the mining lease already extends to a period beyond 31.3.2030 / 31.3.2020 ( in the case of captive / non - captive mines , respectively ) , the lease period of such leaseholders , would continue up to the actual period contemplated by the renewal order . xxmaj thirdly , a leaseholder would have the benefit of treating the original lease period as of fifty years . xxmaj accordingly , even during the renewal period , if the period of the mining lease would get extended ( beyond the renewal period ) by treating the original lease as of fifty years , the leaseholder would be entitled to such benefit . \n",
       "  xxmaj out of the above three contingencies provided under sub - sections ( 5 ) and ( 6 ) of xxmaj section xxup 8a , the contingency as would extend the lease period farthest , would enure to the benefit of the leaseholder . \n",
       "  ( vii ) xxmaj based on the interpretation placed by us on xxmaj section xxup 4a(4 ) of the xxup mmdr xxmaj act , and xxmaj rule 28 of the xxmaj mineral xxmaj concession xxmaj rules , we can draw the following conclusions . xxmaj firstly , unless an order is passed by the xxmaj state xxmaj government declaring , that a mining lease has lapsed , the mining lease would be deemed to be subsisting , up to the date of expiry of the lease period provided by the lease document . xxmaj secondly , in situations wherein an application has been filed by a leaseholder , when he is not in a position to ( or for actually not ) carrying on mining operations , for a continuous period of two years , the lease period will not be deemed to have lapsed , till an order is passed by the xxmaj state xxmaj government on such application . xxmaj where no order has been passed , the lease shall be deemed to have been extended beyond the original lease period , for a further period of two years . xxmaj thirdly , a leaseholder having suffered a lapse , is disentitled to any benefit of the amended xxup mmdr xxmaj act , because of the express exclusion contemplated under xxmaj section xxup 8a(9 ) of the amended xxup mmdr xxmaj act . \n",
       "  xxrep 11 … xxup j. \n",
       "  ( xxmaj jagdish xxmaj singh xxmaj khehar ) xxrep 11 … xxup j. \n",
       "  ( xxup c. xxmaj nagappan ) xxmaj new xxmaj delhi ; \n",
       "  xxmaj april 04 , 2016 . xxeos,xxbos xxup arun xxup mishra , xxup j. \n",
       "  1 . xxmaj the question involved in the appeal is whether it is open to the xxmaj state of xxmaj karnataka to levy xxmaj sales xxmaj tax in view of the xxmaj time xxmaj charter xxmaj agreement dated 8.1.1998 and whether it amounts to transfer of the right to use goods within the meaning of section xxup 5c of the xxmaj karnataka xxmaj sales xxmaj tax xxmaj act , 1957 ( for short , “ the xxup kst xxmaj act ” ) read with xxmaj article 366 ( xxup 29a ) ( d ) of the xxmaj constitution of xxmaj india . \n",
       " \n",
       "  2 . xxmaj the appellant – xxmaj the xxmaj great xxmaj eastern xxmaj shipping xxmaj co. xxmaj ltd. filed a writ petition questioning the competence of the xxmaj state xxmaj government to impose a sales tax in respect of the goods which are used within the territorial waters of xxmaj india . xxmaj the appellant owns a tug ( towing vessel , xxmaj signature xxmaj not xxmaj verified namely \" xxmaj kumari xxmaj tarini \" ) . xxmaj the company entered into a xxmaj charter xxmaj party xxmaj digitally signed by xxup jayant xxup kumar xxup arora xxmaj date : 2019.12.04 xxunk xxup ist xxmaj reason : \n",
       " \n",
       "  xxmaj agreement with xxmaj new xxmaj mangalore xxmaj port xxmaj trust on 8.1.1998 . xxmaj it agreed to make available the services of tug , for the purposes provided in the 2 agreement along with the master and other personnel of the company to the xxmaj port xxmaj trust for six months . \n",
       " \n",
       "  3 . xxmaj the xxmaj assistant xxmaj commissioner of xxmaj income xxmaj tax vide notification dated 8.6.1998 directed the company to register itself as a dealer under the provisions of the xxup kst xxmaj act on the ground that the agreement attracted tax under section xxup 5c thereof . xxmaj the company in the reply dated xxunk repudiated the claim on the ground that there was no transfer of right to use the goods given by the company to the xxmaj port xxmaj trust as the possession and custody of the tug continued with it . xxmaj the xxmaj assistant xxmaj commissioner sent another communication dated 28.12.1998 informing that last chance was given to the company to get itself registered under the xxup kst xxmaj act within 15 days failing which he would be compelled to file charge­sheet against the company for the offence under section 29(2 ) ( xxrep 4 a ) of the xxup kst xxmaj act . xxmaj the xxmaj joint xxmaj commissioner of xxmaj income xxmaj tax ( xxmaj commercial xxmaj taxes ) on a query being made by the company wrote that he was not the competent authority to issue a clarification regarding liability or otherwise to pay tax under section xxup 5c of the xxup kst xxmaj act . \n",
       " \n",
       "  4 . xxmaj the company filed a writ petition on the ground that the xxup kst xxmaj act does not extend to territorial waters of xxmaj india situated adjacent to the landmass of the xxmaj state of xxmaj karnataka . xxmaj thus , the xxmaj state is not authorised to exact any tax on the hire charges received from the xxmaj port xxmaj trust . xxmaj the 3 learned xxmaj single xxmaj judge dismissed the writ petition , aggrieved thereby the company preferred a writ appeal . xxmaj the same has also been dismissed ; hence , the appeal has been filed . a xxmaj division xxmaj bench of the xxmaj high xxmaj court of xxmaj karnataka has rejected the submission raised by the appellant that over the territorial waters xxmaj state of xxmaj karnataka has no power . xxmaj the learned xxmaj single xxmaj judge was not justified in refusing to consider the question , whether there was a transfer of right to use the tug . xxmaj it held that there was a transfer of right to use the tug by the company to the xxmaj port xxmaj trust . \n",
       " \n",
       "  5 . xxmaj shri xxmaj arvind xxmaj datar , learned senior counsel appearing on behalf of the company submitted that the xxmaj time xxmaj charter xxmaj agreement dated 8.1.1998 does not amount to transfer of right to use goods within the meaning of section xxup 5c of the xxup kst xxmaj act . xxmaj it was only a contract of service . xxmaj the contract is for the hire of a tug on payment of xxmaj rs.1.5 lakh per day . xxmaj the expression used in the agreement is ' service . ' xxmaj time xxmaj charters world over are considered a contract of service . xxmaj there is a difference between the ‘ right to use goods ’ and ‘ the transfer of the right to use goods . ’ xxmaj in case of a lease , there is a transfer of an interest in the property , whereas , in a licence , there is a mere right to use the property . xxmaj the xxmaj time xxmaj charter is recognised as an agreement in the nature of pure service . xxmaj they are entirely distinct from xxmaj bareboat xxmaj charter xxmaj agreement or charter by demise . xxmaj the charters are of three kinds viz . ( a ) xxmaj time 4 xxmaj charter , ( b ) xxmaj bareboat xxmaj charter or xxmaj charter by xxmaj demise , and ( c ) xxmaj voyage xxmaj charter . xxmaj time charter and voyage charter are contracts of service , whereas bareboat charter amounts to transfer of right to use the ship itself . xxmaj in a time charter , master and crew are in the employment of the owner , and complete control , ownership , and possession of the vessel remain only with the owner through the master and crew . xxmaj the delivery to the xxmaj port xxmaj trust is only a symbolic one , and the legal and physical possession of xxmaj tug continues to be with the company . xxmaj thus , the arrangement is a service , not a lease . xxmaj learned senior counsel has made reference to xxmaj scrutton on charter parties , xxmaj halsbury 's xxmaj laws of xxmaj england , and have also relied upon various decisions . \n",
       "  6 . xxmaj mr. xxmaj datar has further submitted that the xxmaj port xxmaj trust can not use the xxmaj tug for any purpose except , as mentioned in clause 3 of the xxmaj agreement . xxmaj the xxmaj port xxmaj trust can not take away the xxmaj tug outside the harbour limits of the xxmaj port xxmaj trust . xxmaj legal possession and fiscal control had not been transferred to the xxmaj port xxmaj trust , and only a conditional use of the vessel has been given . xxmaj the use of the words ‘ at the disposal of xxmaj port ' in clause 7 is a standard term used in all charter agreements , and these do not indicate the transfer of legal possession or transfer of fiscal control . xxmaj the contract indicates various liabilities and responsibilities of the owner ; the insurance has to be provided by the appellants . xxmaj for the performance of service , the xxmaj bank xxmaj guarantee also 5 has to be given . xxmaj the owner is responsible for damage to his xxmaj tug , xxmaj jetty , port premises , or any other vessel in the port . xxmaj the company is responsible for providing indemnity to the charterer . xxmaj thus , the owner has not lost his control over the vessel . \n",
       " \n",
       "  7 . xxmaj it is further urged that if the vessel is at the disposal of the xxmaj port xxmaj trust , does not mean that there is a transfer of right to use it . xxmaj the expression must be understood in a proper context of the agreement itself . xxmaj it would be absurd to suggest that the vessel can be partly in possession of the xxmaj port xxmaj trust and partly with the company . xxmaj any interpretation otherwise of the contract may create xxunk in the scheme of indirect taxation in xxmaj india . \n",
       " \n",
       "  8 . xxmaj mr. xxmaj datar has also referred to international laws relating to time charter and xxmaj bareboat xxmaj charter xxmaj agreements that have been in existence for more than 100 years . xxmaj according to him , the time charter has always been treated as a contract of service . xxmaj he has relied on the xxmaj ministry of xxmaj finance , xxmaj department of xxmaj revenue , a clarification dated xxunk issued on the basis of detailed examination and analysis of the xxmaj charter xxmaj party xxmaj agreements entered by shipping companies with their charterers and have clarified that vessels fall under the category of tangible goods . a charterer acquired the right to use the vessel without having the right to possession or effective control of the vessel . xxmaj therefore , the consideration paid for chartering of vessels is liable to 6 service tax under the category of ‘ supply of tangible goods for use by way of service without possession and control . ’ xxmaj the fact that time charters are subject to service tax and bareboat charters are subject to sales tax , which indicates that time charters are contracts of service . xxmaj if they involved a transfer of right to use , xxmaj parliament would never have subjected them to service tax . \n",
       " \n",
       "  9 . xxmaj mr. xxmaj datar , learned senior counsel has also submitted that usually , only the xxmaj parliament can make laws relating to territorial waters . xxmaj under xxmaj article 246(4 ) , read with xxmaj article 286 , xxmaj parliament can make fiscal laws relating to imposition of tax on either supply of goods or services or both , where such supply takes place outside the xxmaj state . xxmaj thus , even if the situs of agreement fell in the territory of xxmaj state , it would be of no relevance as the vessel has to ply in territorial waters . xxmaj an agreement can not be signed in the high seas . \n",
       " \n",
       "  10 . xxmaj it was submitted that the xxmaj high xxmaj court has erred in treating the territorial water as part of the territory of xxmaj karnataka , in contravention to xxmaj article 297 as well as the provisions of the xxmaj territorial xxmaj waters , xxmaj continental xxmaj shelf , xxmaj exclusive xxmaj economic xxmaj zone , and other xxmaj maritime xxmaj zones xxmaj act , 1976 ( xxmaj act of 1976 ) . xxmaj none of the maritime xxmaj states have been given the territorial waters as part of their territory . xxmaj he has also referred to xxmaj dr. xxmaj ambedkar ’s speech in the xxmaj constituent xxmaj assembly to submit that the entire territorial waters would exclusively belong to 7 the xxmaj union , and it is only by way of an exception through xxmaj entry 21 in xxmaj list xxup ii that “ fisheries ” has been kept under the control of a xxmaj state xxmaj government . xxmaj the xxmaj state xxmaj government is , thus , competent to regulate fishing up to the territorial waters . xxmaj the same would again be restricted by xxmaj entry 57 of xxmaj list i , which provides that fisheries beyond the territorial waters would be under the control of the xxmaj union as per xxmaj entry 21 , xxmaj list xxup ii . xxmaj the xxmaj karnataka xxmaj marine and xxmaj fishing ( xxmaj regulation ) xxmaj act , 1986 ( xxmaj act of 1986 ) was passed by the xxmaj state legislature , within purview of powers as per xxmaj entry 21 of xxmaj list xxup ii . xxmaj section 2(j ) of the xxmaj act of 1986 has defined xxmaj karnataka xxmaj state to include the territorial waters , but that has to be read in the context of xxmaj entry 21 in xxmaj list xxup ii . xxmaj the definition in section 2(j ) is confined to the regulation of fisheries , and can not be interpreted to mean that the territorial waters belong to xxmaj karnataka . xxmaj the xxmaj state can not claim 12 nautical miles as part of its territory ; otherwise , each maritime xxmaj state can pass laws with any of the items mentioned in xxmaj list xxup ­i regarding the activities in the territorial waters , which are the prerogative of the xxmaj parliament . \n",
       " \n",
       "  11 . xxmaj mr. xxmaj datar has further submitted that under xxmaj entries 56 and 57 of xxmaj list xxup ii , the xxmaj state legislature has the competence to levy tax on the carriage of goods and passengers only on inland waters base . xxmaj by implication , any taxes on the carriage of goods or passengers in the territorial waters is outside the legislative competence of the xxmaj state 8 legislature . xxmaj entries 25 to 27 of xxmaj list i indicate that the entire shipping industry is exclusively within the domain of xxmaj parliament . xxmaj entry 27 of list­i cover the ports , and the agreement is with the xxmaj port xxmaj trust . xxmaj he has further attracted our attention to section 5 of the xxmaj territorial xxmaj waters xxmaj act , 1976 . xxmaj section 5 defines the contiguous zone to be at a distance of 24 nautical miles from the nearest point of the xxunk . xxmaj the xxmaj central xxmaj government has the exclusive power to make laws concerning customs and other fiscal matters on activities that take place in the contiguous zone . xxmaj the xxmaj territorial xxmaj waters xxmaj act prevails over the xxmaj state legislature dealing with sales tax , i.e. , the xxup kst xxmaj act . xxmaj thus , the decision in 20th xxmaj century xxmaj finance xxmaj corporation xxmaj ltd. v. xxmaj state of xxmaj maharashtra , 2000 ( 6 ) xxup scc 12 is not attracted in which this xxmaj court was concerned with the controversy as to which xxmaj state could levy sales tax , where signing of the contract , delivery of the goods or use of the rights were in different xxmaj states . xxmaj the majority held that the xxmaj state where a contract is signed would have the power to levy a sales tax . xxmaj thus , the place where the goods were delivered or used could not be a ground for levy of sales tax . xxmaj merely signing of the contract in xxmaj mangalore conferred no jurisdiction to levy sales­tax on the xxmaj state of xxmaj karnataka . xxmaj the decision has no application to the transaction , the effect of which takes place in territorial waters or the high seas , even if the agreement is signed within a particular xxmaj state . 9 \n",
       "  12 . xxmaj mr. xxmaj mohan xxmaj parasaran , learned senior counsel has taken us in detail to various clauses of the agreement . xxmaj the agreement is in the nature of a time charter as approved by the xxmaj new xxmaj york xxmaj produce xxmaj exchange ( xxup xxunk ) , which is the standard form for time charters . xxmaj it is neither a bareboat cum demise charter nor a voyage charter and is , therefore , only a time charter because of terms and conditions . xxmaj he has relied upon xxup bsnl v. xxmaj union of xxmaj india , ( 2006 ) 3 xxup scc 1 wherein this xxmaj court has laid down essential attributes of a transaction to constitute a transfer of the right to use the goods . xxmaj at no point of time , the vessel should go out of the possession or control of the company , therefore the essential ingredient to constitute it a transfer of the right to use is missing . xxmaj he has also referred to xxup dlf xxmaj universal xxmaj ltd. v. xxmaj director , xxmaj town and xxmaj country xxmaj planning xxmaj department , xxmaj haryana , ( 2010 ) 14 xxup scc 1 . xxmaj the very language of the agreement makes it clear to be a contract of service . xxmaj the expressions like delivery and re­delivery are not to be understood in a literal sense . xxmaj there are certain obligations upon the company , which makes out that effective control over the vessel is with the company . xxmaj he had also referred to xxmaj harbour xxmaj craft xxmaj rules . xxmaj the tug is always operated , controlled , run , maintained , and insured by the company . xxmaj possession of the xxmaj tug remains with it . xxmaj in the event the tug is disabled from use , the charterer is not required to pay xxunk 10 party charges to the company . xxmaj the company has to indemnify the charterer . \n",
       " \n",
       "  13 . xxmaj mr. xxmaj mohan xxmaj parasaran , learned senior counsel has also submitted that the concept of time charter­party is a charter for a specified period rather than for a specific task . xxmaj there are other types of xxmaj charter xxmaj party xxmaj agreements like demise charter and voyage charter . xxmaj under a demise charter , the owner leases his ship to the charterer for an agreed period in exchange for periodic payments . xxmaj in voyage charter , the owners agree that their ship xxunk , xxunk and xxunk by them , shall carry specified cargo on an agreed voyage in exchange for freight , characteristically a \" single payment . \" xxmaj under xxmaj mercantile jurisprudence , it is well­settled that insofar as time charter is concerned , it is only a service contract . xxmaj he has also referred to xxmaj scrutton on xxmaj charterparties and xxmaj bill of xxmaj lading , and xxmaj british xxmaj shipping xxmaj laws , xxmaj carriage by xxmaj sea book by xxmaj colinvaux , xxmaj xxunk xxup p. xxmaj he has also referred to a decision in xxmaj british xxmaj india xxmaj steam xxmaj navigation xxmaj co. xxmaj ltd. v. xxmaj shanmughavilas xxmaj cashew xxmaj industries & xxmaj ors . , ( 1990 ) 3 xxup scc 481 and other decisions and the definition of time charter­party in xxmaj black ’s xxmaj law xxmaj dictionary . xxmaj for the period during which the transferee has such legal right , it has to be to the exclusion of the transferor company , which is explicitly necessary to constitute a transfer of the right to use , which is not merely a licence to use the goods . xxmaj service tax is already leviable 11 treating it as service agreement as such sales­tax can not be exacted by the xxmaj state xxmaj government . xxmaj the territorial waters are within the exclusive jurisdiction of the xxmaj union of xxmaj india . xxmaj in view of xxmaj article 297 of the xxmaj constitution , the xxmaj state of xxmaj karnataka has no jurisdiction to impose a sales tax . xxmaj the territorial waters are deemed xxmaj union territory . xxmaj the sovereignty of xxmaj india extends and has always extended to the territorial waters and the xxunk and xxunk underlying and air space over , such waters and it is the xxmaj central xxmaj government which has the power to alter the limits of the territorial waters . \n",
       "  14 . xxmaj mr. xxmaj devadatt xxmaj kamat , learned senior counsel submitted on behalf of the xxmaj state of xxmaj karnataka that the transfer of right to use occurs when the agreement has been entered into and not when the delivery of the goods takes place . xxmaj he has referred to various clauses of the agreement to take home the aforesaid submission and has relied upon 20th xxmaj century xxmaj finance xxmaj corporation xxmaj ltd. v. xxmaj state of xxmaj maharashtra ( supra ) , a decision of the xxmaj constitution xxmaj bench of this xxmaj court which has been approved in xxup bsnl ( supra ) . xxmaj he has further urged that a coastal xxmaj state has jurisdiction to levy sales­tax in the territorial waters abutting the coast . xxmaj he has also referred to xxmaj article 297 . xxmaj he has relied upon xxmaj dr. xxmaj ambedkar ’s speech in the xxmaj constituent xxmaj assembly that “ xxmaj state laws will prevail over that area , whatever law you make will have its operation over the area of three miles from the physical territory ” and has also 12 referred to xxup h.m. xxmaj seervai ’s seminal work on the “ xxmaj constitutional xxmaj law of xxmaj india ” with respect to interpretation of xxmaj article 297 of the xxmaj constitution of xxmaj india . xxmaj though the xxmaj article has been amended on more than one occasion , the xxmaj parliament has not altered the basic premise of xxmaj article \n",
       "  297 . xxmaj he has relied upon xxmaj baliram xxmaj waman xxmaj xxunk v. xxmaj justice xxup b. xxmaj lentin , ( 1988 ) 4 xxup scc 419 ; xxup p.t. xxmaj rajan v. xxup xxunk xxmaj xxunk ( 2003 ) 8 xxup scc 498 . xxmaj several xxmaj states , including the xxmaj state of xxmaj karnataka , have enacted the laws with respect to fisheries . xxmaj he has referred to section 2(j ) of the xxmaj karnataka xxmaj marine xxmaj fishing ( xxmaj regulation ) xxmaj act , 1986 . xxmaj there was a transfer of right to use the vessel as apparent from the various clauses of the agreement . xxmaj he has also relied upon xxmaj article 366 and the debates relating to it . xxmaj parliament has chosen not to place any restriction on the power of the xxmaj state xxmaj government under xxmaj article 366(29a)(d ) . \n",
       " \n",
       "  15 . xxmaj mr. xxmaj tushar xxmaj mehta , learned xxmaj solicitor xxmaj general of xxmaj india has expressed the concern of the xxmaj union of xxmaj india with respect to territorial waters and has submitted that the territorial waters vested in the xxmaj union of xxmaj india as per xxmaj entries 25 to 27 and 30 of xxmaj list i and the xxmaj territorial xxmaj waters xxmaj act . xxmaj the decision of the xxmaj karnataka xxmaj high xxmaj court to the extent of territorial waters , can not be said to be correct . xxmaj he has relied upon the debates in the xxmaj constituent xxmaj assembly as to xxmaj article 297 . xxmaj in accordance with xxmaj article xxunk ) , the xxmaj parliament has enacted the xxmaj territorial xxmaj waters xxmaj act , 1976 ; he has referred to sections 3 , 5 , and 7 of 13 the said xxmaj act . xxmaj he has also relied on xxmaj articles 246 and 286 of the xxmaj constitution of xxmaj india . \n",
       " \n",
       "  16 . xxmaj following questions arise for consideration in the matter : \n",
       "  ( i ) xxmaj whether the xxmaj state of xxmaj karnataka has jurisdiction to levy sales­tax under section xxup 5c of the xxup kst xxmaj act in respect of the xxmaj charter xxmaj party xxmaj agreement dated 8.1.1998 ? \n",
       " \n",
       "  ( ii ) xxmaj whether the agreement dated 8.1.1998 constitutes “ transfer of the right to use \" ? \n",
       " \n",
       "  ( iii ) xxmaj whether the xxmaj state of xxmaj karnataka has the competence to levy xxunk tax on the agreement , which is effective within the territorial waters ? \n",
       "  17 . xxmaj this xxmaj court issued notice to various coastal xxmaj states , and they have filed response also with respect to territorial waters , such as the xxmaj states of xxmaj goa , xxmaj maharashtra , xxmaj kerala , xxmaj tamil xxmaj nadu , xxmaj andhra xxmaj pradesh , and xxmaj west xxmaj bengal , etc . xxmaj in xxmaj re : xxmaj section xxup 5c of xxup kst xxmaj act : \n",
       "  18 . xxmaj the xxmaj state of xxmaj karnataka has sought to levy tax under section xxup 5c of the xxup kst xxmaj act on charter­party on the ground that it is a transfer of right to use vessel . \n",
       " \n",
       "  19 . xxmaj section xxup 5c of the xxup kst xxmaj act reads : \n",
       "  20 . xxmaj section 2(t ) of the xxup kst xxmaj act defines “ sale ” and reads as under : \n",
       "  21 . a reading of the definition of sale makes it crystal clear that every transfer of property in goods by one person to another in the 15 course of trade or business , includes the transfer of right to use any goods for any purpose . xxmaj section xxup 5c of the xxmaj act also provides levy of tax on the transfer of the right to use any goods . xxmaj article 366(29a)(d ) inserted by the xxmaj constitution ( 46th xxmaj amendment ) xxmaj act , 1982 on xxunk reads : \n",
       "  22 . a tax on the sale or purchase of goods includes a tax for transfer of right to use goods as that is deemed to be a sale . xxmaj the question that arises for consideration is whether there is a transfer of the right to use the vessel . xxmaj it has to be considered in view of the charter agreement entered into between the company and the xxmaj port xxmaj trust . xxmaj the tender 16 documents pursuant to which agreement has been entered into contains the conditions and instructions to tenderers . xxmaj the pre­ qualification criteria provide that the tenderer has to submit the documents regarding ownership or possession of tug on bareboat / committed demise charter hire of tugs . xxmaj in case he does not own the tug , he has to provide documents to prove that he has entered into a lease for charter hire of tug(s ) for deploying them in the xxmaj port xxmaj trust during the period of the contract . xxmaj the tenderer should have experience of manning and harbor practice for one year during the last 3 years . xxmaj tugs should be deployed at xxunk at xxmaj new xxmaj mangalore xxmaj port during the contract period . \n",
       " \n",
       "  23 . xxmaj general conditions of the contract are also specified in the tender documents . xxmaj paras 5(a ) , 6(ii ) of the instructions to tenderers are extracted hereunder : \n",
       "  24 . xxmaj instructions at paras 5 , 6 , 13 and 15 of xxmaj general xxmaj conditions of xxmaj contract are as under : \n",
       "  25 . xxmaj clauses 1 and 3 to 15 of the xxmaj special xxmaj conditions which are relevant are extracted hereunder : \n",
       "  xxmaj special xxmaj conditions of xxmaj contract : \n",
       " \n",
       "  1 . xxmaj all operational costs , including wages ( xxmaj minimum xxmaj wages xxmaj act or any other xxmaj act , allowances , xxunk , xxmaj insurance ( xxmaj personal ) , xxmaj hull and xxmaj machinery , xxmaj protection & xxmaj indemnity ) will be borne by the xxmaj contractor . xxmaj repairs , survey , and other requirements to keep the tug operational will be to the xxmaj contractor 's account and during any absence of the tug from duty or inability of tug to perform for these or any other reasons , will result in non payment of hire charges , for the period the xxmaj tug was not made available to the xxmaj charterer , on pro - rata basis and clause 16 of the xxmaj charter xxmaj party xxmaj agreement shall apply . \n",
       "  2 . xxrep 7 x \n",
       "  3 . xxmaj on the date of commencement of the service , the tug shall have completed all the necessary surveys and be in possession of all valid certificates . xxmaj drydocking should not be required for a minimum period of two years from the date of delivery of xxmaj tug on charter . \n",
       "  4 . a joint survey will be carried out at xxup nmpt before the tug is accepted for service in the port to assess the condition , capability , and performance of the xxmaj tug and the quantity of fuel , lubricants , etc . \n",
       "  5 . xxmaj on - hire and off - hire survey charges shall be borne equally by the xxmaj charterer and the xxmaj contractors . \n",
       "  6 . xxmaj the xxmaj charterer will not be responsible for any damage suffered by the tug due to failure of the tug or errors of the xxmaj tug xxmaj master and crew or any reason whatsoever . \n",
       "  7 . xxmaj the contract will be for a period of 6 months with effect from the date of commencement of the service . xxmaj the contract may be extendable for a further period of one year at the discretion and option of xxup nmpt . xxmaj the xxmaj charterer may exercise the option for an extension not later than 30 days prior to the expiry of the first one year period . \n",
       "  8 . xxmaj the xxmaj tug shall be made available for port operations round the clock ( 24 hours a day ) throughout the contract period . \n",
       "  9 . xxmaj the xxmaj contractor shall comply with the xxmaj indian xxmaj merchant xxmaj shipping xxmaj act and any other legislation related to the operation of a tug in xxmaj indian territorial waters , and if of foreign registry , shall obtain the appropriate licenses / permission from the xxmaj directorate xxmaj general of xxmaj shipping , xxmaj mumbai for operating the tug in xxup nmpt . \n",
       "  10 . xxmaj the xxmaj contractor has to pay the revised minimum wages to the crew engaged by them . xxmaj if the crew is engaged for more than 8 hours , they should be compensated for the extra work . xxmaj the contractor has to take the insurance policy covering all types of risks of all employees engaged by them . \n",
       "  11 . xxmaj the xxmaj contractor shall carry out the works strictly in accordance with the contract to the satisfaction of the xxmaj deputy xxmaj conservator and shall comply with and adhere strictly to his instructions and direction on any matter ( whether mentioned in the contract or not ) . \n",
       "  12 . xxmaj the tug shall be delivered within 30 days from the date of issue of the xxmaj letter of xxmaj acceptance , in xxunk and efficient condition , and should be in possession of all necessary certificates . \n",
       "  13 . xxmaj if the contractor fails to deliver the tug in all respects within 30 days , from the date of issue of xxmaj letter of xxmaj acceptance , liquidated damages at the rate of xxmaj rs . 30,000 / - per day will be levied on the xxmaj contractor , and if 19 the xxmaj tug is not delivered for operation within 60 days from the date of issue of xxmaj letter of xxmaj acceptance , the contract shall be canceled and xxup emd forfeited . \n",
       "  14 . xxmaj the xxmaj contractor shall obtain necessary clearance , as required from xxunk , xxmaj ministry of xxmaj surface xxmaj transport , etc . for deploying the tug for service in the port before the tug is put into the service . \n",
       "  15 . xxmaj the steady / sustained xxmaj bollard pull of the xxmaj tug should not be less than 40 tonnes at the time of delivery . xxmaj bollard xxmaj pull test certificate should be from xxmaj classification society and should not be more than 6 months old from the date of delivery of the xxmaj tug to xxup nmpt . ” \n",
       "  26 . xxmaj the relevant clauses of agreement viz . , clauses 1 , 3 , 4 , 5 , 7 , 10 , 11 , 12 , 13 , 14 , 14 ( a ) , 15 , 16 , 17 , 21 & 22 read thus : \n",
       "  4 . xxup contractors xxup to xxup provide : \n",
       "  xxmaj except as otherwise stated in this charter or a : may be agreed from time to time the contractors shall provide and / or pay for all requirements , cost , or expense relating to the vessel , her master and crew , which , without prejudice to the generality of the foregoing shall include . \n",
       "  ( a ) xxmaj drydocking , repairs , docking for the contractor , : xxmaj purpose , and all expenses associated therewith , ( b ) provisions , wages ( as per minimum wages xxunk . , shipping and discharging fee ; and all other expenses of the xxmaj master , xxmaj officers and xxmaj crew ( xxunk , cabin and ongoing room stores ( d ) xxmaj adequate xxmaj no . of xxmaj towing ropes tested and certified ( o ) xxunk fuel , ( f ) xxmaj marine and war risk insurance of the vessel ( g ) xxunk and xxunk exemption certificate ( h ) all customs , or import duties arising in connection with any of the foregoing ( 1 ) all taxes , duties , and levies including but not limited to the taxes , duties , and levies imposed on the income of the contractor , its employees or any levies , etc . on any purchase made by the contractors and / or any penalties imposed by any authorities from time to time . \n",
       "  5 . xxmaj charterers to provide whilst the vessel is on hire fuel , lubricants , water , electricity , port charges , and anti - pollutants . xxmaj in case of actual fire fighting as ordered by xxmaj charterer , the cost of foam / chemicals consumed for the fire fighting will be reimbursed by the xxmaj charterer at actuals . \n",
       "  6 . xxmaj the xxmaj charterers at port of delivery and the xxmaj contractors at port of redelivery to take over and pay for all fuel and lubricants remaining in the vessel at xxmaj mangalore . \n",
       "  7 . xxup maintenance xxup and xxup operation : \n",
       "  ( a ) xxmaj the vessel shall , during the charter period , be for all purposes at the disposal of the xxmaj charterers and under the control in every respect . xxmaj the xxmaj contractor shall maintain xxmaj vessel , machinery , appurtenances and spare parts in a good state of repair , inefficient operating condition and in accordance with good commercial maintenance practice and they , shall keep the vessel with unexpired classification of the class / xxup xxunk and with other required certificates in force at all times . \n",
       "  ( b ) xxmaj the xxmaj charterer shall have the use of all outfits , equipment , and appliances on board at the time of delivery . xxmaj the contractor shall , from time to time during the charter period , replace such items of equipment as shall be so damaged or worn as to be unfit for use . xxmaj the xxmaj contractor shall carry out all repairs or replacement of any damaged , worn or lost parts or equipment in such manner ( both as regards workmanship and quality of materials ) as not to diminish the value and efficiency of the vessel . \n",
       "  xxx \n",
       "  10 . xxup inspection : \n",
       " \n",
       "  xxmaj the xxmaj charterers shall have the right to require the vessel to be xxunk docked if the contractor is not docking vessel at normal classification / statutory intervals . xxmaj the fees for such dry dock / inspection and survey shall be borne by the xxmaj contractor . xxmaj all time taken in respect of dry docking , inspection , survey , or repairs shall not count as time on hire and shall not form part of the charter period , and clause 16 of the xxmaj charter xxmaj party xxmaj agreement shall apply . \n",
       " \n",
       "  11 . xxup insurance : \n",
       "  ( a ) xxmaj during the xxmaj charter period , the vessel shall be kept insured by the xxmaj contractors at their expense against marine xxmaj hull & xxmaj machinery and war risks . xxmaj the xxmaj charterers and / or xxmaj insurers shall not have any right of recovery or subrogation against the xxmaj contractors on account of the loss of any damage to the vessel or her machinery or appurtenances covered by such xxmaj insurance or on account of payments made to discharge claims against or liabilities of the vessel or the xxmaj charterers covered by such insurance . \n",
       "  ( b ) xxmaj during the charter period , the vessel shall be kept insured by the contractors at their expense against protection and indemnity risks in such form as the charterers shall in writing approve which approval shall not be unreasonably withheld . xxmaj if the contractors fail to arrange and keep any of the xxunk provided for under the provisions of sub - clause ( b ) in the manner described therein , the xxmaj charterers shall notify xxmaj contractors whereupon the contractors shall rectify the position within seven running days . \n",
       "  ( c ) xxmaj in the event of any act or negligence on the part of the contractors which may vitiate any claim under the insurance herein provided , the contractor shall indemnify the xxmaj charterers against all claims and demands which would otherwise have been covered by such insurance . \n",
       "  12 . xxmaj the whole reach and burthen of the vessel , including lawful deck capacity to be at the xxmaj charterers ' disposal , reserving proper and sufficient space for the vessel 's master , xxmaj officers , xxmaj crew , xxunk , apparel , furniture , provisions and stores . \n",
       "  13 . xxmaj the vessel should have a set of competent and qualified xxmaj tug xxmaj master and xxmaj crew , as required by statutory regulation . \n",
       "  14 . ( a ) xxmaj the xxmaj master to execute the xxmaj charterer 's instructions with the utmost dispatch and to render customary assistance with the vessel 's crew . xxmaj the xxmaj master to be under the order of the xxmaj charterers as regards employment , agency , or other arrangements . xxmaj the xxmaj contractors to indemnify the xxmaj charterers against all consequences or liabilities arising from the xxmaj master , xxmaj officers , or xxmaj agents for their unlawful actions as well as from any irregularity in the vessel 's papers . \n",
       "  ( b ) xxmaj if the xxmaj charterers have the reason to be dissatisfied with the conduct or efficiency of the xxmaj master , xxmaj officer of the crew , the xxmaj contractors on 22 receiving particulars of the complaint , promptly investigate the matter and , if necessary , shall make a change in the appointment . xxmaj however , the xxmaj charterers shall have the right to demand the changes of any xxmaj master or other crew , which demand shall not be unreasonable . \n",
       "  15 . xxmaj the xxmaj charterer or their representatives will give tile xxmaj master all instructions in xxmaj english and the xxmaj master and xxeos\n",
       "y: CategoryList\n",
       "CRIMINAL,CIVIL,CIVIL,CIVIL,CIVIL\n",
       "Path: /content/drive/My Drive/Colab Notebooks/Judgements;\n",
       "\n",
       "Valid: LabelList (954 items)\n",
       "x: TextList\n",
       "xxbos xxup r. xxup banumathi , xxup j. \n",
       " \n",
       "  xxmaj leave granted . \n",
       "  2 . xxmaj this appeal arises out of the judgment dated 25.07.2012 passed by xxmaj kerala xxmaj high xxmaj court at xxmaj ernakulam allowing xxmaj criminal xxmaj revision xxmaj petition xxmaj xxunk of 2008 preferred by respondent no.1 herein thereby setting aside the acquittal of the appellant - accused no.1 for the offences punishable under xxmaj section 302 xxup ipc and xxmaj section 394 xxup ipc read with xxmaj section 34 xxup ipc and further remitting the matter back to the trial xxmaj court for retrial . \n",
       "  xxmaj signature xxmaj not xxmaj verified xxmaj digitally signed by \n",
       "  3 . xxmaj briefly stated case of the prosecution is that , the xxup asha xxup sundriyal xxmaj date : xxunk xxunk xxup ist deceased - xxmaj xxunk was sixty three years old widow and used to stay xxmaj reason : \n",
       "  xxmaj page xxmaj no . 1 of 11 alone in her house which was situated in five acres of agricultural land . xxmaj natarajan , father of accused no.1 used to stay in the same house where xxmaj xxunk was staying . xxmaj he was a permanent employee of xxmaj xxunk . xxmaj respondent xxunk xxmaj cheriyan , son of the deceased , for some reasons , directed xxmaj natarajan not to stay in the house and therefore , xxmaj natarajan discontinued his employment . xxmaj thereafter , for helping the deceased in agricultural work , the appellant - accused no.1 started staying with the deceased in her house . xxmaj on xxunk in the midnight , sister - in - law of deceased who was staying at a distance of 50 meters from the house of the deceased , heard cries from the house of deceased . xxmaj on hearing the cries of deceased , sister - in – law of deceased got xxunk her son xxmaj cheriyan @ xxmaj xxunk ( xxup pw-1 ) . xxmaj then , xxup pw-1 went to the house of deceased and asked the appellant - accused no.1 to open the door of the kitchen ; but the appellant - accused no.1 told him that he being tied with rope could not open the door and asked xxup pw-1 to take entry from the front door . xxup pw-1 , on entering the house from front door , found the deceased lying in unconscious state in the front room of the house and the appellant - accused no.1 being tied with rope in the kitchen . xxmaj the appellant - accused no.1 told xxup pw-1 that five xxunk had entered the house and after xxunk the xxmaj page xxmaj no . 2 of 11 deceased took away all the valuable gold ornaments and cash from the house . xxup pw-1 informed about the incident to respondent xxunk xxmaj cheriyan , eldest son of the deceased , and then they took the deceased to the xxmaj st. xxmaj john xxmaj hospital , xxmaj xxunk where she was declared dead . xxmaj at about 04.00 a.m. , xxup pw-1 went to xxmaj xxunk police station and his statement ( xxmaj ex . xxup p1 ) was recorded by xxunk - xxmaj inspector of xxmaj police , on the basis of which , case in xxmaj crime xxmaj no . 49 of 2006 was registered against five identifiable persons under xxmaj section 396 xxup ipc . \n",
       "  4 . xxmaj after registration of xxup fir , the xxmaj inspector of xxmaj police , during investigation prepared the spot panchnama ( scene mahazar ) and also taken the finger prints from the scene of crime . xxmaj the appellant - accused no.1 was arrested on 07.02.2006 at xxunk p.m. who gave a disclosure statement ; based on which , accused no.2 was located and arrested on the same day at 08.00 p.m. xxmaj confession statement of accused no.2 led to recovery of gold ornaments , currency notes and shawl which was used to xxunk the deceased , from the house of accused no.2 . xxmaj also , the grey hair found on the shawl were preserved for further investigation . xxmaj the post - mortem report disclosed that death of the deceased was caused due to smothering . xxmaj after completion of the xxmaj page xxmaj no . 3 of 11 investigation , charge - sheet was filed against the appellant - accused no.1 under xxmaj section 394 xxup ipc and xxmaj section 302 xxup ipc read with xxmaj section 34 xxup ipc . \n",
       "  5 . xxmaj the trial court convicted accused no.2 under xxmaj sections 302 and 394 xxup ipc inter alia on the following grounds:- a ) presence of accused no.1 has been confirmed in the house of the deceased due to the fact that finger prints of the accused were found on the objects recovered from the place of crime ; b ) ornaments of the deceased and the currency notes were recovered from the house of accused no.2 ; c ) recovery of shawl which was used in the commission of offence containing hair of the deceased , from the house of accused no.2 ; and \n",
       "  d ) that accused no.2 was in dire need of money to pay back his debts . xxmaj the trial court has acquitted the appellant - accused no.1 holding that the disclosure statement given by the appellant regarding involvement of accused no . 2 and location of the house of accused no.2 , are not sufficient grounds to establish the guilt of appellant . xxmaj the trial court held that the chance finger prints of the appellant - accused no.1 collected from the place of occurrence was immaterial as he was working as domestic help in the house of deceased . xxmaj page xxmaj no . 4 of 11 \n",
       "  6 . xxmaj being aggrieved by acquittal of appellant , respondent xxunk son of the deceased filed a criminal revision challenging the acquittal of the appellant - accused no.1 . xxmaj accused no.2 also filed a criminal appeal before the xxmaj high xxmaj court challenging his conviction and sentence . \n",
       "  7 . xxmaj the xxmaj high xxmaj court held that the trial court has committed irregularity in omitting to frame charges under xxmaj section 34 xxup ipc , even though the trial court itself has framed an issue on the point of sharing of common intention of accused nos.1 and 2 in committing robbery and murder of the deceased which has materially affected the trial . xxmaj the xxmaj high xxmaj court further held that the fingerprint expert who had prepared the report ( xxmaj ex . xxup p8 ) ought to have been examined before the trial court and non - examination of that witness has caused prejudice . xxmaj the xxmaj high xxmaj court has taken note of that the trial court has failed to evaluate the possibility of accused no.2 in committing the crime alone without the aid of the appellant and also that there was no injury on the appellant when he was found tied with the rope in the house of deceased . \n",
       "  8 . xxmaj we have heard learned counsel for the parties and perused the impugned judgment and materials on record . xxmaj the point falling for consideration is whether the xxmaj high xxmaj court was right in setting aside the xxmaj page xxmaj no . 5 of 11 judgment of the trial court and remitting the matter back to the trial court for retrial . \n",
       "  9 . xxmaj section 386 xxmaj cr . xxup p.c. defines the powers of the xxmaj appellate xxmaj court in dealing with the appeals . xxmaj the powers enumerated thereon are vested in all courts , whether the xxmaj high xxmaj court or subordinate courts , except that xxmaj clause ( a ) of the section is restricted to the powers of the xxmaj high xxmaj court only , since an appeal against an order of acquittal lies only to that court , while xxmaj clause ( b ) of the section is not so restricted and embraces all courts . xxmaj the power to direct the accused to be xxunk has been conferred on the xxmaj high xxmaj court not only when it deals with an appeal against acquittal but also when it deals with an appeal against conviction . xxmaj section 386 xxmaj cr . xxup p.c. reads as under:- \n",
       "  10 . xxmaj under xxmaj section xxunk ) and ( b)(i ) , the power to direct retrial has been conferred upon the xxmaj appellate xxmaj court when it deals either with an appeal against judgment of conviction or an appeal against acquittal ( xxmaj high xxmaj court ) . xxmaj there is a difference between the powers of an xxmaj appellate xxmaj court under xxmaj clauses ( a ) and ( b ) . xxmaj under xxmaj clause ( b ) , the xxmaj court is required to touch the finding and sentence , but under xxmaj clause \n",
       "  ( a ) , the xxmaj court may reverse the order of acquittal and direct that further enquiry be made or the accused may be xxunk or may find him guilty and pass sentence on him according to law . \n",
       "  11 . xxmaj normally , retrial should not be ordered when there is some infirmity rendering the trial defective . a retrial may be ordered when the original trial has not been satisfactory for particular reasons like ... , appropriate charge not framed , evidence wrongly rejected which could have been admitted or evidence admitted which could have been rejected etc . xxmaj retrial can not be ordered when there is a mere irregularity or where it does not cause any prejudice , the xxmaj appellate xxmaj page xxmaj no . 7 of 11 xxmaj court may not direct retrial . xxmaj the power to order retrial should be exercised only in exceptional cases . \n",
       "  12 . xxmaj in xxup k. xxmaj chinnaswamy xxmaj ready v. xxmaj state of xxmaj andhra xxmaj pradesh and xxmaj another , xxup air 1962 xxup sc 1788 , the accused had been convicted by the trial court . xxmaj the xxmaj sessions xxmaj court took the view that an important piece of evidence held against the accused was inadmissible and acquitted him . xxmaj the xxmaj high xxmaj court in revision by the de facto complainant held that the evidence held to be inadmissible by the xxmaj sessions xxmaj court was admissible and set aside the acquittal directing the accused to be xxunk on the same charges . xxmaj the xxmaj supreme xxmaj court agreed with the xxmaj high xxmaj court that the acquittal deserved to be set aside . xxmaj in para ( 7 ) , this xxmaj court has spelt out what could be termed as exceptional circumstances which reads as under:- \n",
       " \n",
       "  ( underlining added ) xxmaj the same principle was again reiterated in xxmaj mahendra xxmaj pratap xxmaj singh v. xxmaj sarju xxmaj singh and xxmaj another xxup air 1968 xxup sc 707 . \n",
       "  13 . xxmaj in xxmaj xxunk xxmaj singh and others v. xxmaj janardan xxmaj prasad , xxup air 1966 xxup sc 356 , accused was tried for offences under xxmaj sections 420 , 466 , 406 and 465 / 471 xxup ipc and acquitted . xxmaj the trial court did not frame charge under xxmaj section 467 xxup ipc regarding which there were prima facie materials available , that is an offence triable exclusively by the xxmaj sessions xxmaj court . xxmaj the xxmaj high xxmaj court , in appeal , set aside the acquittal and ordered retrial . xxmaj the xxmaj supreme xxmaj court dismissed the appeal preferred before it . xxmaj the court referred to earlier decisions in xxmaj xxunk xxmaj chandra xxmaj bose v. xxmaj bimal xxmaj krishna xxmaj sen and xxmaj another xxup air 1963 xxup sc 316 and xxmaj rajeshwar xxmaj prasad xxmaj misra v. xxmaj state of xxmaj west xxmaj bengal and xxmaj another xxup air xxmaj page xxmaj no . 9 of 11 1965 xxup sc 1887 with reference to the facts of those cases and emphasized that wide discretion available with the xxmaj appellate xxmaj court in ordering retrial . \n",
       "  14 . xxmaj in appeal against acquittal , in exceptional circumstances , the xxmaj high xxmaj court may set aside the order of acquittal even at the instance of private parties , though the xxmaj state may not have thought it fit for appeal . xxmaj but it is to be emphasized that this jurisdiction is to be exercised only in exceptional circumstances when there is glaring defect in the conduct of trial which has materially affected the trial or caused prejudice . xxmaj in the present case , the xxmaj high xxmaj court found that even though the trial court has framed an issue on the point of sharing of common intention of accused xxmaj nos . 1 and 2 in committing the offence , the omission to frame charges under xxmaj section 34 xxup ipc has materially affected the trial . xxmaj the xxmaj high xxmaj court further observed that the fingerprint expert who prepared xxmaj ex . xxup p8 ought to have been examined and other circumstances emerging out of evidence ought to have been examined by the trial court . xxmaj the xxmaj high xxmaj court further observed that because of the omission to frame the charges under xxmaj section 34 xxup ipc , in spite of framing the issue of common intention , the trial court has not examined the evidence in proper perspective , which according to the xxmaj page xxmaj no . 10 of 11 xxmaj high xxmaj court has materially affected the trial which is called for retrial . xxmaj the discretion exercised by the xxmaj high xxmaj court under xxmaj section 386 ( a ) xxmaj cr . xxup p.c. directing retrial with certain directions can not be said to be erroneous warranting interference . \n",
       "  15 . xxmaj in the result , the appeal is dismissed . xxmaj the trial court shall proceed with the matter as per the directions of the xxmaj high xxmaj court and dispose of the matter as expeditiously as possible . xxmaj no costs . \n",
       "  xxrep 5 . … … . xxrep 4 … ... … … … xxup j. \n",
       "  [ xxup ranjan xxup gogoi ] xxrep 4 . xxrep 5 … . xxrep 5 … xxup j. \n",
       "  [ xxup r. xxup banumathi ] xxmaj new xxmaj delhi ; \n",
       "  xxmaj january 23 , 2018 xxmaj page xxmaj no . 11 of 11 xxeos,xxbos of law . ” \n",
       "  20 . xxmaj in the said case , xxmaj section xxunk ) which provided for office of profit , read thus:­ “ xxunk ) : xxmaj no person shall be qualified to become a xxmaj councillor whether by election , xxunk or nomination , who is a subordinate officer or servant of xxmaj government or any local authority or holds an office of profit under xxmaj government or any local authority ; ” xxmaj it was contended before the xxmaj election xxmaj tribunal that the elected candidate was not entitled to become a councilor as he 27 held an office of profit under the xxmaj government . xxmaj to appreciate the concept of office of profit , this xxmaj court referred to xxmaj section 58 of the xxup esi xxmaj act , 1948 , xxup esi xxmaj scheme and opined that the elected candidate although was a private doctor and running a private clinic was also an insurance medical practitioner subject to the discipline , directions , obligations and control of the relevant officers appointed by the xxmaj state xxmaj government in implementing the medical benefit scheme . xxmaj his letter of appointment read that being a medical practitioner ‘ appointed as such to provide medical benefit under the xxmaj act and to perform such other functions as may be assigned to him ’ . \n",
       "  21 . xxmaj we may note with profit that in the said case , xxmaj krishna xxmaj iyer , xxup j. clarified the conflict between xxmaj mahadeo ( supra ) and xxmaj srimati xxmaj kanta xxmaj kathuria ( supra ) by stating thus:­ “ 41 . … xxmaj judicial technology sometimes distinguishes , sometimes demolishes earlier decisions ; the art is fine and its use skilful . xxmaj both the cases dealt with advocates and we have referred to them in the earlier resume of precedents . xxmaj even so , a closer look will disclose why we follow the larger xxmaj bench ( as we are bound to , even if there is a plain conflict between the two cases ) . xxmaj justice xxmaj rowlatt ’s locus classicus in xxmaj great xxmaj western xxmaj rly . xxmaj co. ( followed by this xxmaj court in many 28 cases ) helps us steer clear of logomachy about “ office ” especially since the xxmaj new xxmaj english xxmaj dictionary xxunk four columns . xxmaj rowlatt , xxup j. xxunk attention on a subsisting , permanent , substantive position , which had an existence independent from the person who filled it , which went on and was filled in succession by successive holders ’ . xxmaj so , the first step is to enquire whether “ a permanent , substantive position , which had an existence independent from the person who filled it ” can be postulated in the case of an insurance medical practitioner . xxmaj by contrast , is the post an ephemeral , ad hoc , provisional incumbency created , not independently but as a list or panel elastic and expiring or expanding , distinguished from a thing that survives even when no person had been appointed for the time being ? “ xxmaj thin partitions do their bounds divide ” , we agree , but the distinction , though delicate , is real . xxmaj an office of insurance medical practitioner can be xxunk up if it exists even where no doctor sits in the saddle and has duties attached to it qua office . xxmaj we can not equate it with the post of a peon or security xxunk who too has duties to perform or a workshop where government vehicles are repaired , or a milk vendor from an approved list who supplies milk to government hospitals . a panel of lawyers for legal aid to the poor or a body of doctors enlisted for emergency service in an epidemic outbreak charged with responsibilities and paid by the xxmaj government can not be a pile of offices of profit . xxmaj if this perspective be correct , xxmaj kanta and xxmaj mahadeo 29 fit into a legal scheme . xxmaj in the former , an ad hoc xxmaj assistant xxmaj government xxmaj pleader with duties and remuneration was held to fall outside “ office of profit ” . xxmaj it was a casual engagement , not exalted to a permanent position , occupied pro xxunk by a or xxmaj in xxup b. \n",
       "  xxmaj mahadeo , a permanent panel of lawyers “ maintained by the xxmaj railway xxmaj administration ” with special duties of a lasting nature constituted the offices of profit — more like standing counsel . … ” [ xxmaj emphasis supplied ] xxmaj we may hasten to say that we concur with the said harmonization as we find that it is founded on apposite reasoning and also in accord with the precedents holding the view as regards ‘ office of profit ’ . xxmaj be it noted , eventually , the xxmaj court ruled that the appellant therein a doctor functioning under the xxup esi xxmaj scheme was not holding an office of profit . \n",
       "  22 . xxmaj in xxmaj ashok xxmaj kumar xxmaj xxunk v. xxmaj ajoy xxmaj biswas and others10 , a three­judge xxmaj bench while dealing with the issue whether the respondent xxmaj no . 1 was disqualified for being elected as a member of the xxmaj house of xxmaj people as he held an office of profit under the xxmaj government of xxmaj tripura within the meaning of xxmaj article xxunk ) of the xxmaj constitution , for on the 10 ( 1985 ) 1 xxup scc 151 30 relevant date he was an xxmaj xxunk in­charge of the xxmaj agartala xxmaj municipality . xxmaj after referring to many an authority , the xxmaj court ruled that for determination of the question whether a person holds an office of profit under the xxmaj government , each case must be measured and judged in the light of the relevant provisions . xxmaj the xxmaj court further opined:­ “ 21 . … xxmaj local xxmaj authority as such or any other authority does not cease to become independent entity separate from xxmaj government . xxmaj whether in a particular case it is so or not must depend upon the facts and circumstances of the relevant provisions . xxmaj to make in all cases employees of xxmaj local xxmaj authorities subject to the control of xxmaj government , holders of office of profit under the xxmaj government would be to obliterate the specific differentiation made under xxmaj article xxunk ) of the xxmaj constitution and to extend disqualification under xxmaj article xxunk ) to an extent not warranted by the language of the article . ” xxmaj on the basis of the aforesaid , ultimately the three­judge xxmaj bench recorded its finding that the first respondent did not hold an office of profit under the xxmaj government of xxmaj tripura on the date of filing of the nomination . \n",
       " \n",
       "  23 . xxmaj in xxmaj shibu xxmaj xxunk v. xxmaj dayanand xxmaj sahay and others11 , a three­judge xxmaj bench , while dealing with the office of profit , opined that the expression \" office of profit \" has not been defined either in the xxmaj constitution or in the xxmaj representation of xxmaj people xxmaj act . xxmaj xxunk further , the xxmaj court proceeded to state that in common parlance , the expression ' profit ' connotes an idea of some pecuniary gain . xxmaj if there is really some gain , its label ­ ' honorarium ' ­ ' remuneration ' ­ ' salary ' is not material . xxmaj it is the substance and not the form which matters and even the quantum or amount of \" pecuniary gain \" is not relevant . xxmaj what needs to be found out is whether the amount of money receivable by the concerned person in connection with the office he holds , gives to him some \" pecuniary gain \" , other than as ' compensation ' to defray his out of pocket expenses , which may have the possibility to bring that person under the influence of the executive , which is conferring that benefit on him . xxmaj eventually , the xxmaj court held that:­ “ xxmaj the question whether a person holds an office of profit , as already noticed , is required to be interpreted in a realistic 11 ( 2001 ) 7 xxup scc 425 32 manner having regard to the facts and circumstances of each case and relevant statutory provisions . xxmaj while ' a strict and narrow construction ' may not be adopted which may have the effect of ' shutting off many prominent and other eligible persons to contest the elections ' but at the same time \" in dealing with a statutory provision which imposes a disqualification on a citizen it would be unreasonable to take merely a broad and general view and ignore the essential points \" . xxmaj the approach which appeals to us to interpret the expression \" office of profit \" is that it should be interpreted with the flavour of reality bearing in mind the object for enactment of xxmaj article xxunk ) namely to eliminate or in any event to reduce the risk of conflict between the duty and interest amongst members of the legislature by ensuring that the legislature does not have persons who receive benefits from the xxmaj executive and may thus be amenable to its influence . ” xxmaj the aforesaid passage emphasizes on the purpose of disqualification , the approach of the xxmaj court while appreciating the expression and to reduce the risk of conflict of interest between the duties and interest . \n",
       "  24 . xxmaj in xxmaj jaya xxmaj bachchan v. xxmaj union of xxmaj india and others12 , the issue arose whether the petitioner was holding an office of profit . xxmaj she was appointed as xxmaj chairman of the xxmaj uttar xxmaj pradesh 12 ( 2006 ) 5 xxup scc 266 33 xxmaj film xxmaj development xxmaj council and was entitled to certain benefits . xxmaj the xxmaj court analyzing the law enunciated in xxmaj xxunk xxmaj xxunk ( supra ) and xxmaj shibu xxmaj xxunk ( supra ) opined that it is well settled that where the office carries with it certain emoluments or the order of appointment states that the person appointed is entitled to certain emoluments , then it will be an office of profit , even if the holder of the office chooses not to receive / draw such emoluments . xxmaj what is relevant is whether pecuniary gain is \" receivable \" in regard to the office and not whether pecuniary gain is , in fact , received or received xxunk . \n",
       "  25 . xxmaj in the case at hand , the first respondent was treated as disqualified on the foundation that he was in service of the xxmaj government . xxmaj in this context , we may usefully refer to the letter of appointment issued by the xxmaj government of xxmaj bihar , xxmaj legal ( xxmaj justice ) xxmaj department to the xxmaj district xxmaj magistrate , xxmaj nalanda . xxmaj it reads as follows:­ \" xxmaj letter xxunk / xxup xxunk ) xxunk / 98 / xxunk / b xxmaj government of xxmaj bihar xxmaj legal ( xxmaj justice ) xxmaj department 34 xxmaj from xxmaj sri xxmaj birendra xxmaj singh , xxmaj joint xxmaj secretary to the xxmaj government , xxmaj bihar xxmaj to xxmaj district xxmaj magistrate , xxmaj nalanda , xxmaj xxunk xxmaj patna , xxmaj dated 18th xxmaj august , 2000 xxmaj sub . : xxmaj in relation to appointment of xxmaj assistant xxmaj government xxmaj advocate for the xxmaj court at xxmaj nalanda and xxmaj xxunk xxmaj sir , xxmaj in reference to your letter xxmaj no . xxunk dated xxunk on above mentioned subject and law xxmaj department xxmaj letter xxmaj no . xxunk dated xxunk as per direction i have to inform that the xxmaj state xxmaj government has been kind to appoint xxmaj sri xxmaj xxunk xxmaj prasad , xxmaj advocate on the post of xxmaj assistant xxmaj government xxmaj advocate in the panel of xxmaj assistant xxmaj government xxmaj advocates constituted for the xxmaj court at xxmaj nalanda and xxmaj xxunk . \n",
       "  xxmaj after this appointment the total number of xxmaj assistant xxmaj government xxmaj advocates in the xxmaj court of xxmaj nalanda would be 19 ( xxmaj nineteen ) and the total number of xxmaj assistant xxmaj government xxmaj advocates in the xxmaj court of xxmaj xxunk would be 4 ( four ) . \n",
       "  xxmaj faithfully yours , xxmaj sd / ­ xxmaj joint xxmaj secretary to the xxmaj govt . , xxmaj bihar \" \n",
       "  xxmaj analyzing the letter , the xxmaj election xxmaj commission has held that the elected candidate was holding a post under the xxmaj state xxmaj government and , therefore , he was disqualified under sub­ section ( xxunk ) of xxmaj section 139 of the xxmaj act . \n",
       "  26 . xxmaj on a careful scrutiny of the communication , it is quite vivid that the respondent xxmaj no . l was appointed to the post of xxmaj assistant xxmaj government xxmaj advocate in the panel of xxmaj assistant xxmaj government xxmaj advocates constituted for the courts at xxmaj nalanda and xxmaj xxunk . xxmaj there is no mention of any fixed remuneration . \n",
       "  27 . xxmaj in the obtaining factual score , would it be appropriate to accept the submission of the appellants that the elected candidate was in the service of the government . xxmaj the legislature has , in exercise of its legislative power and wisdom , not used the words “ office of profit ” . xxmaj therefore , whether such a letter of appointment can be construed to determine if the person is holding an office of profit is not necessary to be addressed although we have referred to certain authorities to appreciate the context and its fundamental purpose . xxmaj in the instant case , the election pertains to a xxmaj panchayat xxmaj samiti which basically 36 relates to the concept at the grass root level . xxmaj the legislature , as it seems to us , has not thought of office of profit because had it thought so it would have provided in that manner . xxmaj in xxmaj xxunk xxmaj ali ( supra ) , the legislature had provided a disqualification keeping in view the conflict of interest . xxmaj the absence of such a provision possibly is to include persons from different fields as long as they are not in service under the government or a service in an institution receiving aids from the xxmaj central or xxmaj state xxmaj government or any local authority . xxmaj the legislature , as the postulate stands today , has confined to categories of service mentioned hereinbefore . xxmaj it depends on the legislative wisdom . xxmaj it further needs to be stated that the nature of disqualification has to be strictly construed keeping in mind that right to contest an election is not a fundamental right but the said right may be curtailed under valid statutory provision . \n",
       "  28 . xxmaj the aforesaid being the position , we may presently focus on what constitutes a service . xxmaj in xxmaj state of xxmaj assam and others 37 v. xxmaj kanak xxmaj chandra xxmaj xxunk , xxmaj bachawat , xxup j. , speaking for the xxmaj constitution xxmaj bench , held that a person holding a post under a xxmaj state is a person serving or employed under the xxmaj state . xxmaj there is a relationship of master and servant between the xxmaj state and a person holding a post under it . xxmaj the existence of this relationship is indicated by the xxmaj state 's right to select and appoint the holder of the post , its right to suspend and dismiss him , its right to control the manner and method of his doing the work and the payment by it of his wages or remuneration . a relationship of master and servant may be established by the presence of all or some of these indicia , in conjunction with other circumstances and it is a question of fact in each case whether there is such a relation between the xxmaj state and the alleged holder of a post . \n",
       "  29 . xxmaj in this regard , reference to another xxmaj constitution xxmaj bench decision in xxmaj roshan xxmaj lal xxmaj tandon v. xxmaj union of xxmaj india14 would be apposite . xxmaj in the said case , it has been opined that the legal position of a xxmaj government servant is more one of status than a 13 xxup air 1967 xxup sc 884 14 xxup air 1967 xxup sc 1889 38 contract . xxmaj the xxunk of status is the attachment to legal relationship of rights and duties imposed by the public law and not by mere agreement by the parties . xxmaj the duties of status are fixed by the law and status is a condition of membership of a group of which powers and duties are exclusively determined by law and not by agreement between the parties concerned . xxmaj as is evincible , emphasis was given on the status in contradistinction to contractual service . \n",
       "  30 . xxmaj learned counsel appearing for the xxmaj commission , has placed heavy reliance on xxmaj kumari xxmaj shrilekha xxmaj vidyarthi and others v. xxmaj state of xxup u.p. and others15 . xxmaj in the said case , the xxmaj government of the xxmaj state of xxup u.p. had terminated by a general order the appointments of all xxmaj government xxmaj counsel ( xxmaj civil , xxmaj criminal , xxmaj revenue ) in all the districts of the xxmaj state of xxup u.p. xxmaj the xxmaj high xxmaj court had upheld the circular by which the order was passed . xxmaj in appeal , by special leave , the xxmaj court dealt with two contentions , namely , the nature of appointments and the minimum basis of status attached to those appointments . xxmaj for 15 ( 1991 ) 1 xxup scc 212 39 the purpose of examination whether the ground of arbitrariness was available to vitiate the circular , the xxmaj court referred to the xxmaj legal xxmaj remembrancer 's xxmaj manual and especially paragraphs 7.06 to xxunk which deals with appointment and renewal of local practitioners finally selected by the government . xxmaj the said paragraph deals with the term , tenure , bar on political activity , renewal of term and character roll . \n",
       "  31 . xxmaj relying on the same and other aspects , the xxmaj court held:­ \" xxmaj the above provisions in the xxup l.r. xxmaj manual clearly show that the xxmaj government xxmaj counsel in the districts are treated as xxmaj law xxmaj officers of the xxmaj state who are holders of an ' office ' or ‘ post ' . xxmaj the aforesaid provisions in xxmaj chapter xxup vii relating to appointment and conditions of engagement of xxmaj district xxmaj government xxmaj counsel show that the appointments are to be made and ordinarily renewed on objective assessment of suitability of the person based on the opinion of the xxmaj district xxmaj officer and the xxmaj district xxmaj judge ; and character roll is maintained for keeping a record of the suitability of the appointee to enable an objective assessment for the purpose of his continuance as a xxmaj law xxmaj officer in the district . xxmaj there are provisions to bar private practice and participation in political activity by xxunk . xxmaj apart from clause 3 of para 7.06 to which we shall advert a little later , these provisions clearly indicate that the 40 appointment and engagement of xxmaj district xxmaj government xxmaj counsel is not the same as that by a private litigant of his counsel and there is obviously an element of continuity of the appointment unless the appointee is found to be unsuitable either by his own work , conduct or age or in comparison to any more suitable candidate available at the place of appointment . xxmaj suitability of the appointee being the prime criterion for any such appointment , it is obvious that appointment of the best amongst those available , is the object sought to be achieved by these provisions , which , even otherwise , should be the paramount consideration in discharge of this governmental function aimed at promoting public interest . xxmaj all xxmaj govt . xxmaj counsel are paid remuneration out of the public exchequer and there is a clear public element attaching to the ' office ' or ' post ' . \" xxmaj after so stating , the xxmaj court referred to xxmaj sections 24 and 321 of the xxmaj code of xxmaj criminal xxmaj procedure and further analyzed the ratio in xxmaj xxunk xxmaj prasad xxmaj singh v. xxmaj state of xxmaj xxunk and xxmaj mukul xxmaj dalal and others v. xxmaj union of xxmaj india and others17 and came to hold that the office of the xxmaj public xxmaj prosecutor is a public one and the primacy given to the xxmaj public xxmaj prosecutor under the scheme of xxmaj code has a social purpose . 16 ( 1979 ) 4 xxup scc 701 17 ( 1988 ) 3 xxup scc 144 41 \n",
       "  32 . xxmaj in this regard , we may reproduce a passage from the said authority which is as follows:­ “ xxmaj we are , therefore , unable to accept the argument of the learned xxmaj additional xxmaj advocate xxmaj general that the appointment of xxmaj district xxmaj government xxmaj counsel by the xxmaj state xxmaj government is only a professional engagement like that between a private client and his lawyer , or that it is purely contractual with no public element attaching to it , which may be terminated at any time at the sweet will of the xxmaj government excluding judicial review . xxmaj we have already indicated the presence of public element attached to the ` office ' or ` post ' of xxmaj district xxmaj government xxmaj counsel of every category covered by the impugned circular . xxmaj this is sufficient to attract xxmaj article 14 of the xxmaj constitution and bring the question of validity of the impugned circular within the scope of judicial review . ” \n",
       "  33 . xxmaj eventually , the xxmaj court analyzing the test of xxmaj article 14 , opined:­ “ xxmaj in our opinion , the wide sweep of xxmaj article 14 undoubtedly takes within its fold the impugned circular issued by the xxmaj state of xxup u.p. in exercise of its executive power , irrespective of the precise nature of appointment of the xxmaj government xxmaj counsel in the districts and the other rights , contractual or statutory , which the appointees may have . xxmaj it is for this reason that we base our decision on the ground 42 that independent of any statutory right , available to the appointees , and assuming for the purpose of this case that the rights flow only from the contract of appointment , the impugned circular , issued in exercise of the executive power of the xxmaj state , must satisfy xxmaj article 14 of the xxmaj constitution and if it is shown to be arbitrary , it must be struck down . xxmaj however , we have referred to certain provisions relating to initial appointment , termination or renewal of tenure to indicate that the action is controlled at least by settled guidelines , followed by the xxmaj state of xxup u.p. , for a long time . xxmaj this too is relevant for deciding the question of arbitrariness alleged in the present case . ” xxmaj the aforesaid passages clearly show that the xxmaj court went by the concept of public element attached to the office or post of xxmaj government xxmaj pleader . xxmaj it has not expressed the opinion that they are under the xxmaj government service . xxmaj be that as it may , as has been held by the learned xxmaj single xxmaj judge and rightly so , there is no xxunk relationship and the respondent was not amenable to any disciplinary proceeding . xxmaj he has correctly expressed the view that the conduct of the advocate is subject to the discipline of the xxmaj bar xxmaj council . xxmaj as we notice , there is nothing on record to show that he was getting any remuneration . xxmaj even if some remuneration is attached to the 43 office , he can not be treated to be under the service of the xxmaj state xxmaj government . xxmaj the aspects which are essential for establishing a relationship of master and servant are absent . xxmaj therefore , the returned candidate could not have been treated to be in service under the xxmaj state xxmaj government . \n",
       "  34 . xxmaj in view of the premised reasons , we do not find any substance in the appeal and the same is , accordingly , dismissed . xxmaj in the facts and circumstances of the case , there shall be no order as to costs . \n",
       "  xxrep 11 … xxup cji . \n",
       "  ( xxmaj dipak xxmaj misra ) xxrep 11 … ... xxup j. \n",
       "  ( xxup a.m. xxmaj khanwilkar ) xxrep 11 … ... xxup j. xxeos,xxbos xxup r. xxup banumathi , xxup j. \n",
       " \n",
       "  xxmaj leave granted . \n",
       "  2 . xxmaj being aggrieved by the judgment and order dated 29.05.2013 passed by the xxmaj high xxmaj court of xxmaj allahabad in xxmaj second xxmaj appeal xxmaj no . 641 of 2013 , in which the xxmaj high xxmaj court has dismissed the appeal preferred by the appellant and thereby declining to dissolve the marriage . \n",
       "  3 . xxmaj the appellant and the respondent were married on xxunk . a girl child was born out of the said wedlock and she is now aged about 18 years . xxmaj due to strained relationship , the parties are living separately . xxmaj the appellant - husband has filed a suit for dissolution of marriage xxmaj signature xxmaj not xxmaj verified before the xxmaj family xxmaj court , xxmaj mumbai , which was xxmaj digitally signed by xxup madhu xxup bala xxmaj date : 2019.05.06 xxunk xxup ist xxmaj reason : subsequently transferred to xxmaj etawah xxmaj district xxmaj court , xxmaj uttar xxmaj pradesh . xxmaj the xxmaj trial xxmaj court dismissed the divorce petition filed by the appellant by judgment dated xxunk . xxmaj the 2 appeal preferred by the appellant was also dismissed by the xxmaj district xxmaj court by the judgment dated xxunk . xxmaj the xxmaj high xxmaj court also dismissed the second appeal preferred by the appellant - husband . xxmaj being aggrieved , the appellant is before us . \n",
       "  4 . xxmaj we have heard xxmaj mr. xxmaj ashok xxmaj mathur , learned counsel appearing on behalf of the appellant as well as xxmaj mr. xxmaj rajesh xxmaj aggarwal , learned counsel appearing on behalf of the respondent . \n",
       "  5 . xxmaj when the matter was pending before this xxmaj court , the parties were referred to mediation and the parties have amicably settled the matter . xxmaj the parties have also filed a separate application agreeing for dissolution of marriage by mutual consent invoking the powers under xxmaj article 142 of xxmaj constitution of xxmaj india . xxmaj as per the settlement between the parties , the appellant - husband has agreed to pay xxmaj rs.10,00,000 / - ( xxmaj rupees ten lakhs ) to the respondent - wife ( paid today by way of post - dated cheque xxmaj no . xxunk drawn in favour of respondent - wife viz . xxmaj neelam xxmaj singh dated 11th xxmaj may , 2019 drawn on xxmaj bank of xxmaj baroda ) in full and final settlement of her claims towards monthly maintenance past , present and future and in full quit of all other claims . xxmaj additionally , the appellant has agreed to pay xxmaj rs.3,00,000 / - by way of xxup fdr in the name of the daughter payable within a period of three months from today . xxmaj he has also agreed to contribute another one lakh at the time of solemnization of the marriage of the daughter . xxmaj the parties have also agreed that all the pending 3 cases between the parties shall be withdrawn or they will agree for quashing the respective cases . \n",
       "  6 . xxmaj since the parties have amicably settled the matter , considering the facts and circumstances of the case , in exercise of our power under xxmaj article 142 of the xxmaj constitution of xxmaj india , the marriage of the appellant and the respondent solemnized on xxunk is dissolved . xxmaj the following terms of xxmaj compromise between the parties shall form part of this judgment which reads as under : \n",
       "  8 . xxmaj in case of non - compliance of the terms of compromise , 5 the parties would be liable for contempt of this xxmaj court in addition to other remedies available under law . \n",
       "  9 . xxmaj the xxmaj registry shall draft the decree accordingly . \n",
       "  10 . xxmaj the appeal is disposed of in above terms . \n",
       "  xxrep 17 … .. xxup j. \n",
       "  [ xxup r. xxup banumathi ] xxup new xxup delhi xxrep 16 … ... xxup j. xxeos,xxbos 431 will apply to xxmaj section 421(1 ) as well , despite the fact that the last part of the proviso to xxmaj section 421(1 ) makes a reference only to an order for payment of expenses or compensation out of a fine , which would necessarily refer only to xxmaj section 357(1 ) and not 357(3 ) . xxmaj despite this being so , so long as compensation has been directed to be paid , albeit under xxmaj section 357(3 ) , xxmaj section 431 , xxmaj section 70 xxup ipc and xxmaj section 421(1 ) proviso would make it clear that by a legal fiction , even though a default sentence has been suffered , yet , compensation would be recoverable in the manner provided under xxmaj section 421(1 ) . xxmaj this would , however , be without the necessity for recording any special reasons . xxmaj this is because xxmaj section 421(1 ) proviso contains the disjunctive “ or ” following the recommendation of the xxmaj law xxmaj commission , that the proviso to old xxmaj section 386(1 ) should not be a bar to the issue of a warrant for levy of fine , even when a sentence of imprisonment for default has been fully undergone . xxmaj the last part inserted into the proviso to xxmaj section 421(1 ) as a result of this recommendation of the xxmaj law xxmaj commission is a category by itself which applies to compensation payable out of a fine under xxmaj section 357(1 ) and , by applying the fiction contained in xxmaj section 431 , to compensation payable under xxmaj section 357(3 ) . \n",
       "  28 . xxmaj as is well known , a legal fiction is not to be extended beyond the purpose for which it is created or beyond the language of the section by which it is created . xxmaj for example , see xxmaj prakash xxup h. xxmaj jain v. xxmaj marie xxmaj fernandes , ( 2003 ) 8 xxup scc 431 at 438 . xxmaj however , once the purpose of the legal fiction is ascertained , full effect must be given , and it should be carried to its logical conclusion . xxmaj this is clear from the celebrated passage in xxmaj east xxmaj end xxmaj dwelling xxmaj co. xxmaj ltd. v. xxmaj finsbury xxmaj borough xxmaj council , 1951 ( 2 ) xxmaj all xxup er 587 at 589 : \n",
       "  “ if you are bidden to treat an imaginary state of affairs as real , you must surely , unless prohibited from doing so , also imagine as real the consequences and incidents which , if the putative state of affairs had in fact existed , must inevitably have flowed from or accompanied it . xxmaj one of those in this case is emancipation from the 1939 level of rents . xxmaj the statute says that you must imagine a certain state of affairs ; it does not say that having done so , you must cause or permit your imagination to boggle when it comes to the inevitable corollaries of that state of affairs ” . \n",
       "  29 . xxmaj the legal fiction enacted under xxmaj section 431 is not limited to “ the purpose of this xxmaj act ” unlike xxmaj section xxup 6a of the xxmaj central xxmaj sales xxmaj tax xxmaj act , as was the case in xxmaj ashok xxmaj leyland xxmaj limited v. xxmaj state of xxmaj tamil xxmaj nadu , ( 2004 ) 3 xxup scc 1 at para xxunk . xxmaj thus it is clear that the object of the legal fiction created by xxmaj section 431 is to extend for the purpose of recovery of compensation until such recovery is completed - and this would necessarily take us not only to xxmaj section 421 of the xxmaj cr . xxup p.c. but also to xxmaj section 70 of the xxmaj penal xxmaj code , a companion criminal statute , as has been held above . \n",
       "  30 . xxmaj this being the case , we uphold the conclusion of the judgment dated 8th xxmaj august , 2012 of the xxmaj division xxmaj bench of the xxmaj kerala xxmaj high xxmaj court but for the reasons given in this judgment . xxmaj the appeals are dismissed accordingly . \n",
       "  xxrep 12 … .. xxup j. \n",
       "  ( xxup r.f. xxup nariman ) … . xxrep 11 … xxup j. \n",
       "  ( xxup navin xxup sinha ) xxmaj new xxmaj delhi ; \n",
       "  xxmaj may 5 , 2017 . xxeos,xxbos production ; ( iii ) xxmaj dump mining ; ( iv ) xxmaj intersecting ground water table and drawal of ground water without permission of the xxmaj central xxmaj ground xxmaj water xxmaj board ; ( v ) xxmaj no forest clearance obtained where required ; ( vi ) xxmaj encroachment and false information / concealment of fact . xxmaj it was stated that the moef had decided to refer the cases to the appropriate authorities ( including the xxmaj state xxmaj government ) for taking action on the violations . xxmaj accordingly , a request was made to examine the report of the xxup eac and take appropriate action against the concerned lessees . \n",
       "  32 . xxmaj the second order passed on 20th xxmaj march , 2015 was an xxmaj office xxmaj memorandum to the effect that if a project proponent has a valid and subsisting environmental clearance for a mining project under the xxmaj environment xxmaj impact xxmaj assessment xxmaj notification of 27th xxmaj january , 1994 ( xxup eia xxup s.l.p. ( c ) xxmaj no . 32138 of 2015 etc . xxmaj page 24 of 101 1994 ) or xxmaj environment xxmaj impact xxmaj assessment xxmaj notification of 14th xxmaj september , 2006 ( xxup eia 2006 ) , it will not be required to obtain a fresh environmental clearance at the time of renewal of the mining lease . xxmaj this was subject to the maximum period of validity of 30 years for the environmental clearance for a mining lease . \n",
       "  33 . xxmaj the third order passed on 20th xxmaj march , 2015 related to lifting the abeyance order dated 14th xxmaj september , 2012 on the environmental clearance of the mining leases for iron ore and manganese ore . xxmaj the cases of all 139 mining leases in which the abeyance order was passed were considered and the abeyance order lifted in respect of 72 cases . xxmaj the details in this regard are given in the table below : \n",
       "  xxmaj abeyance order lifted on 20th xxmaj march , 2015 for 72 mines out of 139 \n",
       "  34 . xxmaj the third order of 20th xxmaj march , 2015 also placed certain additional specific conditions while lifting the abeyance order . xxmaj these additional conditions were : \n",
       "  xxmaj questions for consideration \n",
       "  35 . xxmaj broadly speaking , on the basis of the submissions and documents placed before us , the questions raised by the xxmaj goa xxmaj foundation , the xxmaj state of xxmaj goa , the xxmaj union of xxmaj india and the mining lease holders are three - fold : \n",
       "  ( a ) xxmaj relatable to the second renewal of the mining leases : ( i ) xxmaj in view of the decision in xxmaj goa xxmaj foundation only fresh leases were to be granted by the xxmaj state of xxmaj goa and not second renewals . ( ii ) xxmaj for granting fresh leases , the xxmaj state of xxmaj goa should have introduced competitive bidding or the auction process . \n",
       "  ( iii ) xxmaj assuming the decision to grant a second renewal to the mining lease holders was valid , the second renewals were not in accordance with law and should be set aside . \n",
       "  ( b ) xxmaj relatable to the grant of environmental clearances : xxmaj in view of the decision in xxmaj goa xxmaj foundation fresh environmental clearances were required to be obtained by the mining lease holders . \n",
       "  ( c ) xxmaj the impugned judgment and order passed by the xxmaj high xxmaj court in xxmaj lithoferro on 13th xxmaj august , 2014 was erroneous and deserves to be set aside . xxmaj whether fresh mining leases were required to be granted ? \n",
       "  36 . xxmaj the controversy in this regard has arisen in view of what is stated in paragraph 82 of the decision in xxmaj goa xxmaj foundation . xxmaj it was stated as follows : xxup s.l.p. ( c ) xxmaj no . 32138 of 2015 etc . xxmaj page 27 of 101 “ xxmaj as we have held that the deemed mining leases of the lessees in xxmaj goa expired on 22 - 11 - 1987 and the maximum period ( 20 years ) of renewal of the deemed mining leases in xxmaj goa has also expired on 22- 11 - 2007 , mining by the lessees in xxmaj goa after 22 - 11 - 2007 was illegal . xxmaj hence , the xxmaj order dated 10 - 9 - 2012 of the xxmaj government of xxmaj goa suspending mining operations in the xxmaj state of xxmaj goa and the xxmaj order dated 14 - 9 - 2012 of moef , xxmaj government of xxmaj india , suspending the environmental clearances granted to the mines in the xxmaj state of xxmaj goa , which have been impugned in the writ petitions in the xxmaj bombay xxmaj high xxmaj court , xxmaj goa xxmaj bench ( transferred to this xxmaj court and registered as transferred cases ) can not be quashed by this xxmaj court . xxmaj the xxmaj order dated xxunk of the xxmaj government of xxmaj goa and the xxmaj order dated 14.9.2012 of the moef will have to continue till decisions are taken by the xxmaj state xxmaj government to grant fresh leases and decisions are taken by moef to grant fresh environmental clearances for mining projects . ” [ xxmaj emphasis supplied by us ] . \n",
       "  37 . xxmaj the issue that arose for discussion before us was the meaning and intention of the xxmaj court in the context of grant of „ fresh xxunk for mining projects . xxmaj did the xxmaj court literally mean that a fresh mining lease was required to be granted or was a second renewal sufficient compliance ? \n",
       "  38 . xxmaj as the above quoted paragraph indicates , the xxmaj court was aware and conscious of the fact that the mining leases had expired on 22nd xxmaj november , 2007 and the mining operations thereafter carried out by the mining lease holders was illegal . xxmaj for this reason , the xxmaj court held that the suspension order passed by the xxmaj state of xxmaj goa on 10th xxmaj september , 2012 and the abeyance order passed by the moef on 14th xxmaj september , 2012 did not require any interference . \n",
       "  xxup s.l.p. ( c ) xxmaj no . 32138 of 2015 etc . xxmaj page 28 of 101 \n",
       "  39 . xxmaj since the mining operations carried out after 22nd xxmaj november , 2007 were illegal , the xxmaj court , in subsequent paragraphs of the judgment noted ( as a follow up ) that an order was passed on 5th xxmaj october , 2012 suspending transportation of iron ore and manganese ore from those leases identified by the xxmaj justice xxmaj shah xxmaj xxunk xxmaj thereafter on 11th xxmaj november , 2013 it was directed that an inventory be made of the excavated mineral ores and the xxunk mineral ores be sold by e - auction under the supervision of a xxmaj monitoring xxmaj xxunk \n",
       "  40 . xxmaj further , it was held by the xxmaj court on 21st xxmaj april , 2014 that from the e- auction sale of the mineral ores , the mining lease holders would be entitled to the average cost ( not the actual cost ) of extraction , the workers would be entitled to 50 % wages and allowances on the principle of laid - off compensation and the xxmaj xxunk xxmaj port xxmaj trust would be entitled to 50 % of the storage charges . xxmaj out of the balance amount , 10 % would be appropriated to the xxmaj goan xxmaj iron xxmaj ore xxmaj permanent xxmaj fund for the purpose of sustainable development and intergenerational equity and the remaining amount would be appropriated by the xxmaj state who is the owner of the mineral ores illegally excavated by the mining lease holders and sold by e - auction . \n",
       "  9 th xxmaj goa xxmaj foundation v. xxmaj union of xxmaj india , xxup wp ( c ) 435 of 2012 – order dated 5 xxmaj october , 2012 10 xxmaj goa xxmaj foundation v. xxmaj union of xxmaj india , ( 2014 ) 6 xxup scc 738 xxup s.l.p. ( c ) xxmaj no . 32138 of 2015 etc . xxmaj page 29 of 101 xxmaj with this in mind , the xxmaj court declared in paragraph 87.5 of the xxmaj report : \n",
       " \n",
       "  xxmaj it was then directed by the xxmaj court in paragraph xxunk of the xxmaj report as follows : \n",
       "  41 . xxmaj the xxmaj court was quite obviously aware that it was concerned , inter alia , with the second renewal of mining leases and yet it chose to recount the factual situation , make a declaration and pass a direction without adverting to the possibility of a second renewal of a mining lease . xxmaj the xxmaj court was also conscious that the mining lease holders had carried out indiscriminate and illegal mining for about five years ( from xxmaj november 2007 to xxmaj september 2012 ) and had made profits out of the illegal mining . xxmaj the xxmaj court , in our opinion , was rather charitable in not penalizing the mining lease holders for the illegal mining carried out by them . xxmaj but be that as it may , quite clearly , the sequence of events from xxmaj september 2012 onwards , the appointment of a xxup s.l.p. ( c ) xxmaj no . 32138 of 2015 etc . xxmaj page 30 of 101 xxmaj monitoring xxmaj committee to dispose of the illegally mined ore , the declaration and direction unmistakably point to the intention of the xxmaj court to end the sordid chapter of illegal mining by the lease holders and start on a clean slate . xxmaj viewed in this perspective , we have no doubt that the xxmaj court really did intend the xxmaj state of xxmaj goa to consider the grant of fresh leases in accordance with law . \n",
       "  42 . xxmaj in this context , the declaration of the xxmaj court in xxmaj goa xxmaj foundation in paragraph 87.5 of xxmaj report is also quite clear , namely , “ xxmaj it is for the xxmaj state xxmaj government to decide as a matter of policy in what manner mining leases are to be granted in future … . ” xxmaj the declaration was explicit and related to the grant of mining leases and not a second renewal . \n",
       "  43 . xxmaj similarly , the direction given in paragraph xxunk of the xxmaj report that “ xxmaj the xxmaj state xxmaj government may grant mining leases of iron ore and other ores in xxmaj goa in accordance with its policy decision … .. ” was equally explicit and related to the grant of mining leases and not a second renewal . \n",
       "  44 . xxmaj subsequent events confirm our impression and view . xxmaj the decision of the xxmaj court to e - auction the mined mineral ore was sought to be recalled through xxup i.a. xxmaj no . 86 of 2014 filed by m / s xxmaj xxunk xxmaj brothers xxmaj private xxmaj ltd. xxmaj the applicant prayed for a direction to restrain the authorities from e- auctioning the iron ore mined by it prior to 22nd xxmaj november , 2007 and that xxup s.l.p. ( c ) xxmaj no . 32138 of 2015 etc . xxmaj page 31 of 101 the mined ore should be released to the applicant with the right to dispose of the same . a xxmaj bench of three learned judges ( other than those that decided xxmaj goa xxmaj foundation ) noted that : “ xxmaj the submissions advanced on behalf of the applicant were premised merely on the assertion , that the mineral ore which the applicant was claiming a right over , had been legitimately mined before xxunk , and therefore , the applicant had an absolute and legitimate ownership over the same . xxmaj we may note , that the above position was emphasized , stressed and persistently reiterated to make the stand absolutely crystal clear . ” xxmaj the learned judges considered the submissions and held by an order dated 14th xxmaj october , 2014 that the direction in xxmaj goa xxmaj foundation was clear and categorical that the iron ore vested in the xxmaj state xxmaj government and therefore the application deserved dismissal . xxmaj in other words , the mining lease holders deserved no latitude for the illegal mining and all issues needed to be dealt with strictly . \n",
       "  45 . xxmaj there is additional material to support the view that the xxmaj court had intended the xxmaj state of xxmaj goa to grant fresh mining leases rather than grant a second renewal . \n",
       "  46 . xxmaj from a reading of the decision rendered by the xxmaj bombay xxmaj high xxmaj court in xxmaj lithoferro ( subject matter of xxup slp ( c ) xxmaj no . 32138 of 2015 and xxup slp ( c ) xxmaj nos . 32699 - 32727 of 2015 ) it is evident that the xxmaj state of xxmaj goa understood the xxup s.l.p. ( c ) xxmaj no . 32138 of 2015 etc . xxmaj page 32 of 101 decision of this xxmaj court in xxmaj goa xxmaj foundation to mean that fresh mining leases were required to be granted on the basis of a policy yet to be framed by the xxmaj state of xxmaj goa and the issue of second renewals did not survive consideration . xxmaj the contention of the learned xxmaj advocate xxmaj general of the xxmaj state of xxmaj goa in this regard is recorded by the xxmaj high xxmaj court in the following words : \n",
       "  47 . xxmaj while considering the submissions of the learned xxmaj advocate xxmaj general and learned counsel , the xxmaj high xxmaj court noted that this xxmaj court was alive to the xxup s.l.p. ( c ) xxmaj no . 32138 of 2015 etc . xxmaj page 33 of 101 fact that the xxmaj state of xxmaj goa had granted in - principle second renewal to 28 mining leases and had collected renewal fees or stamp duty from 27 mining leases ( presumably out of the 28 mining leases ) as stated in the brief resume filed by the xxmaj state of xxmaj goa in this xxmaj court . xxmaj the xxmaj high xxmaj court noted : \n",
       "  48 . xxmaj in other words , notwithstanding the in - principle grant of second renewal of 28 mining leases and collection of renewal fees or stamp duty , this xxmaj court in xxmaj goa xxmaj foundation consciously required the xxmaj state of xxmaj goa to grant fresh leases . xxmaj what is equally significant is that the xxmaj state of xxmaj goa also understood the decision of the xxmaj court in the same manner and intended to act on that basis . \n",
       "  49 . xxmaj unfortunately , the xxmaj state of xxmaj goa was overtaken by events in that the xxmaj high xxmaj court delivered its judgment in xxmaj lithoferro on 13th xxmaj august , 2014 and while doing so , it misunderstood or incorrectly appreciated the decision of this xxmaj court in xxmaj goa xxmaj foundation and disagreed with the view of the xxmaj state of xxup s.l.p. ( c ) xxmaj no . 32138 of 2015 etc . xxmaj page 34 of 101 xxmaj goa . xxmaj while this xxmaj court had required the xxmaj state of xxmaj goa to grant fresh mining leases and the xxmaj state of xxmaj goa was willing to comply with this direction , the xxmaj high xxmaj court instead directed it to execute mining leases under xxmaj section 8(3 ) of the xxup mmdr xxmaj act in respect of those who had paid the renewal fees or stamp duty . xxmaj the xxmaj high xxmaj court also directed the xxmaj state of xxmaj goa to decide their pending second renewal applications within a period of three months keeping in mind the provisions of xxmaj section 8(3 ) of the xxup mmdr xxmaj act ( presumably after paying the renewal fees or stamp duty in terms of the xxmaj government order of 21 st xxmaj february , 2013 ) . xxmaj the understanding by the xxmaj high xxmaj court of the decision of this xxmaj court in xxmaj goa xxmaj foundation is totally incorrect . \n",
       "  50 . xxmaj it appears from the contents of the xxmaj grant of xxmaj mining xxmaj leases xxmaj policy that in view of the decision of this xxmaj court in xxmaj goa xxmaj foundation the xxmaj state was actively considering a policy for granting fresh mining leases by considering several factors . xxmaj however , the decision and directions of the xxmaj high xxmaj court xxunk leaving no choice , according to the xxmaj state , but to completely abandon the process of grant of fresh mining leases through the process of competitive bidding for earning revenue and justify the abandonment . \n",
       "  51 . xxmaj as per the xxmaj grant of xxmaj mining xxmaj leases xxmaj policy , the xxmaj state of xxmaj goa therefore had two realistic options before it : ( i ) xxmaj to implement the judgment and order of this xxmaj court in xxmaj goa xxmaj foundation ( as understood by the xxmaj state of xxmaj goa ) and xxup s.l.p. ( c ) xxmaj no . 32138 of 2015 etc . xxmaj page 35 of 101 grant fresh mining leases in the manner felt appropriate and in accordance with law ; ( ii ) xxmaj to abide by the judgment of the xxmaj high xxmaj court ( and its understanding of the judgment of this xxmaj court in xxmaj goa xxmaj foundation while rejecting its understanding by the xxmaj state of xxmaj goa ) and grant second renewal to the mining leases in terms of xxmaj section 8(3 ) of the xxup mmdr xxmaj act . xxmaj the xxmaj state of xxmaj goa appears to have taken the view that challenging the decision of the xxmaj high xxmaj court ( and therefore abiding by the decision of this xxmaj court ) would delay the commencement of mining operations . xxmaj the xxmaj state took into consideration that a substantial portion of its revenue comes from the mining sector and that the xxmaj state had been virtually starved of funds on account of stoppage of mining operations . xxmaj therefore , the xxmaj state decided to grant a second renewal to the mining leases and not grant fresh leases . xxmaj this is quite apparent from the contents of the xxmaj grant of xxmaj mining xxmaj leases xxmaj policy wherein the above facts and conclusions have been stated in greater detail . xxmaj was this decision correct ? \n",
       "  52 . xxmaj learned counsel for the mining lease holders submitted that the renewal of a mining lease is equivalent to or amounts to the grant of a fresh lease and therefore when the mining leases were renewed , it amounted to the grant of a fresh lease in compliance with the directions of this xxmaj court . xxmaj reliance was placed upon xxmaj delhi xxmaj development xxmaj authority v. xxmaj durga xxmaj chand xxup s.l.p. ( c ) xxmaj no . 32138 of 2015 etc . xxmaj page 36 of 101 xxmaj xxunk wherein this xxmaj court held : \n",
       "  ( 1973 ) 2 xxup scc 825 12 1989 xxmaj supp ( 1 ) xxup scc 487 13 ( 2004 ) 12 xxup scc 118 14 ( 2015 ) 8 xxup scc 655 15 ( 1997 ) 1 xxup scc 650 xxup s.l.p. ( c ) xxmaj no . 32138 of 2015 etc . xxmaj page 37 of 101 \n",
       "  55 . xxmaj there is no doubt that the renewal of a lease is virtually the same as the grant of a fresh lease but a converse direction to grant a mining lease can not be understood to mean granting a renewal of a mining lease . xxmaj obviously , the grant of a fresh lease is not the same as the renewal of a lease and when the xxmaj court in xxmaj goa xxmaj foundation required the xxmaj state of xxmaj goa to grant a fresh lease , it did not require the xxmaj state to renew the existing ( expired ) lease . xxmaj the xxmaj court could have explicitly declared and directed the xxmaj state of xxmaj goa to grant a second renewal of the mining leases rather than to say it in a xxunk manner that it should do so by granting a fresh lease equivalent to a renewal . xxmaj we simply can not accept the submissions made by learned counsel for the mining lease holders in this regard . \n",
       "  56 . xxmaj that apart , as we have already noted above , the context and material on record xxunk the thought that the xxmaj court in xxmaj goa xxmaj foundation did not mandate the grant of fresh mining leases in accordance with law . \n",
       "  57 . xxmaj learned counsel for the mining lease holders contended that the very same learned judges that decided xxmaj goa xxmaj foundation permitted the xxmaj state xxmaj government in xxmaj common xxmaj cause v. xxmaj union of xxmaj india16 to consider granting a second renewal of mining leases under xxmaj section 8(3 ) of the xxup mmdr xxmaj act . xxmaj therefore the requirement in xxmaj goa xxmaj foundation for the grant of „ fresh xxunk 16 ( 2014 ) 14 xxup scc 155 xxup s.l.p. ( c ) xxmaj no . 32138 of 2015 etc . xxmaj page 38 of 101 must be understood in a manner similar to what was directed in xxmaj common xxmaj cause . xxmaj we are unable to accept this contention . xxmaj the direction given in xxmaj common xxmaj cause was an interim direction and not a final direction as in xxmaj goa xxmaj foundation . xxmaj moreover , the facts in both cases are not at all similar so as to warrant a similar order being passed or understood . xxmaj finally , the fact that the same set of learned judges thought it fit to direct the grant of „ fresh xxunk in one set of cases and thought it fit to direct consideration of a „ second xxunk in another set of cases indicates that the learned judges were aware of the difference in directions . xxmaj therefore when the leaned judges directed the grant of „ fresh xxunk in xxmaj goa xxmaj foundation it was a deliberate and conscious decision distinct and different from granting a second renewal of expired mining leases . \n",
       "  58 . xxmaj in our opinion , the direction in xxmaj goa xxmaj foundation is quite clear and instead of considering the grant of a second renewal of the mining leases , the xxmaj state of xxmaj goa was required to consider the grant of fresh mining leases . xxmaj therefore the decision of the xxmaj state of xxmaj goa to grant a second renewal of the mining leases is erroneous , contrary to the decision in xxmaj goa xxmaj foundation and must be and is quashed . \n",
       "  xxmaj whether the xxmaj state of xxmaj goa should have auctioned the mining leases ? \n",
       "  59 . xxmaj as mentioned in the xxmaj grant of xxmaj mining xxmaj leases xxmaj policy there were several xxup s.l.p. ( c ) xxmaj no . 32138 of 2015 etc . xxmaj page 39 of 101 options available to the xxmaj state of xxmaj goa . xxmaj it took the view that all its options were foreclosed post the decision of the xxmaj high xxmaj court and it was obliged to grant a second renewal of the mining leases . xxmaj we have already held that this was not so and that the decision to grant a second renewal of the mining leases was erroneous and fresh leases were required to be granted in accordance with the decision in xxmaj goa xxmaj foundation . xxmaj in view of our conclusion , the discussion on whether the xxmaj state of xxmaj goa should have auctioned the mining leases through a process of competitive bidding is now rendered academic . xxmaj however , since detailed submissions were made by learned counsel on both sides , including by the learned xxmaj additional xxmaj solicitor xxmaj general , we propose to express our views on the subject . \n",
       "  60 . xxmaj the discussion on the question of auction being the only method of allocation or disposal of natural resources arose due to the view expressed by this xxmaj court in xxmaj centre for xxmaj public xxmaj interest xxmaj litigation v. xxmaj union of xxmaj xxunk xxmaj in that decision ( hereafter referred to as xxup cpil – although this case is generally referred to as the 2 g scam case ) the xxmaj court dealt with the question of following a non - discriminatory policy for alienation of natural resources . xxmaj while doing so it was observed that an auction is “ perhaps the best method for discharging this burden ” and concluded by holding that “ while 17 ( 2012 ) 3 xxup scc 1 xxup s.l.p. ( c ) xxmaj no . 32138 of 2015 etc . xxmaj page 40 of 101 transferring or alienating the natural resources , the xxmaj state is duty - bound to adopt the method of auction by giving wide publicity so that all eligible persons can participate in the process . ” xxmaj this led to the belief that the view of this xxmaj court was that natural resources should be alienated or disposed of only by auction and by no other method . xxmaj the xxmaj court held in paragraphs 95 and 96 of the xxmaj report as follows : \n",
       "  61 . xxmaj in xxmaj manohar xxmaj lal xxmaj sharma v. xxmaj principal xxmaj xxunk a xxmaj bench of 3 judges of this xxmaj court paraphrased the above passages and observed that the view 18 ( 2014 ) 9 xxup scc 516 xxup s.l.p. ( c ) xxmaj no . 32138 of 2015 etc . xxmaj page 41 of 101 expressed in xxup cpil necessitated a reference by the xxmaj president of xxmaj india to this xxmaj court under xxmaj article 143(1 ) of the xxmaj constitution being xxmaj special xxmaj reference xxmaj no . 1 – xxmaj natural xxmaj resources xxmaj xxunk \n",
       "  62 . xxmaj what was the xxmaj advisory xxmaj opinion given by this xxmaj court in xxmaj natural xxmaj resources xxmaj allocation ? xxmaj among the questions referred for opinion were the following : \n",
       "  63 . xxmaj in the xxmaj reference , it was submitted before the xxmaj constitution xxmaj bench that paragraphs 94 to 96 in xxup cpil laid down the ratio vis - à - vis disposal of natural resources . xxmaj it was argued that “ these paragraphs lay down , as a proposition of law , that all natural resources across all sectors , and in all circumstances are to be disposed of by way of public auction , and on the other [ hand ] , it was urged that the observations therein were made only qua spectrum . ” \n",
       "  64 . xxmaj the submissions made by learned counsel were then discussed and thereafter this xxmaj court recorded its conclusions between paragraphs 82 and 84 of xxmaj natural xxmaj resources xxmaj allocation . xxmaj in paragraph 84 , it was held : 19 ( 2012 ) 10 xxup scc 1 xxup s.l.p. ( c ) xxmaj no . 32138 of 2015 etc . xxmaj page 42 of 101 “ 84 . xxmaj thus , having come to the conclusion that 2 g case20 does not deal with modes of allocation for natural resources , other than spectrum , we shall now proceed to answer the first question of the xxmaj reference pertaining to other natural resources , as the question subsumes the essence of the entire reference , particularly the set of first five questions . ” [ xxmaj emphasis supplied by us ] . \n",
       " \n",
       "  65 . xxmaj thereafter , while answering the first question in the xxmaj reference , the xxmaj court considered the issue from various perspectives . xxmaj it first dealt with the issue in the context of xxmaj article 14 and xxmaj article 39(b ) of the xxmaj constitution and concluded in paragraph 120 of the xxmaj report that the disposal of natural resources for revenue maximization through auctions is not a constitutional mandate . xxmaj it was held : \n",
       "  66 . xxmaj the issue was then considered from the standpoint of legitimate deviations from an auction . xxmaj after adverting to several decisions of this xxmaj court 20 xxmaj centre for xxmaj public xxmaj interest xxmaj litigation v. xxmaj union of xxmaj india ( xxup cpil case or 2 g scam case ) xxup s.l.p. ( c ) xxmaj no . 32138 of 2015 etc . xxmaj page 43 of 101 where auctions were not the favoured method of allocation of natural resources , it was held between paragraphs 129 and 131 of the xxmaj report as follows : \n",
       "  ( 1980 ) 4 xxup scc 1 xxup s.l.p. ( c ) xxmaj no . 32138 of 2015 etc . xxmaj page 44 of 101 \n",
       "  67 . xxmaj finally , the issue was considered from the point of view of the potential of abuse in allocation of natural resources other than through auction and in this context it was held in paragraph 135 of the xxmaj report : \n",
       "  68 . xxmaj the conclusion arrived at by the xxmaj constitution xxmaj bench was then recorded between paragraphs 148 and 150 of the xxmaj report in the following words : \n",
       " \n",
       "  xxmaj regard being had to the aforesaid precepts , we have opined that auction as a mode can not be conferred the status of a constitutional xxup s.l.p. ( c ) xxmaj no . 32138 of 2015 etc . xxmaj page 45 of 101 principle . xxmaj alienation of natural resources is a policy decision , and the means adopted for the same are thus , executive prerogatives . xxmaj however , when such a policy decision is not backed by a social or welfare purpose , and precious and scarce natural resources are alienated for commercial pursuits of profit maximising private entrepreneurs , adoption of means other than those that are competitive and maximise revenue may be arbitrary and face the wrath of xxmaj article 14 of the xxmaj constitution . xxmaj hence , rather than prescribing or proscribing a method , we believe , a judicial scrutiny of methods of disposal of natural resources should depend on the facts and circumstances of each case , in consonance with the principles which we have culled out above . xxmaj failing which , the xxmaj court , in exercise of power of judicial review , shall term the executive action as arbitrary , unfair , unreasonable and capricious due to its antimony with xxmaj article 14 of the xxmaj constitution . \n",
       "  xxmaj in conclusion , our answer to the first set of five questions is that auctions are not the only permissible method for disposal of all natural resources across all sectors and in all circumstances . ” [ xxmaj emphasis supplied by us ] . \n",
       " \n",
       "  69 . xxmaj it is therefore more than explicit that there is no constitutional requirement ( let alone a mandate ) for allocation of natural resources through the auction method ( other than spectrum ) but at the same time the auction process should not be given a go - bye without any justification – the decision to give a go - bye is judicially reviewable though the scope of judicial review might be rather restricted . xxmaj the melting pot of allocation of a natural resource , a social or welfare purpose and adherence to the requirements of xxmaj articles 14 and 39(b ) of the xxmaj constitution in matters of policy was a great leap forward fashioned by the xxmaj constitution xxmaj bench . xxmaj consequently , while xxup s.l.p. ( c ) xxmaj no . 32138 of 2015 etc . xxmaj page 46 of 101 there is no mandate , constitutional or otherwise , that natural resource allocation must be only by auction , it is certainly “ a more preferable method ” . xxmaj there are exceptions , such as when the natural resource allocation is for a “ social or welfare purpose ” . xxmaj on the other hand if the natural resource allocation is “ for commercial pursuits of profit maximising private entrepreneurs ” de hors any social or welfare purpose , then judicial review would be permissible and xxmaj article 14 of the xxmaj constitution would be attracted and if the executive action is found to be arbitrary , it would be struck down . xxmaj therefore , when it comes to natural resource allocation , the executive has a somewhat limited elbow room . \n",
       "  70 . xxmaj in his concurring opinion , xxmaj justice xxmaj khehar took the view ( in paragraph 186 of the xxmaj report ) that : “ … when natural resources are made available by the xxmaj state to private persons for commercial exploitation exclusively for their individual gains , the xxmaj state 's endeavour must be towards maximisation of revenue returns . ” [ xxmaj emphasis supplied by us ] xxmaj the learned judge concluded his opinion by agreeing that an auction is one of the price recovery mechanisms , but not the only one for allocation of natural resources . “ xxmaj that should not be understood to mean that it can never be a valid method for disposal of natural resources . ” xxmaj it was further held that natural resources can not be alienated by way of largesse – there must be a reciprocal xxup s.l.p. ( c ) xxmaj no . 32138 of 2015 etc . xxmaj page 47 of 101 consideration either in the form of earning revenue or sub - serving the common good or both . xxmaj the learned judge had this to say : \n",
       "  71 . xxmaj this issue was considered in xxmaj goa xxmaj foundation as well . xxmaj the xxmaj court adverted to xxmaj natural xxmaj resources xxmaj allocation in paragraph 81 of the xxmaj report and pithily expressed its view that the manner of granting a mining lease is a policy decision of the xxmaj state xxmaj government , but the decision can be examined by way of judicial review . xxmaj it was held : \n",
       "  xxup s.l.p. ( c ) xxmaj no . 32138 of 2015 etc . xxmaj page 48 of 101 “ xxmaj we are of the considered opinion that it is for the xxmaj state xxmaj government to decide as a matter of policy in what manner the leases of these mineral resources would be granted , but this decision has to be taken in accordance with the provisions of the xxup mmdr xxmaj act and the xxmaj rules made thereunder and in consonance with the constitutional provisions and the decision taken by the xxmaj state of xxmaj goa to grant a mining lease in a particular manner or to a particular party can be examined by way of judicial review by the xxmaj court . ” [ xxmaj emphasis supplied by us ] . \n",
       "  xxmaj it was then declared in paragraph 87.5 of the xxmaj report that : \n",
       " \n",
       "  xxmaj similarly , in xxmaj manohar xxmaj lal xxmaj sharma this xxmaj court adverted to the issue and noted the following in paragraph 98 of the xxmaj report : \n",
       " \n",
       "  74 . xxmaj till fairly recently , policy matters particularly of economic policy were hands - off as far as the courts were xxunk xxmaj but the recent decisions of this xxmaj court , including by the xxmaj constitution xxmaj bench in its advisory jurisdiction , have partially modified this theory and kept open the window to judicially review such a policy if it does not serve the common good as understood in xxmaj article 39(b ) of the xxmaj constitution , if it violates xxmaj article 14 of the xxmaj constitution and xxunk natural resources for maximizing profits of private entrepreneurs while xxunk xxmaj article 39(b ) of the xxmaj constitution . “ xxmaj the legislature and the executive are answerable to the xxmaj constitution and it is there where the judiciary , the guardian of the xxmaj constitution , must find the contours to the powers of disposal of natural resources , especially xxmaj article 14 and xxmaj article 39(b ) [ of the xxmaj xxunk \n",
       "  75 . xxmaj notwithstanding this , a xxmaj court must exercise restraint and not set aside xxmaj government policy only because it disagrees with it or because a better policy could be framed or simply because it has the power to set aside the policy . xxmaj policies framed by the xxmaj state , after due consideration , must be 24 xxup balco xxmaj employees ’ xxmaj union ( xxmaj regd ) v. xxmaj union of xxmaj india , ( 2002 ) 2 xxup scc 333 at paragraphs 46 and 47 25 xxmaj paragraph 95 of the xxmaj natural xxmaj resource xxmaj allocation decision xxup s.l.p. ( c ) xxmaj no . 32138 of 2015 etc . xxmaj page 52 of 101 respected and given enough elbow room and flexibility for implementation . xxmaj of course , there would be occasions when the implementation of a policy has teething problems or some lacuna is discovered at a slightly later stage , but that does not mean that policy itself is defective . xxmaj therefore , xxmaj courts must be very cautious and circumspect in diluting or setting aside a policy and must do so only if it is constitutionally unavoidable , otherwise good governance could be a casualty . \n",
       " \n",
       "  76 . xxmaj the conclusions that could be drawn from all these decisions are : ( i ) xxmaj it is not obligatory , constitutionally or otherwise , that a natural resource ( other than spectrum ) must be disposed of or alienated or allocated only through an auction or through competitive bidding ; ( ii ) xxmaj where xxeos\n",
       "y: CategoryList\n",
       "CRIMINAL,CIVIL,CIVIL,CRIMINAL,CIVIL\n",
       "Path: /content/drive/My Drive/Colab Notebooks/Judgements;\n",
       "\n",
       "Test: None, model=SequentialRNN(\n",
       "  (0): MultiBatchEncoder(\n",
       "    (module): AWD_LSTM(\n",
       "      (encoder): Embedding(60000, 400, padding_idx=1)\n",
       "      (encoder_dp): EmbeddingDropout(\n",
       "        (emb): Embedding(60000, 400, padding_idx=1)\n",
       "      )\n",
       "      (rnns): ModuleList(\n",
       "        (0): WeightDropout(\n",
       "          (module): LSTM(400, 1152, batch_first=True)\n",
       "        )\n",
       "        (1): WeightDropout(\n",
       "          (module): LSTM(1152, 1152, batch_first=True)\n",
       "        )\n",
       "        (2): WeightDropout(\n",
       "          (module): LSTM(1152, 400, batch_first=True)\n",
       "        )\n",
       "      )\n",
       "      (input_dp): RNNDropout()\n",
       "      (hidden_dps): ModuleList(\n",
       "        (0): RNNDropout()\n",
       "        (1): RNNDropout()\n",
       "        (2): RNNDropout()\n",
       "      )\n",
       "    )\n",
       "  )\n",
       "  (1): PoolingLinearClassifier(\n",
       "    (layers): Sequential(\n",
       "      (0): BatchNorm1d(1200, eps=1e-05, momentum=0.1, affine=True, track_running_stats=True)\n",
       "      (1): Dropout(p=0.2, inplace=False)\n",
       "      (2): Linear(in_features=1200, out_features=50, bias=True)\n",
       "      (3): ReLU(inplace=True)\n",
       "      (4): BatchNorm1d(50, eps=1e-05, momentum=0.1, affine=True, track_running_stats=True)\n",
       "      (5): Dropout(p=0.1, inplace=False)\n",
       "      (6): Linear(in_features=50, out_features=3, bias=True)\n",
       "    )\n",
       "  )\n",
       "), opt_func=functools.partial(<class 'torch.optim.adam.Adam'>, betas=(0.9, 0.99)), loss_func=FlattenedLoss of CrossEntropyLoss(), metrics=[<function accuracy at 0x7f869dc869d8>], true_wd=True, bn_wd=True, wd=0.01, train_bn=True, path=PosixPath('/content/drive/My Drive/Colab Notebooks/Judgements'), model_dir='models', callback_fns=[functools.partial(<class 'fastai.basic_train.Recorder'>, add_time=True, silent=False)], callbacks=[...], layer_groups=[Sequential(\n",
       "  (0): Embedding(60000, 400, padding_idx=1)\n",
       "  (1): EmbeddingDropout(\n",
       "    (emb): Embedding(60000, 400, padding_idx=1)\n",
       "  )\n",
       "), Sequential(\n",
       "  (0): WeightDropout(\n",
       "    (module): LSTM(400, 1152, batch_first=True)\n",
       "  )\n",
       "  (1): RNNDropout()\n",
       "), Sequential(\n",
       "  (0): WeightDropout(\n",
       "    (module): LSTM(1152, 1152, batch_first=True)\n",
       "  )\n",
       "  (1): RNNDropout()\n",
       "), Sequential(\n",
       "  (0): WeightDropout(\n",
       "    (module): LSTM(1152, 400, batch_first=True)\n",
       "  )\n",
       "  (1): RNNDropout()\n",
       "), Sequential(\n",
       "  (0): PoolingLinearClassifier(\n",
       "    (layers): Sequential(\n",
       "      (0): BatchNorm1d(1200, eps=1e-05, momentum=0.1, affine=True, track_running_stats=True)\n",
       "      (1): Dropout(p=0.2, inplace=False)\n",
       "      (2): Linear(in_features=1200, out_features=50, bias=True)\n",
       "      (3): ReLU(inplace=True)\n",
       "      (4): BatchNorm1d(50, eps=1e-05, momentum=0.1, affine=True, track_running_stats=True)\n",
       "      (5): Dropout(p=0.1, inplace=False)\n",
       "      (6): Linear(in_features=50, out_features=3, bias=True)\n",
       "    )\n",
       "  )\n",
       ")], add_time=True, silent=False)\n",
       "alpha: 2.0\n",
       "beta: 1.0], layer_groups=[Sequential(\n",
       "  (0): Embedding(60000, 400, padding_idx=1)\n",
       "  (1): EmbeddingDropout(\n",
       "    (emb): Embedding(60000, 400, padding_idx=1)\n",
       "  )\n",
       "), Sequential(\n",
       "  (0): WeightDropout(\n",
       "    (module): LSTM(400, 1152, batch_first=True)\n",
       "  )\n",
       "  (1): RNNDropout()\n",
       "), Sequential(\n",
       "  (0): WeightDropout(\n",
       "    (module): LSTM(1152, 1152, batch_first=True)\n",
       "  )\n",
       "  (1): RNNDropout()\n",
       "), Sequential(\n",
       "  (0): WeightDropout(\n",
       "    (module): LSTM(1152, 400, batch_first=True)\n",
       "  )\n",
       "  (1): RNNDropout()\n",
       "), Sequential(\n",
       "  (0): PoolingLinearClassifier(\n",
       "    (layers): Sequential(\n",
       "      (0): BatchNorm1d(1200, eps=1e-05, momentum=0.1, affine=True, track_running_stats=True)\n",
       "      (1): Dropout(p=0.2, inplace=False)\n",
       "      (2): Linear(in_features=1200, out_features=50, bias=True)\n",
       "      (3): ReLU(inplace=True)\n",
       "      (4): BatchNorm1d(50, eps=1e-05, momentum=0.1, affine=True, track_running_stats=True)\n",
       "      (5): Dropout(p=0.1, inplace=False)\n",
       "      (6): Linear(in_features=50, out_features=3, bias=True)\n",
       "    )\n",
       "  )\n",
       ")], add_time=True, silent=False)"
      ]
     },
     "execution_count": 71,
     "metadata": {
      "tags": []
     },
     "output_type": "execute_result"
    }
   ],
   "source": [
    "classifier = text_classifier_learner(data_clas, arch= AWD_LSTM,drop_mult=0.5,max_len=60000)\n",
    "classifier.load_encoder('fine_enc')                "
   ]
  },
  {
   "cell_type": "code",
   "execution_count": null,
   "metadata": {
    "colab": {},
    "colab_type": "code",
    "id": "W2xM2xvekq5g"
   },
   "outputs": [],
   "source": [
    "# import pickle\n",
    "# pickle.dump(classifier,open(path/'class.pk1','wb'))\n",
    "# classifier.lr_find()\n",
    "# classifier.recorder.plot()       \n",
    "# classifier.save_encoder('fine_enc_class')   "
   ]
  },
  {
   "cell_type": "code",
   "execution_count": null,
   "metadata": {
    "colab": {},
    "colab_type": "code",
    "id": "y4pqaefVqNak"
   },
   "outputs": [],
   "source": []
  },
  {
   "cell_type": "code",
   "execution_count": null,
   "metadata": {
    "colab": {
     "base_uri": "https://localhost:8080/",
     "height": 235
    },
    "colab_type": "code",
    "executionInfo": {
     "elapsed": 10562760,
     "status": "ok",
     "timestamp": 1589654090979,
     "user": {
      "displayName": "Akshay Tiwari",
      "photoUrl": "https://lh3.googleusercontent.com/a-/AOh14Gh_TWpk4u1Wa_FKphLjiNy_0rzD7hieOf1oU5VWeQ=s64",
      "userId": "03055594998709423173"
     },
     "user_tz": -330
    },
    "id": "bxMlAOfjVCA6",
    "outputId": "26e1c8ea-dd57-4c4a-861a-2faa91da2035"
   },
   "outputs": [
    {
     "data": {
      "text/html": [
       "<table border=\"1\" class=\"dataframe\">\n",
       "  <thead>\n",
       "    <tr style=\"text-align: left;\">\n",
       "      <th>epoch</th>\n",
       "      <th>train_loss</th>\n",
       "      <th>valid_loss</th>\n",
       "      <th>accuracy</th>\n",
       "      <th>time</th>\n",
       "    </tr>\n",
       "  </thead>\n",
       "  <tbody>\n",
       "    <tr>\n",
       "      <td>0</td>\n",
       "      <td>0.882102</td>\n",
       "      <td>0.702731</td>\n",
       "      <td>0.800839</td>\n",
       "      <td>30:26</td>\n",
       "    </tr>\n",
       "    <tr>\n",
       "      <td>1</td>\n",
       "      <td>0.548934</td>\n",
       "      <td>0.434286</td>\n",
       "      <td>0.844864</td>\n",
       "      <td>28:07</td>\n",
       "    </tr>\n",
       "    <tr>\n",
       "      <td>2</td>\n",
       "      <td>0.440273</td>\n",
       "      <td>0.430360</td>\n",
       "      <td>0.801887</td>\n",
       "      <td>28:01</td>\n",
       "    </tr>\n",
       "    <tr>\n",
       "      <td>3</td>\n",
       "      <td>0.378587</td>\n",
       "      <td>0.384850</td>\n",
       "      <td>0.834382</td>\n",
       "      <td>29:15</td>\n",
       "    </tr>\n",
       "    <tr>\n",
       "      <td>4</td>\n",
       "      <td>0.338595</td>\n",
       "      <td>0.325731</td>\n",
       "      <td>0.878407</td>\n",
       "      <td>28:51</td>\n",
       "    </tr>\n",
       "    <tr>\n",
       "      <td>5</td>\n",
       "      <td>0.361650</td>\n",
       "      <td>0.349544</td>\n",
       "      <td>0.855346</td>\n",
       "      <td>30:54</td>\n",
       "    </tr>\n",
       "  </tbody>\n",
       "</table>"
      ],
      "text/plain": [
       "<IPython.core.display.HTML object>"
      ]
     },
     "metadata": {
      "tags": []
     },
     "output_type": "display_data"
    }
   ],
   "source": [
    "classifier.fit_one_cycle(6,1e-03)                                        "
   ]
  },
  {
   "cell_type": "code",
   "execution_count": null,
   "metadata": {
    "colab": {},
    "colab_type": "code",
    "id": "0UVRiFbMqQiZ"
   },
   "outputs": [],
   "source": [
    "classifier.freeze_to(-2)\n",
    "classifier.fit_one_cycle(2,1e-03,moms=(0.8,0.7))"
   ]
  },
  {
   "cell_type": "code",
   "execution_count": null,
   "metadata": {
    "colab": {},
    "colab_type": "code",
    "id": "SHuZGQRz7Tvy"
   },
   "outputs": [],
   "source": []
  },
  {
   "cell_type": "code",
   "execution_count": null,
   "metadata": {
    "colab": {},
    "colab_type": "code",
    "id": "2jEovwqN77fb"
   },
   "outputs": [],
   "source": []
  },
  {
   "cell_type": "code",
   "execution_count": null,
   "metadata": {
    "colab": {},
    "colab_type": "code",
    "id": "6dfif6qdy6_g"
   },
   "outputs": [],
   "source": []
  },
  {
   "cell_type": "code",
   "execution_count": null,
   "metadata": {
    "colab": {},
    "colab_type": "code",
    "id": "lhzNtM-cAg1k"
   },
   "outputs": [],
   "source": []
  },
  {
   "cell_type": "code",
   "execution_count": null,
   "metadata": {
    "colab": {},
    "colab_type": "code",
    "id": "jXTvuG4WApm4"
   },
   "outputs": [],
   "source": []
  },
  {
   "cell_type": "code",
   "execution_count": null,
   "metadata": {
    "colab": {},
    "colab_type": "code",
    "id": "tZAD91olkOna"
   },
   "outputs": [],
   "source": []
  },
  {
   "cell_type": "code",
   "execution_count": null,
   "metadata": {
    "colab": {},
    "colab_type": "code",
    "id": "oJ8hJYXImF_Z"
   },
   "outputs": [],
   "source": []
  },
  {
   "cell_type": "code",
   "execution_count": null,
   "metadata": {
    "colab": {},
    "colab_type": "code",
    "id": "9BXKuKJnoDxc"
   },
   "outputs": [],
   "source": []
  },
  {
   "cell_type": "code",
   "execution_count": null,
   "metadata": {
    "colab": {},
    "colab_type": "code",
    "id": "VrKZ5nWvoFI3"
   },
   "outputs": [],
   "source": []
  }
 ],
 "metadata": {
  "accelerator": "GPU",
  "colab": {
   "collapsed_sections": [],
   "name": "judgements.ipynb",
   "provenance": []
  },
  "kernelspec": {
   "display_name": "Python 3",
   "language": "python",
   "name": "python3"
  },
  "language_info": {
   "codemirror_mode": {
    "name": "ipython",
    "version": 3
   },
   "file_extension": ".py",
   "mimetype": "text/x-python",
   "name": "python",
   "nbconvert_exporter": "python",
   "pygments_lexer": "ipython3",
   "version": "3.7.6"
  }
 },
 "nbformat": 4,
 "nbformat_minor": 1
}
